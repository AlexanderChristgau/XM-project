{
 "cells": [
  {
   "cell_type": "markdown",
   "metadata": {},
   "source": [
    "# Compute monomials and relations from multiplication table in A(9)"
   ]
  },
  {
   "cell_type": "code",
   "execution_count": 1,
   "metadata": {},
   "outputs": [],
   "source": [
    "#Load .txt file which contains multiplication table of A(9)\n",
    "file1 = open('multiplicationtableA9.txt', 'r') \n",
    "Lines = file1.readlines()"
   ]
  },
  {
   "cell_type": "code",
   "execution_count": 2,
   "metadata": {},
   "outputs": [],
   "source": [
    "#Define function for reading the specific lines of the file\n",
    "def read_string(s):\n",
    "    L = s.split()\n",
    "    \n",
    "    g = L[2]\n",
    "    values = {}\n",
    "    \n",
    "    for a in L[4:]:\n",
    "        if a == \"+\":\n",
    "            pass\n",
    "        else:\n",
    "            x = a.split(\"*\")\n",
    "            values[x[1]] = int(x[0])\n",
    "    return g, values"
   ]
  },
  {
   "cell_type": "code",
   "execution_count": 3,
   "metadata": {},
   "outputs": [],
   "source": [
    "# collect multiplication tables from (x,y,z,w) = (g_2, g_2^2, g_2^3, g_2^4)\n",
    "xtable = {}\n",
    "ytable = {}\n",
    "ztable = {}\n",
    "wtable = {}\n",
    "\n",
    "for line in Lines: \n",
    "    if line[0:5] == \"g_2^1\":\n",
    "        key,val = read_string(line)\n",
    "        xtable[key] = val\n",
    "    if line[0:5] == \"g_2^2\":\n",
    "        key,val = read_string(line)\n",
    "        ytable[key] = val\n",
    "    if line[0:5] == \"g_2^3\":\n",
    "        key,val = read_string(line)\n",
    "        ztable[key] = val\n",
    "    if line[0:5] == \"g_2^4\":\n",
    "        key,val = read_string(line)\n",
    "        wtable[key] = val\n",
    "        \n",
    "table = {\"g_2^1\":xtable, \"g_2^2\":ytable, \"g_2^3\":ztable, \"g_2^4\":wtable}"
   ]
  },
  {
   "cell_type": "code",
   "execution_count": 4,
   "metadata": {},
   "outputs": [],
   "source": [
    "# Write a function which can multiply elements in A(d) with generators (x,y,z,w) based on multiplication table\n",
    "def multiplication(generator, g_dic):\n",
    "    if type(g_dic) == str:\n",
    "        g_dic = {g_dic:1}\n",
    "    \n",
    "    tab = table[generator]\n",
    "    \n",
    "    product = {}\n",
    "    for k1, v1 in g_dic.items():\n",
    "        if k1 not in tab.keys():\n",
    "            pass\n",
    "        else:\n",
    "            eq = tab[k1]\n",
    "            for k2,v2 in eq.items():\n",
    "                if k2 in product.keys():\n",
    "                    product[k2] += v1*v2\n",
    "                else:\n",
    "                    product[k2] = v1*v2\n",
    "    return product"
   ]
  },
  {
   "cell_type": "code",
   "execution_count": 5,
   "metadata": {},
   "outputs": [],
   "source": [
    "# Generate all monomials, will conatain dublicates such as xxy and yxx.\n",
    "def gen_monoms(alphabet = \"xyzw\"):\n",
    "    \n",
    "    generators = [\"g_2^1\",\"g_2^2\",\"g_2^3\",\"g_2^4\"]\n",
    "    \n",
    "    monomials = [(name,{g:1}) for name,g in zip(alphabet,generators)]\n",
    "\n",
    "    iters = 0\n",
    "    for char, generator in zip(alphabet,generators):\n",
    "        for name,g in monomials:\n",
    "            prod = multiplication(generator, g)\n",
    "            \n",
    "            if prod == {}:\n",
    "                pass\n",
    "            else:\n",
    "                monomials.append((name+char, prod))\n",
    "                iters +=1\n",
    "                if iters > 1000:\n",
    "                    return monomials\n",
    "    return monomials"
   ]
  },
  {
   "cell_type": "code",
   "execution_count": 6,
   "metadata": {},
   "outputs": [
    {
     "data": {
      "text/plain": [
       "[('x', {'g_2^1': 1}),\n",
       " ('y', {'g_2^2': 1}),\n",
       " ('z', {'g_2^3': 1}),\n",
       " ('w', {'g_2^4': 1}),\n",
       " ('xx', {'g_3^1': 3, 'g_2^2': 2}),\n",
       " ('yx', {'g_4^1': 2, 'g_2^1,3^1': 3, 'g_2^3': 3}),\n",
       " ('zx', {'g_2^1,4^1': 2, 'g_2^2,3^1': 3, 'g_2^4': 4}),\n",
       " ('wx', {'g_2^2,4^1': 2, 'g_2^3,3^1': 3}),\n",
       " ('xxx', {'g_4^1': 16, 'g_2^1,3^1': 9, 'g_2^3': 6}),\n",
       " ('yxx',\n",
       "  {'g_5^1': 25, 'g_2^1,4^1': 20, 'g_3^2': 18, 'g_2^2,3^1': 15, 'g_2^4': 12})]"
      ]
     },
     "execution_count": 6,
     "metadata": {},
     "output_type": "execute_result"
    }
   ],
   "source": [
    "monoms = gen_monoms()\n",
    "monoms[0:10]"
   ]
  },
  {
   "cell_type": "code",
   "execution_count": 7,
   "metadata": {},
   "outputs": [],
   "source": [
    "# Get the norm of a monomial so we can sort the equations by norm\n",
    "def get_norm(monomname):\n",
    "    answer = 0\n",
    "    D = {c:(i+1) for i,c in enumerate(\"xyzw\")}\n",
    "    for char in monomname:\n",
    "        answer += D[char]\n",
    "    return answer"
   ]
  },
  {
   "cell_type": "code",
   "execution_count": 8,
   "metadata": {},
   "outputs": [],
   "source": [
    "# Write functions so the output can be copy-pasted to TeX\n",
    "\n",
    "#add curly brackets to subscript\n",
    "def add_curl(string):\n",
    "    return string[0:2] + \"{\" + (string[2:]).replace(\"^1\",\"\") + \"}\"\n",
    "\n",
    "\n",
    "# Turns monomials xxy and yxx in to x^2y\n",
    "def format_monomname(string):\n",
    "    counts = {c:0 for c in \"xyzw\"}\n",
    "    for char in string:\n",
    "        counts[char] +=1\n",
    "    s = \"\"\n",
    "    for char in \"xyzw\":\n",
    "        if counts[char] == 1:\n",
    "            s += char\n",
    "        elif counts[char]>1:\n",
    "            s += char + \"^\" + str(counts[char])\n",
    "    return s\n",
    "\n",
    "# Output as an equation in TeX\n",
    "def to_tex(name, dic):\n",
    "    s = name\n",
    "    s += \" &= \"\n",
    "    for key, value in dic.items():\n",
    "        s += str(value) + add_curl(key) + \" + \"\n",
    "    return s[0:-3]+\"\\\\\\\\\""
   ]
  },
  {
   "cell_type": "code",
   "execution_count": 9,
   "metadata": {},
   "outputs": [],
   "source": [
    "# Sort the monomials and omit dublicates\n",
    "unique_names = set([])\n",
    "sorted_monoms = {i:[] for i in range(2,9)}\n",
    "for name, dic in monoms[4:]:\n",
    "    n = get_norm(name)\n",
    "    name2 = format_monomname(name)\n",
    "    if name2 in unique_names:\n",
    "        pass\n",
    "    else:\n",
    "        unique_names.add(name2)\n",
    "        sorted_monoms[n] += [(name2, dic)]"
   ]
  },
  {
   "cell_type": "code",
   "execution_count": 10,
   "metadata": {},
   "outputs": [
    {
     "name": "stdout",
     "output_type": "stream",
     "text": [
      "\\text{norm 2 equations} \\\\\n",
      "x^2 &= 3g_{3} + 2g_{2^2}\\\\\n",
      "\\text{norm 3 equations} \\\\\n",
      "xy &= 2g_{4} + 3g_{2,3} + 3g_{2^3}\\\\\n",
      "x^3 &= 16g_{4} + 9g_{2,3} + 6g_{2^3}\\\\\n",
      "\\text{norm 4 equations} \\\\\n",
      "xz &= 2g_{2,4} + 3g_{2^2,3} + 4g_{2^4}\\\\\n",
      "x^2y &= 25g_{5} + 20g_{2,4} + 18g_{3^2} + 15g_{2^2,3} + 12g_{2^4}\\\\\n",
      "x^4 &= 125g_{5} + 64g_{2,4} + 54g_{3^2} + 36g_{2^2,3} + 24g_{2^4}\\\\\n",
      "y^2 &= 5g_{5} + 4g_{2,4} + 9g_{3^2} + 6g_{2^2,3} + 6g_{2^4}\\\\\n",
      "\\text{norm 5 equations} \\\\\n",
      "xw &= 2g_{2^2,4} + 3g_{2^3,3}\\\\\n",
      "x^2z &= 12g_{6} + 25g_{2,5} + 12g_{3,4} + 24g_{2^2,4} + 18g_{2,3^2} + 21g_{2^3,3}\\\\\n",
      "x^3y &= 324g_{6} + 200g_{2,5} + 162g_{3,4} + 124g_{2^2,4} + 108g_{2,3^2} + 81g_{2^3,3}\\\\\n",
      "x^5 &= 1296g_{6} + 625g_{2,5} + 480g_{3,4} + 320g_{2^2,4} + 270g_{2,3^2} + 180g_{2^3,3}\\\\\n",
      "yz &= 3g_{6} + 5g_{2,5} + 6g_{3,4} + 6g_{2^2,4} + 9g_{2,3^2} + 9g_{2^3,3}\\\\\n",
      "xy^2 &= 81g_{6} + 55g_{2,5} + 44g_{2^2,4} + 60g_{3,4} + 45g_{2,3^2} + 36g_{2^3,3}\\\\\n",
      "\\text{norm 6 equations} \\\\\n",
      "x^2w &= 12g_{2,6} + 8g_{4^2} + 25g_{2^2,5} + 12g_{2,3,4}\\\\\n",
      "x^3z &= 343g_{7} + 360g_{2,6} + 225g_{3,5} + 275g_{2^2,5} + 192g_{4^2} + 198g_{2,3,4} + 162g_{3^3}\\\\\n",
      "x^4y &= 4802g_{7} + 2592g_{2,6} + 1950g_{3,5} + 1425g_{2^2,5} + 1792g_{4^2} + 1128g_{2,3,4} + 972g_{3^3}\\\\\n",
      "x^6 &= 16807g_{7} + 7776g_{2,6} + 5625g_{3,5} + 3750g_{2^2,5} + 5120g_{4^2} + 2880g_{2,3,4} + 2430g_{3^3}\\\\\n",
      "yw &= 3g_{2,6} + 4g_{4^2} + 5g_{2^2,5} + 6g_{2,3,4}\\\\\n",
      "xyz &= 98g_{7} + 96g_{2,6} + 72g_{4^2} + 90g_{3,5} + 85g_{2^2,5} + 78g_{2,3,4} + 81g_{3^3}\\\\\n",
      "x^2y^2 &= 1372g_{7} + 810g_{2,6} + 510g_{2^2,5} + 656g_{4^2} + 690g_{3,5} + 444g_{2,3,4} + 405g_{3^3}\\\\\n",
      "y^3 &= 392g_{7} + 243g_{2,6} + 165g_{2^2,5} + 280g_{4^2} + 225g_{3,5} + 180g_{2,3,4} + 162g_{3^3}\\\\\n",
      "z^2 &= 7g_{7} + 6g_{2,6} + 8g_{4^2} + 15g_{3,5} + 12g_{2,3,4} + 10g_{2^2,5} + 27g_{3^3}\\\\\n",
      "\\text{norm 7 equations} \\\\\n",
      "x^3w &= 128g_{8} + 343g_{2,7} + 108g_{3,6} + 150g_{4,5}\\\\\n",
      "x^4z &= 8192g_{8} + 6174g_{2,7} + 4104g_{3,6} + 3400g_{4,5}\\\\\n",
      "x^5y &= 81920g_{8} + 40817g_{2,7} + 29160g_{3,6} + 25250g_{4,5}\\\\\n",
      "x^7 &= 262144g_{8} + 117649g_{2,7} + 81648g_{3,6} + 70000g_{4,5}\\\\\n",
      "xyw &= 40g_{8} + 98g_{2,7} + 60g_{4,5} + 45g_{3,6}\\\\\n",
      "x^2yz &= 2560g_{8} + 1911g_{2,7} + 1280g_{4,5} + 1539g_{3,6}\\\\\n",
      "x^3y^2 &= 25600g_{8} + 13720g_{2,7} + 9280g_{4,5} + 10449g_{3,6}\\\\\n",
      "y^2z &= 800g_{8} + 588g_{2,7} + 520g_{4,5} + 522g_{3,6}\\\\\n",
      "xy^3 &= 8000g_{8} + 4508g_{2,7} + 3530g_{4,5} + 3645g_{3,6}\\\\\n",
      "zw &= 4g_{8} + 7g_{2,7} + 10g_{4,5} + 9g_{3,6}\\\\\n",
      "xz^2 &= 256g_{8} + 203g_{2,7} + 180g_{4,5} + 261g_{3,6}\\\\\n",
      "\\text{norm 8 equations} \\\\\n",
      "x^4w &= 6561g_{9}\\\\\n",
      "x^5z &= 196830g_{9}\\\\\n",
      "x^6y &= 1594323g_{9}\\\\\n",
      "x^8 &= 4782969g_{9}\\\\\n",
      "x^2yw &= 2187g_{9}\\\\\n",
      "x^3yz &= 65610g_{9}\\\\\n",
      "x^4y^2 &= 531441g_{9}\\\\\n",
      "y^2w &= 729g_{9}\\\\\n",
      "xy^2z &= 21870g_{9}\\\\\n",
      "x^2y^3 &= 177147g_{9}\\\\\n",
      "y^4 &= 59049g_{9}\\\\\n",
      "xzw &= 270g_{9}\\\\\n",
      "x^2z^2 &= 8100g_{9}\\\\\n",
      "yz^2 &= 2700g_{9}\\\\\n",
      "w^2 &= 9g_{9}\\\\\n"
     ]
    }
   ],
   "source": [
    "# Output to latex input\n",
    "for i in range(2,9):\n",
    "    print(\"\\\\text{norm \" + str(i) + \" equations} \\\\\\\\\")\n",
    "    for name,dic in sorted_monoms[i]:\n",
    "        print(to_tex(name,dic))"
   ]
  },
  {
   "cell_type": "markdown",
   "metadata": {},
   "source": [
    "### Compute relations by finding nulspace of coefficient matrices"
   ]
  },
  {
   "cell_type": "code",
   "execution_count": 11,
   "metadata": {},
   "outputs": [],
   "source": [
    "import numpy as np\n",
    "from sympy import *"
   ]
  },
  {
   "cell_type": "code",
   "execution_count": 12,
   "metadata": {},
   "outputs": [
    {
     "name": "stdout",
     "output_type": "stream",
     "text": [
      "norm 2 variables: ['g_2^2', 'g_3^1']\n",
      "relations: 0\n",
      "norm 3 variables: ['g_2^1,3^1', 'g_2^3', 'g_4^1']\n",
      "relations: 0\n",
      "norm 4 variables: ['g_2^1,4^1', 'g_2^2,3^1', 'g_2^4', 'g_3^2', 'g_5^1']\n",
      "relations: 0\n",
      "norm 5 variables: ['g_2^1,3^2', 'g_2^1,5^1', 'g_2^2,4^1', 'g_2^3,3^1', 'g_3^1,4^1', 'g_6^1']\n",
      "relations: 0\n",
      "norm 6 variables: ['g_2^1,3^1,4^1', 'g_2^1,6^1', 'g_2^2,5^1', 'g_3^1,5^1', 'g_3^3', 'g_4^2', 'g_7^1']\n",
      "relations: 2\n",
      "norm 7 variables: ['g_2^1,7^1', 'g_3^1,6^1', 'g_4^1,5^1', 'g_8^1']\n",
      "relations: 7\n",
      "norm 8 variables: ['g_9^1']\n",
      "relations: 14\n"
     ]
    }
   ],
   "source": [
    "for n in range(2,9):\n",
    "    key_names = set([])\n",
    "    for name, dic in sorted_monoms[n]:\n",
    "        for element in dic.keys():\n",
    "            key_names.add(element)\n",
    "    key_names = list(key_names)\n",
    "    key_names.sort()\n",
    "    \n",
    "    A = np.zeros((len(key_names),len(sorted_monoms[n])), dtype = int)\n",
    "\n",
    "    for i, key in enumerate(key_names):\n",
    "        for j, equation in enumerate(sorted_monoms[n]):\n",
    "            if key in (equation[1]).keys():\n",
    "                A[i,j] = (equation[1])[key]\n",
    "\n",
    "    print(\"norm\", n, \"variables:\" ,key_names)\n",
    "    #This computes the actural relations\n",
    "    #pprint(Matrix(A).nullspace()) \n",
    "    \n",
    "    #This computes the number of relations\n",
    "    print(\"relations:\", len(Matrix(A).nullspace())) "
   ]
  },
  {
   "cell_type": "markdown",
   "metadata": {},
   "source": [
    "### With a bit of thinking we can extract the relations in A(d)"
   ]
  },
  {
   "cell_type": "code",
   "execution_count": 13,
   "metadata": {},
   "outputs": [
    {
     "data": {
      "text/plain": [
       "9"
      ]
     },
     "execution_count": 13,
     "metadata": {},
     "output_type": "execute_result"
    }
   ],
   "source": [
    "# note that some cycletypes have too large support for A(8) such as \"g_2^3,3^1\":\n",
    "def support(s):\n",
    "    answer = 0\n",
    "    for substr in (s[2:]).split(\",\"):\n",
    "        answer += int(substr[0])*int(substr[2])\n",
    "    return answer\n",
    "support('g_2^3,3^1')"
   ]
  },
  {
   "cell_type": "code",
   "execution_count": 14,
   "metadata": {
    "scrolled": true
   },
   "outputs": [
    {
     "name": "stdout",
     "output_type": "stream",
     "text": [
      "Norm 2 Monomials ['x^2']\n",
      "#Relations: 0\n",
      "Norm 3 Monomials ['xy', 'x^3']\n",
      "#Relations: 0\n",
      "Norm 4 Monomials ['xz', 'x^2y', 'x^4', 'y^2']\n",
      "#Relations: 0\n",
      "Norm 5 Monomials ['xw', 'x^2z', 'x^3y', 'x^5', 'yz', 'xy^2']\n",
      "#Relations: 0\n",
      "Norm 6 Monomials ['x^2w', 'x^3z', 'x^4y', 'x^6', 'yw', 'xyz', 'x^2y^2', 'y^3', 'z^2']\n",
      "#Relations: 2\n",
      "Norm 7 Monomials ['x^3w', 'x^4z', 'x^5y', 'x^7', 'xyw', 'x^2yz', 'x^3y^2', 'y^2z', 'xy^3', 'zw', 'xz^2']\n",
      "#Relations: 7\n",
      "Norm 8 Monomials ['x^4w', 'x^5z', 'x^6y', 'x^8', 'x^2yw', 'x^3yz', 'x^4y^2', 'y^2w', 'xy^2z', 'x^2y^3', 'y^4', 'xzw', 'x^2z^2', 'yz^2', 'w^2']\n",
      "#Relations: 14\n"
     ]
    }
   ],
   "source": [
    "# Define a function which eliminates elements with too lage support and find relations\n",
    "def relations(d=9, only_number = True):\n",
    "    not_gens = \"wzyx\"[0:4-d//2] #Generators that vanish in lower dimension d.\n",
    "    \n",
    "    for n in range(2,d):\n",
    "        key_names = set([])\n",
    "        monom_names = []\n",
    "\n",
    "        # Get the relevant monomials and basis elements in A(d) of norm n.\n",
    "        for name, dic in sorted_monoms[n]:\n",
    "            # Consider only monomials of _non-zero_ generators:\n",
    "            monom_non_triv = True\n",
    "            for char in name:\n",
    "                if char in not_gens:\n",
    "                    monom_non_triv = False\n",
    "            if monom_non_triv:\n",
    "                monom_names.append(name)\n",
    "                # Take all summands with valid support\n",
    "                for element in dic.keys():\n",
    "                    if support(element) <= d: #Sort out elements with support equal to 9.\n",
    "                        key_names.add(element)\n",
    "        key_names = list(key_names)\n",
    "        \n",
    "        # Create a matrix with coefficients from the monomial equations\n",
    "        A = np.zeros((len(key_names),len(sorted_monoms[n])), dtype = int)\n",
    "\n",
    "        for i, key in enumerate(key_names):\n",
    "            for j, equation in enumerate(sorted_monoms[n]):\n",
    "                if key in (equation[1]).keys():\n",
    "                    A[i,j] = (equation[1])[key]\n",
    "\n",
    "        print(\"Norm\", n, \"Monomials\" ,monom_names)\n",
    "        if only_number:\n",
    "            print(\"#Relations:\", len(Matrix(A).nullspace())) #This computes the number of relations\n",
    "        else:\n",
    "            pprint(Matrix(A).nullspace())\n",
    "            \n",
    "relations()"
   ]
  },
  {
   "cell_type": "code",
   "execution_count": 15,
   "metadata": {},
   "outputs": [
    {
     "name": "stdout",
     "output_type": "stream",
     "text": [
      "Norm 2 Monomials ['x^2']\n",
      "[]\n",
      "Norm 3 Monomials ['xy', 'x^3']\n",
      "[]\n",
      "Norm 4 Monomials ['xz', 'x^2y', 'x^4', 'y^2']\n",
      "⎡⎡ 27 ⎤⎤\n",
      "⎢⎢ ── ⎥⎥\n",
      "⎢⎢ 10 ⎥⎥\n",
      "⎢⎢    ⎥⎥\n",
      "⎢⎢-19 ⎥⎥\n",
      "⎢⎢────⎥⎥\n",
      "⎢⎢ 20 ⎥⎥\n",
      "⎢⎢    ⎥⎥\n",
      "⎢⎢3/20⎥⎥\n",
      "⎢⎢    ⎥⎥\n",
      "⎣⎣ 1  ⎦⎦\n",
      "Norm 5 Monomials ['x^2z', 'x^3y', 'x^5', 'yz', 'xy^2']\n",
      "⎡⎡1⎤  ⎡ 0 ⎤  ⎡ 0  ⎤  ⎡ 0  ⎤  ⎡  0  ⎤⎤\n",
      "⎢⎢ ⎥  ⎢   ⎥  ⎢    ⎥  ⎢    ⎥  ⎢     ⎥⎥\n",
      "⎢⎢0⎥  ⎢-27⎥  ⎢-108⎥  ⎢-1/4⎥  ⎢-27/4⎥⎥\n",
      "⎢⎢ ⎥  ⎢   ⎥  ⎢    ⎥  ⎢    ⎥  ⎢     ⎥⎥\n",
      "⎢⎢0⎥  ⎢ 1 ⎥  ⎢ 0  ⎥  ⎢ 0  ⎥  ⎢  0  ⎥⎥\n",
      "⎢⎢ ⎥, ⎢   ⎥, ⎢    ⎥, ⎢    ⎥, ⎢     ⎥⎥\n",
      "⎢⎢0⎥  ⎢ 0 ⎥  ⎢ 1  ⎥  ⎢ 0  ⎥  ⎢  0  ⎥⎥\n",
      "⎢⎢ ⎥  ⎢   ⎥  ⎢    ⎥  ⎢    ⎥  ⎢     ⎥⎥\n",
      "⎢⎢0⎥  ⎢ 0 ⎥  ⎢ 0  ⎥  ⎢ 1  ⎥  ⎢  0  ⎥⎥\n",
      "⎢⎢ ⎥  ⎢   ⎥  ⎢    ⎥  ⎢    ⎥  ⎢     ⎥⎥\n",
      "⎣⎣0⎦  ⎣ 0 ⎦  ⎣ 0  ⎦  ⎣ 0  ⎦  ⎣  1  ⎦⎦\n"
     ]
    }
   ],
   "source": [
    "relations(6,False)"
   ]
  }
 ],
 "metadata": {
  "kernelspec": {
   "display_name": "Python 3",
   "language": "python",
   "name": "python3"
  },
  "language_info": {
   "codemirror_mode": {
    "name": "ipython",
    "version": 3
   },
   "file_extension": ".py",
   "mimetype": "text/x-python",
   "name": "python",
   "nbconvert_exporter": "python",
   "pygments_lexer": "ipython3",
   "version": "3.8.5"
  }
 },
 "nbformat": 4,
 "nbformat_minor": 2
}
