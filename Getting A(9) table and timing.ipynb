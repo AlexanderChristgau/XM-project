{
 "cells": [
  {
   "cell_type": "code",
   "execution_count": 1,
   "metadata": {},
   "outputs": [],
   "source": [
    "from sympy.combinatorics import *\n",
    "from sympy.interactive import init_printing #Enables more readable output of permutations.\n",
    "\n",
    "from tqdm.notebook import tqdm # Progressbars of for-loops.\n",
    "\n",
    "from math import factorial\n",
    "import numpy as np\n",
    "\n",
    "import pickle #File storing and reading\n",
    "\n",
    "init_printing(perm_cyclic=True, pretty_print=False) #prints permutations in compact notation"
   ]
  },
  {
   "cell_type": "code",
   "execution_count": 2,
   "metadata": {},
   "outputs": [],
   "source": [
    "import matplotlib.pyplot as plt\n",
    "import seaborn as sns\n",
    "import pandas as pd\n",
    "from timeit import default_timer\n",
    "\n",
    "from pympler.asizeof import asizeof\n",
    "\n",
    "from sklearn.linear_model import LinearRegression"
   ]
  },
  {
   "cell_type": "markdown",
   "metadata": {},
   "source": [
    "# Code base to allow computations in A(d)"
   ]
  },
  {
   "cell_type": "code",
   "execution_count": 3,
   "metadata": {
    "scrolled": true
   },
   "outputs": [
    {
     "data": {
      "text/plain": [
       "[(2 3), (3)(1 2), (1 3), (3)(0 1), (3)(0 2), (0 3)]"
      ]
     },
     "execution_count": 3,
     "metadata": {},
     "output_type": "execute_result"
    }
   ],
   "source": [
    "def gen_ctype(l: dict,n: int):\n",
    "    '''\n",
    "    Input:\n",
    "        l - cycle decompostion as a dictionary including 1 cycles. e.g. {1:2, 2:1} is a transposition in S_4\n",
    "        n - specifies order of symmetric group\n",
    "    Output:\n",
    "        Generates all permutations of specified cycletype as a list\n",
    "    '''\n",
    "    \n",
    "    has_to_be_partition = 0\n",
    "    for key, value in l.items():\n",
    "        has_to_be_partition = has_to_be_partition + key*value\n",
    "    if has_to_be_partition < n:\n",
    "        print(\"Invalid cycle type format.\")\n",
    "    else:\n",
    "        list_with_cycle_type = []\n",
    "        \n",
    "        #run through all permutations and append them if they have the correct cycletype\n",
    "        for i in list(symmetric(n)): \n",
    "            if i.cycle_structure == l:\n",
    "                list_with_cycle_type.append(i)            \n",
    "        return list_with_cycle_type\n",
    "    \n",
    "g2 = gen_ctype({1:2,2:1},4) #An example of all permutations with cycletype 2 (transpositions) in S_4\n",
    "g2"
   ]
  },
  {
   "cell_type": "code",
   "execution_count": 4,
   "metadata": {},
   "outputs": [],
   "source": [
    "def gen_all(d):\n",
    "    ''' Input: non-negative interger\n",
    "        Output: Dictionary of elements in the symmetric group with key being cycle type and value all permutations in S(d) with\n",
    "        that cycle type.\n",
    "    '''\n",
    "    answer = {}\n",
    "    \n",
    "    for i in tqdm(symmetric(d), total = factorial(d)):\n",
    "        C = ctype(i)\n",
    "        if C in answer.keys():\n",
    "            (answer[C]).append(i)\n",
    "        else:\n",
    "            answer[C] = [i]\n",
    "    answer.pop((d,),None)\n",
    "    return answer\n"
   ]
  },
  {
   "cell_type": "code",
   "execution_count": 5,
   "metadata": {},
   "outputs": [],
   "source": [
    "def norm(p, cycle_dict = None):\n",
    "    '''\n",
    "    Input: permutation p, optionally the cycle structure of p.\n",
    "    Output: The norm of p\n",
    "    '''\n",
    "    #If the cycle type of p is already computed we can reuse the result.\n",
    "    if cycle_dict == None:\n",
    "        cycle_dict = p.cycle_structure\n",
    "    sum_of_lengths = 0\n",
    "    num_cycles = 0\n",
    "    \n",
    "    #We use the formula N(sigma) = d-l if sigma has cyclestructure C_1C_2...C_l \n",
    "    for key, value in cycle_dict.items():\n",
    "        sum_of_lengths += key*value\n",
    "        num_cycles += value\n",
    "    return sum_of_lengths-num_cycles"
   ]
  },
  {
   "cell_type": "code",
   "execution_count": 6,
   "metadata": {},
   "outputs": [],
   "source": [
    "def norm2(p_tuple):\n",
    "    #Computes norm from cyclestructure written as a tuple\n",
    "    ans = 0\n",
    "    for i,p in enumerate(p_tuple):\n",
    "        ans += i*p\n",
    "    return ans"
   ]
  },
  {
   "cell_type": "code",
   "execution_count": 7,
   "metadata": {},
   "outputs": [],
   "source": [
    "def norm_check(p,q, norm_sum = None):\n",
    "    '''\n",
    "    Input: Permutations p and q, optionally the sum of their norms.\n",
    "    Output: True if N(pq) = N(p) + N(q), otherwise False.\n",
    "    '''\n",
    "    if norm_sum == None:\n",
    "        norm_sum = norm(p) + norm(q)\n",
    "    p_trans = set(p.transpositions())\n",
    "    q_trans = set(q.transpositions())\n",
    "    \n",
    "    if p_trans.intersection(q_trans) == set([]):\n",
    "        return norm(p*q)==norm_sum\n",
    "    return False"
   ]
  },
  {
   "cell_type": "code",
   "execution_count": 8,
   "metadata": {},
   "outputs": [
    {
     "data": {
      "text/plain": [
       "[(1 2 3), (1 3 2), (0 1)(2 3), (0 2 3), (0 3 2)]"
      ]
     },
     "execution_count": 8,
     "metadata": {},
     "output_type": "execute_result"
    }
   ],
   "source": [
    "def Aprod(p_list, q_list, norm_sum = None):\n",
    "    '''\n",
    "    Input:\n",
    "        - p_list and q_list, both lists of permutations corresponding to a conjugacy class in S_n\n",
    "        - The sum of the norm of the conjugacy classes (optional)\n",
    "    Output:\n",
    "        - The product of the two conjugacy classes according to A(d)\n",
    "    '''\n",
    "    if norm_sum:\n",
    "        return [s*t for s in p_list for t in q_list if norm_check(s,t,norm_sum)]\n",
    "    return [s*t for s in p_list for t in q_list if norm_check(s,t)]\n",
    "\n",
    "# Generate powers of g2, as \n",
    "g2_square = Aprod(g2,g2,2)\n",
    "g2_cube = Aprod(g2,g2_square,3)\n",
    "g2_square[0:5]"
   ]
  },
  {
   "cell_type": "code",
   "execution_count": 9,
   "metadata": {},
   "outputs": [
    {
     "data": {
      "text/plain": [
       "(2, 1)"
      ]
     },
     "execution_count": 9,
     "metadata": {},
     "output_type": "execute_result"
    }
   ],
   "source": [
    "def ctype(p):\n",
    "    '''\n",
    "    Input:\n",
    "        Sympy permutation\n",
    "    Output:\n",
    "        Gives cycletype of permutation as a tuple with i'th coordinate being multiplicity of i-cycles.\n",
    "    '''\n",
    "    d = p.cycle_structure\n",
    "    max_val = max(d.keys())\n",
    "    L = []\n",
    "    for i in range(1,max_val+1):\n",
    "        if i in list(d.keys()):\n",
    "            L.append(d[i])\n",
    "        else:\n",
    "            L.append(0)\n",
    "    return tuple(L)\n",
    "\n",
    "ctype(Permutation(3)(1,3)) # has 2 1-cycles (0 and 2) and one 2-cycle"
   ]
  },
  {
   "cell_type": "code",
   "execution_count": 10,
   "metadata": {},
   "outputs": [
    {
     "name": "stdout",
     "output_type": "stream",
     "text": [
      "g2 squared decomp {(1, 0, 1): 24, (0, 2): 6} \n",
      "g2 cubed decomp {(0, 0, 0, 1): 96}\n"
     ]
    }
   ],
   "source": [
    "def decompose(plist: list, progressbar=True):\n",
    "    '''\n",
    "    Input: List of permutations\n",
    "    Output: Decomposes list by occurences of cycletype\n",
    "    '''\n",
    "    cycle_count = {}\n",
    "    for p in tqdm(plist, disable = progressbar):\n",
    "        p_type = ctype(p)\n",
    "        if p_type in list(cycle_count.keys()):\n",
    "            cycle_count[p_type] += 1\n",
    "        else:\n",
    "            cycle_count[p_type] = 1\n",
    "    return cycle_count\n",
    "#Decomposes list of permutations into representatives of the conjugacy class, e.g. (g_2)^2 has 24 3-cycles and 6 2-cycles\n",
    "print(\"g2 squared decomp\", decompose(g2_square),\n",
    "      \"\\n\" \"g2 cubed decomp\", decompose(g2_cube))"
   ]
  },
  {
   "cell_type": "code",
   "execution_count": 11,
   "metadata": {},
   "outputs": [
    {
     "data": {
      "text/plain": [
       "6"
      ]
     },
     "execution_count": 11,
     "metadata": {},
     "output_type": "execute_result"
    }
   ],
   "source": [
    "def num_ctype(ctuple):\n",
    "    '''\n",
    "    Input: cycle type as a tuple\n",
    "    Output: number of permutations with given cycle type using \n",
    "    '''\n",
    "    n = sum((i+1)*ctuple[i] for i in range(len(ctuple)))\n",
    "    numerator = factorial(n)\n",
    "    denominator = 1\n",
    "    for i in range(len(ctuple)):\n",
    "        denominator *= ((i+1)**ctuple[i]) * factorial(ctuple[i])\n",
    "    return numerator // denominator\n",
    "\n",
    "num_ctype((2,1)) #Size of the conjugacy class of 2-cycles in d = 2*1+1*2 = 4"
   ]
  },
  {
   "cell_type": "code",
   "execution_count": 12,
   "metadata": {},
   "outputs": [],
   "source": [
    "def to_string(d):\n",
    "    # Takes cycletype from type dictionary to a string more humanly readable.\n",
    "    if type(d) == dict:\n",
    "        s = \"\"\n",
    "        for key, value in d.items():\n",
    "            s += str(value) + \"*\" + \"g_\"+ to_string(key) + \"  +  \"\n",
    "        return s[0:-3]\n",
    "    s = \"\"\n",
    "    for i,k in enumerate(d):\n",
    "        if i!=0 and k!= 0:\n",
    "            s+= str(i+1) + \"^\" + str(k) + \",\"\n",
    "    return s[0:-1]"
   ]
  },
  {
   "cell_type": "code",
   "execution_count": 13,
   "metadata": {},
   "outputs": [
    {
     "name": "stdout",
     "output_type": "stream",
     "text": [
      "g2 square {(1, 0, 1): 3, (0, 2): 2} \n",
      "g2 cube {(0, 0, 0, 1): 16}\n"
     ]
    }
   ],
   "source": [
    "def decompose2(plist, string_output = False):\n",
    "    '''\n",
    "    Input: list of permutations\n",
    "    Output: decomposition according to A(d)\n",
    "    '''\n",
    "    d = decompose(plist)\n",
    "    for i in d.keys():\n",
    "        d[i] //= num_ctype(i)\n",
    "        \n",
    "    if string_output:\n",
    "        return to_string(d)\n",
    "    return d\n",
    "#Same as decompose, but divided by the size of the conjugacy class, so (g_2)^2 = 3g_3+2g_{2^2}. This recovers the results from\n",
    "#project catalgoue\n",
    "print(\"g2 square\", decompose2(g2_square), \n",
    "      \"\\n\" \"g2 cube\", decompose2(g2_cube))"
   ]
  },
  {
   "cell_type": "markdown",
   "metadata": {},
   "source": [
    "# Measuring computations in  A(d)"
   ]
  },
  {
   "cell_type": "code",
   "execution_count": 14,
   "metadata": {},
   "outputs": [
    {
     "data": {
      "application/vnd.jupyter.widget-view+json": {
       "model_id": "8791c8ce5abd4918a0ed72a7946ecaec",
       "version_major": 2,
       "version_minor": 0
      },
      "text/plain": [
       "HBox(children=(HTML(value=''), FloatProgress(value=0.0, max=720.0), HTML(value='')))"
      ]
     },
     "metadata": {},
     "output_type": "display_data"
    },
    {
     "name": "stdout",
     "output_type": "stream",
     "text": [
      "\n"
     ]
    }
   ],
   "source": [
    "d=6\n",
    "basis = gen_all(d)"
   ]
  },
  {
   "cell_type": "code",
   "execution_count": 15,
   "metadata": {
    "scrolled": true
   },
   "outputs": [
    {
     "data": {
      "application/vnd.jupyter.widget-view+json": {
       "model_id": "1d916947fb8c4592b13471d223d00121",
       "version_major": 2,
       "version_minor": 0
      },
      "text/plain": [
       "HBox(children=(HTML(value=''), FloatProgress(value=0.0, max=3.0), HTML(value='')))"
      ]
     },
     "metadata": {},
     "output_type": "display_data"
    },
    {
     "name": "stdout",
     "output_type": "stream",
     "text": [
      "g_2^1 * g_2^1 = 3*g_3^1  +  2*g_2^2  \n",
      "g_2^1 * g_3^1 = 4*g_4^1  +  1*g_2^1,3^1  \n",
      "g_2^1 * g_2^2 = 2*g_4^1  +  3*g_2^1,3^1  +  3*g_2^3  \n",
      "g_2^1 * g_4^1 = 5*g_5^1  +  1*g_2^1,4^1  \n",
      "g_2^1 * g_2^1,3^1 = 5*g_5^1  +  4*g_2^1,4^1  +  6*g_3^2  \n",
      "g_2^2 * g_2^2 = 5*g_5^1  +  4*g_2^1,4^1  +  9*g_3^2  \n",
      "g_2^2 * g_2^1,3^1 = 18*g_6^1  \n",
      "\n",
      "Time: 5.757892511021055 , most memory (bytes): 1540080\n"
     ]
    }
   ],
   "source": [
    "#Multiplication table for generators\n",
    "generators = [((d-2*i,i),basis[(d-2*i,i)]) for i in range(1,d//2+1)]\n",
    "max_mem = 0\n",
    "time = 0\n",
    "\n",
    "\n",
    "for k1,v1 in tqdm(generators):\n",
    "    for k2,v2 in basis.items():\n",
    "        n = norm2(k1) + norm2(k2)\n",
    "        if n < d:\n",
    "            s = \"g_\"+to_string(k1) + \" * g_\" + to_string(k2)\n",
    "            \n",
    "            #Measure time of multiplication\n",
    "            start = default_timer()\n",
    "            prod = Aprod(v1,v2,n)\n",
    "            s += \" = \" + decompose2(prod, string_output = True)\n",
    "            end = default_timer()\n",
    "            time += end-start\n",
    "            \n",
    "            #Measure memory product\n",
    "            mem = asizeof(prod)\n",
    "            if mem > max_mem:\n",
    "                max_mem = mem\n",
    "                print(s)\n",
    "print(\"Time:\", time, \",\" , \"most memory (bytes):\", max_mem)"
   ]
  },
  {
   "cell_type": "markdown",
   "metadata": {},
   "source": [
    "### Predicting time for A(10)"
   ]
  },
  {
   "cell_type": "code",
   "execution_count": 16,
   "metadata": {},
   "outputs": [],
   "source": [
    "d_vals = list(range(5,10))\n",
    "runtimes = [0.25, 3.59, 71, 1604, 14*3600]\n",
    "memory = [111560,1540080, 22422344, 223715480, 2415002808]\n",
    "\n",
    "df = pd.DataFrame(data = {\"d\": d_vals, \"Runtime\":runtimes,\n",
    "                          \"log(Runtime)\":np.log(runtimes),\n",
    "                          \"log(Memory)\":np.log(memory)})"
   ]
  },
  {
   "cell_type": "code",
   "execution_count": 17,
   "metadata": {},
   "outputs": [
    {
     "name": "stdout",
     "output_type": "stream",
     "text": [
      "Predictions for d = 10 and d = 11\n",
      "Time (hours): [ 231.1055269  4894.62505387] \n",
      " Memory (GB): [ 30.38510435 368.09323387]\n"
     ]
    }
   ],
   "source": [
    "x = np.array(d_vals).reshape((-1,1))\n",
    "\n",
    "model1 = LinearRegression().fit(x, np.log(runtimes))\n",
    "model2 = LinearRegression().fit(x, np.log(memory))\n",
    "\n",
    "print(\"Predictions for d = 10 and d = 11\")\n",
    "print(\"Time (hours):\", np.exp(model1.predict([[10],[11]])) / 3600, \"\\n\",\n",
    "      \"Memory (GB):\", np.exp(model2.predict([[10],[11]])) / (2**30))"
   ]
  },
  {
   "cell_type": "code",
   "execution_count": 18,
   "metadata": {},
   "outputs": [
    {
     "data": {
      "image/png": "[encoded data removed]",
      "text/plain": [
       "<Figure size 1080x720 with 2 Axes>"
      ]
     },
     "metadata": {},
     "output_type": "display_data"
    }
   ],
   "source": [
    "sns.set_style(\"whitegrid\")\n",
    "fig, (ax1, ax2) = plt.subplots(nrows = 2, sharex=True, figsize=(15,10))\n",
    "sns_plot = sns.regplot(x=\"d\",y=\"log(Runtime)\",data=df,\n",
    "                       truncate = False,\n",
    "                       color='red', ax = ax1)\n",
    "\n",
    "sns_plot = sns.regplot(x=\"d\",y=\"log(Memory)\",data=df,\n",
    "                       truncate = False, ax=ax2)\n",
    "plt.show()"
   ]
  },
  {
   "cell_type": "code",
   "execution_count": null,
   "metadata": {},
   "outputs": [],
   "source": []
  }
 ],
 "metadata": {
  "kernelspec": {
   "display_name": "Python 3",
   "language": "python",
   "name": "python3"
  },
  "language_info": {
   "codemirror_mode": {
    "name": "ipython",
    "version": 3
   },
   "file_extension": ".py",
   "mimetype": "text/x-python",
   "name": "python",
   "nbconvert_exporter": "python",
   "pygments_lexer": "ipython3",
   "version": "3.8.5"
  }
 },
 "nbformat": 4,
 "nbformat_minor": 2
}
