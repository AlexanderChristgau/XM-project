{
 "cells": [
  {
   "cell_type": "code",
   "execution_count": 1,
   "metadata": {},
   "outputs": [],
   "source": [
    "import numpy as np\n",
    "from sympy import * \n",
    "from tqdm.notebook import tqdm\n",
    "\n",
    "from scipy.special import comb"
   ]
  },
  {
   "cell_type": "code",
   "execution_count": 2,
   "metadata": {},
   "outputs": [],
   "source": [
    "def pascal_matrix(n):\n",
    "    M = np.zeros((n,n)).astype(\"int\")\n",
    "    for j in range(n):\n",
    "        lower, upper = max(j-1,0),min(2*j+2,n)\n",
    "        for i in range(lower, upper):\n",
    "            M[i,j] = comb(j+2,i-lower, exact=True)\n",
    "    M[0,0] = 2\n",
    "    M[1,0] = 1\n",
    "    return(M)"
   ]
  },
  {
   "cell_type": "code",
   "execution_count": 3,
   "metadata": {},
   "outputs": [
    {
     "data": {
      "text/plain": [
       "array([[ 2,  1,  0,  0,  0,  0,  0,  0,  0],\n",
       "       [ 1,  3,  1,  0,  0,  0,  0,  0,  0],\n",
       "       [ 0,  3,  4,  1,  0,  0,  0,  0,  0],\n",
       "       [ 0,  1,  6,  5,  1,  0,  0,  0,  0],\n",
       "       [ 0,  0,  4, 10,  6,  1,  0,  0,  0],\n",
       "       [ 0,  0,  1, 10, 15,  7,  1,  0,  0],\n",
       "       [ 0,  0,  0,  5, 20, 21,  8,  1,  0],\n",
       "       [ 0,  0,  0,  1, 15, 35, 28,  9,  1],\n",
       "       [ 0,  0,  0,  0,  6, 35, 56, 36, 10]])"
      ]
     },
     "execution_count": 3,
     "metadata": {},
     "output_type": "execute_result"
    }
   ],
   "source": [
    "pascal_matrix(9)"
   ]
  },
  {
   "cell_type": "code",
   "execution_count": 4,
   "metadata": {},
   "outputs": [],
   "source": [
    "def nonInv(N):\n",
    "    return abs((Matrix(pascal_matrix(N).transpose())).rank() - N)"
   ]
  },
  {
   "cell_type": "code",
   "execution_count": 5,
   "metadata": {},
   "outputs": [
    {
     "data": {
      "application/vnd.jupyter.widget-view+json": {
       "model_id": "998c10f88da041bdae9d46fe199cb0ac",
       "version_major": 2,
       "version_minor": 0
      },
      "text/plain": [
       "HBox(children=(IntProgress(value=0, max=58), HTML(value='')))"
      ]
     },
     "metadata": {},
     "output_type": "display_data"
    },
    {
     "name": "stdout",
     "output_type": "stream",
     "text": [
      "\n"
     ]
    }
   ],
   "source": [
    "for N in tqdm(range(2,60)):\n",
    "    if nonInv(N):\n",
    "        print(N,nonInv(N))"
   ]
  },
  {
   "cell_type": "code",
   "execution_count": 10,
   "metadata": {},
   "outputs": [
    {
     "data": {
      "text/latex": [
       "$\\displaystyle \\left[\\begin{matrix}2 & 1 & 0 & 0 & 0\\\\0 & 5 & 6 & 2 & 0\\\\0 & 0 & 14 & 28 & 20\\\\0 & 0 & 0 & 42 & 120\\\\0 & 0 & 0 & 0 & 132\\end{matrix}\\right]$"
      ],
      "text/plain": [
       "Matrix([\n",
       "[2, 1,  0,  0,   0],\n",
       "[0, 5,  6,  2,   0],\n",
       "[0, 0, 14, 28,  20],\n",
       "[0, 0,  0, 42, 120],\n",
       "[0, 0,  0,  0, 132]])"
      ]
     },
     "execution_count": 10,
     "metadata": {},
     "output_type": "execute_result"
    }
   ],
   "source": [
    "A = Matrix(pascal_matrix(30).transpose())\n",
    "B = A.echelon_form()\n",
    "B[0:5,0:5]"
   ]
  },
  {
   "cell_type": "code",
   "execution_count": 7,
   "metadata": {},
   "outputs": [
    {
     "data": {
      "text/plain": [
       "[2,\n",
       " 5,\n",
       " 14,\n",
       " 42,\n",
       " 132,\n",
       " 429,\n",
       " 1430,\n",
       " 4862,\n",
       " 16796,\n",
       " 58786,\n",
       " 208012,\n",
       " 742900,\n",
       " 2674440,\n",
       " 9694845,\n",
       " 35357670,\n",
       " 129644790,\n",
       " 477638700,\n",
       " 1767263190,\n",
       " 6564120420,\n",
       " 24466267020,\n",
       " 91482563640,\n",
       " 343059613650,\n",
       " 1289904147324,\n",
       " 4861946401452,\n",
       " 18367353072152,\n",
       " 69533550916004,\n",
       " 263747951750360,\n",
       " 1002242216651368,\n",
       " 3814986502092304,\n",
       " 14544636039226909]"
      ]
     },
     "execution_count": 7,
     "metadata": {},
     "output_type": "execute_result"
    }
   ],
   "source": [
    "[B[i,i] for i in range(30)] "
   ]
  },
  {
   "cell_type": "markdown",
   "metadata": {},
   "source": [
    "Catalan Numbers!"
   ]
  },
  {
   "cell_type": "code",
   "execution_count": 8,
   "metadata": {},
   "outputs": [
    {
     "data": {
      "text/plain": [
       "[1,\n",
       " 6,\n",
       " 28,\n",
       " 120,\n",
       " 495,\n",
       " 2002,\n",
       " 8008,\n",
       " 31824,\n",
       " 125970,\n",
       " 497420,\n",
       " 1961256,\n",
       " 7726160,\n",
       " 30421755,\n",
       " 119759850,\n",
       " 471435600,\n",
       " 1855967520,\n",
       " 7307872110,\n",
       " 28781143380,\n",
       " 113380261800,\n",
       " 446775310800,\n",
       " 1761039350070,\n",
       " 6943526580276,\n",
       " 27385657281648,\n",
       " 108043253365600,\n",
       " 426384982032100,\n",
       " 1683191473897752,\n",
       " 6646448384109072,\n",
       " 26252279997448736,\n",
       " 103719945525634515]"
      ]
     },
     "execution_count": 8,
     "metadata": {},
     "output_type": "execute_result"
    }
   ],
   "source": [
    "[B[i,i+1] for i in range(29)] # C(2n, n-2)"
   ]
  },
  {
   "cell_type": "markdown",
   "metadata": {},
   "source": [
    "C(2n,n-2) !"
   ]
  },
  {
   "cell_type": "code",
   "execution_count": 9,
   "metadata": {},
   "outputs": [
    {
     "data": {
      "text/latex": [
       "$\\displaystyle \\left[\\begin{array}{cccccccccccccc}2 & 1 & 0 & 0 & 0 & 0 & 0 & 0 & 0 & 0 & 0 & 0 & 0 & 0\\\\0 & 5 & 6 & 2 & 0 & 0 & 0 & 0 & 0 & 0 & 0 & 0 & 0 & 0\\\\0 & 0 & 14 & 28 & 20 & 5 & 0 & 0 & 0 & 0 & 0 & 0 & 0 & 0\\\\0 & 0 & 0 & 42 & 120 & 135 & 70 & 14 & 0 & 0 & 0 & 0 & 0 & 0\\\\0 & 0 & 0 & 0 & 132 & 495 & 770 & 616 & 252 & 42 & 0 & 0 & 0 & 0\\\\0 & 0 & 0 & 0 & 0 & 429 & 2002 & 4004 & 4368 & 2730 & 924 & 132 & 0 & 0\\\\0 & 0 & 0 & 0 & 0 & 0 & 1430 & 8008 & 19656 & 27300 & 23100 & 11880 & 3432 & 429\\\\0 & 0 & 0 & 0 & 0 & 0 & 0 & 4862 & 31824 & 92820 & 157080 & 168300 & 116688 & 51051\\\\0 & 0 & 0 & 0 & 0 & 0 & 0 & 0 & 16796 & 125970 & 426360 & 852720 & 1108536 & 969969\\\\0 & 0 & 0 & 0 & 0 & 0 & 0 & 0 & 0 & 58786 & 497420 & 1918620 & 4434144 & 6789783\\\\0 & 0 & 0 & 0 & 0 & 0 & 0 & 0 & 0 & 0 & 208012 & 1961256 & 8498776 & 22309287\\\\0 & 0 & 0 & 0 & 0 & 0 & 0 & 0 & 0 & 0 & 0 & 742900 & 7726160 & 37182145\\\\0 & 0 & 0 & 0 & 0 & 0 & 0 & 0 & 0 & 0 & 0 & 0 & 2674440 & 30421755\\\\0 & 0 & 0 & 0 & 0 & 0 & 0 & 0 & 0 & 0 & 0 & 0 & 0 & 9694845\\end{array}\\right]$"
      ],
      "text/plain": [
       "Matrix([\n",
       "[2, 1,  0,  0,   0,   0,    0,    0,     0,      0,      0,       0,       0,        0],\n",
       "[0, 5,  6,  2,   0,   0,    0,    0,     0,      0,      0,       0,       0,        0],\n",
       "[0, 0, 14, 28,  20,   5,    0,    0,     0,      0,      0,       0,       0,        0],\n",
       "[0, 0,  0, 42, 120, 135,   70,   14,     0,      0,      0,       0,       0,        0],\n",
       "[0, 0,  0,  0, 132, 495,  770,  616,   252,     42,      0,       0,       0,        0],\n",
       "[0, 0,  0,  0,   0, 429, 2002, 4004,  4368,   2730,    924,     132,       0,        0],\n",
       "[0, 0,  0,  0,   0,   0, 1430, 8008, 19656,  27300,  23100,   11880,    3432,      429],\n",
       "[0, 0,  0,  0,   0,   0,    0, 4862, 31824,  92820, 157080,  168300,  116688,    51051],\n",
       "[0, 0,  0,  0,   0,   0,    0,    0, 16796, 125970, 426360,  852720, 1108536,   969969],\n",
       "[0, 0,  0,  0,   0,   0,    0,    0,     0,  58786, 497420, 1918620, 4434144,  6789783],\n",
       "[0, 0,  0,  0,   0,   0,    0,    0,     0,      0, 208012, 1961256, 8498776, 22309287],\n",
       "[0, 0,  0,  0,   0,   0,    0,    0,     0,      0,      0,  742900, 7726160, 37182145],\n",
       "[0, 0,  0,  0,   0,   0,    0,    0,     0,      0,      0,       0, 2674440, 30421755],\n",
       "[0, 0,  0,  0,   0,   0,    0,    0,     0,      0,      0,       0,       0,  9694845]])"
      ]
     },
     "execution_count": 9,
     "metadata": {},
     "output_type": "execute_result"
    }
   ],
   "source": [
    "B[0:14,0:14]"
   ]
  },
  {
   "cell_type": "markdown",
   "metadata": {},
   "source": [
    "This is apperently known as Borels triangle"
   ]
  },
  {
   "cell_type": "code",
   "execution_count": null,
   "metadata": {},
   "outputs": [],
   "source": []
  },
  {
   "cell_type": "code",
   "execution_count": null,
   "metadata": {},
   "outputs": [],
   "source": []
  }
 ],
 "metadata": {
  "kernelspec": {
   "display_name": "Python 3",
   "language": "python",
   "name": "python3"
  },
  "language_info": {
   "codemirror_mode": {
    "name": "ipython",
    "version": 3
   },
   "file_extension": ".py",
   "mimetype": "text/x-python",
   "name": "python",
   "nbconvert_exporter": "python",
   "pygments_lexer": "ipython3",
   "version": "3.7.4"
  }
 },
 "nbformat": 4,
 "nbformat_minor": 2
}
