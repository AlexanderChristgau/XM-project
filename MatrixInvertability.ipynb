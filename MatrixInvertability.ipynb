{
 "cells": [
  {
   "cell_type": "code",
   "execution_count": null,
   "metadata": {},
   "outputs": [],
   "source": [
    "import numpy as np\n",
    "from sympy import * \n",
    "from tqdm.notebook import tqdm\n",
    "\n",
    "from scipy.special import comb"
   ]
  },
  {
   "cell_type": "code",
   "execution_count": null,
   "metadata": {},
   "outputs": [],
   "source": [
    "def pascal_matrix(n): #Matrix with columns Pascal's triangle, appropriately shifted\n",
    "    M = np.zeros((n,n)).astype(\"int\")\n",
    "    for j in range(n):\n",
    "        lower, upper = max(j-1,0),min(2*j+2,n)\n",
    "        for i in range(lower, upper):\n",
    "            M[i,j] = comb(j+2,i-lower, exact=True)\n",
    "    M[0,0] = 2\n",
    "    M[1,0] = 1\n",
    "    return(Matrix(M))\n",
    "\n",
    "A = pascal_matrix(9)\n",
    "A"
   ]
  },
  {
   "cell_type": "code",
   "execution_count": null,
   "metadata": {},
   "outputs": [],
   "source": [
    "def nonInv(N): #Checks if full rank, i.e. invertible\n",
    "    return abs(((pascal_matrix(N).transpose())).rank() - N)"
   ]
  },
  {
   "cell_type": "code",
   "execution_count": null,
   "metadata": {},
   "outputs": [],
   "source": [
    "for N in tqdm(range(2,47)): #Look for non-invertible Pascal martrix\n",
    "    if nonInv(N):\n",
    "        print(N,nonInv(N))"
   ]
  },
  {
   "cell_type": "code",
   "execution_count": null,
   "metadata": {},
   "outputs": [],
   "source": [
    "A = Matrix(pascal_matrix(30).transpose())\n",
    "B = A.echelon_form() #Investiagte more closely the structure of its (transposed's) echelon form.\n",
    "B[0:10,0:10]"
   ]
  },
  {
   "cell_type": "code",
   "execution_count": null,
   "metadata": {},
   "outputs": [],
   "source": [
    "[B[i,i] for i in range(30)] #Diagonal entries giving Catalan numbers by https://oeis.org/A000108"
   ]
  },
  {
   "cell_type": "code",
   "execution_count": null,
   "metadata": {},
   "outputs": [],
   "source": [
    "[B[i,i+1] for i in range(28)] # Off by 1 diagonal entries giving C(2n, n-2) by https://oeis.org/A002694"
   ]
  },
  {
   "cell_type": "code",
   "execution_count": null,
   "metadata": {},
   "outputs": [],
   "source": [
    "[B[i,i+2] for i in range(1,28)] # Thrid column of Borel triangle by https://oeis.org/A234950 !"
   ]
  },
  {
   "cell_type": "code",
   "execution_count": null,
   "metadata": {},
   "outputs": [],
   "source": [
    "B[0:14,0:14]"
   ]
  },
  {
   "cell_type": "markdown",
   "metadata": {},
   "source": [
    "This is apperently known as Borels triangle, and allows for computation of the determinant of the Pascal matrix"
   ]
  }
 ],
 "metadata": {
  "kernelspec": {
   "display_name": "Python 3",
   "language": "python",
   "name": "python3"
  },
  "language_info": {
   "codemirror_mode": {
    "name": "ipython",
    "version": 3
   },
   "file_extension": ".py",
   "mimetype": "text/x-python",
   "name": "python",
   "nbconvert_exporter": "python",
   "pygments_lexer": "ipython3",
   "version": "3.8.5"
  }
 },
 "nbformat": 4,
 "nbformat_minor": 2
}
