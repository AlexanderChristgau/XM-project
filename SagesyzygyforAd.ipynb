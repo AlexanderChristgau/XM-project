{
 "cells": [
  {
   "cell_type": "markdown",
   "metadata": {},
   "source": [
    "# For A(6)"
   ]
  },
  {
   "cell_type": "code",
   "execution_count": 1,
   "metadata": {},
   "outputs": [
    {
     "data": {
      "text/plain": [
       "'[             b              0              0              0              0              0             19              0             -3            -54            -20]\\n[             0              c              0              0             -c              0              0             -b              0            4*b              0]\\n[             0              0              0            b^2              0              0             -c              0              0              0           -4*c]\\n[             0              a              0              0              0              0              0            -27             -1              0              0]\\n[             0              0              a              0              0             -1              0           -108              0              0              0]\\n[             0              0              0              a              0              0              0             -1              0             -4              0]\\n[             0              0              0              0              a              0             -4            -27              0              0              0]\\n[             0            4*b             -b              0              0              0           -4*a              0              a              0              0]\\n[             0             -b              0              0              0              0              a              0              0           27*a              0]\\n[             0              b              0              0             -b              0             -a              0              0              0            4*a]\\n[           a*c           15*c           -3*c              0           -5*c              0              0            4*b              0              0              0]\\n[             0           -b*c              0              0              0              0              0            b^2              0         27*a*c              0]\\n[             0         -4*b^2              0              0              0              0  4*a*b + 108*c         27*a*b          -27*c              0              0]\\n[             0              0              0              0              0              0             -c              0              0            a*b              0]\\n[           a^2              0              0              0              0             -3            -20            -54             19              0              0]\\n[             0          108*c          -27*c              0              0              0          4*a^2 27*a^2 - 108*b           -4*b              0              0]\\n[             0              0              0              0              0              0              0             -b              0            a^2              0]'"
      ]
     },
     "execution_count": 1,
     "metadata": {},
     "output_type": "execute_result"
    }
   ],
   "source": [
    "R.<a,b,c> = PolynomialRing(QQ, order='lex')\n",
    "I=ideal(54*a*c-19*a^2*b + 3*a^4 + 20*b^2,27*a^2*c + a^3*b,108*a^2*c + a^5,a^2*c + 4*b*c,27*a^2*c + 4*a*b^2,a^6,a^2*b^2,a^3*c,a^4*b,a*b*c,b^3)\n",
    "A_6_rel = I.syzygy_module();A_6_rel.str()"
   ]
  },
  {
   "cell_type": "markdown",
   "metadata": {},
   "source": [
    "# For A(7)"
   ]
  },
  {
   "cell_type": "code",
   "execution_count": 2,
   "metadata": {},
   "outputs": [
    {
     "data": {
      "text/plain": [
       "'[          b           0           0           0           0           0           0           0           0         -31           0         133         138        -980           0           0]\\n[          0           b           0           0           0           0           0           0           0         -23           0        -189         134           0        -140           0]\\n[          0           0           0           0           0         2*c          -c           0           0           0           0        -2*b           0         7*b           0           0]\\n[          0           0           0           0        -2*c           c           0           0           0           0           0          -b           0           0           0        14*b]\\n[          0           0           0           0        -b^2           0           0       2*b^2           0           0           0           0           0       -98*c         7*c           0]\\n[          0           a         134         -23           0        -140           0           0           0           0           0           0           0           0           0           0]\\n[          0           0           a           0           0           0           0           0          14          -1           0           0           0           0           0           0]\\n[          0           0           0           a           0           0           0           0          49           0          -1           0           0           0           0           0]\\n[          0           0           0           0           a           0           0           0           2           0           0          -7           0           0           0           0]\\n[          0           0           0           0           0           a           0           0           4           0           0           0          -1           0           0           0]\\n[          0           0           0           0           0           0           a           0           8           0           0           0           0           0          -7           0]\\n[          0           0           0           0           0           0           0           a           1           0           0           0           0           0           0         -49]\\n[       27*c        19*c           0           0      -380*b           0           0      -540*b     -1274*a           0           0      4972*a           0           0           0           0]\\n[      189*c       133*c     -2486*b           0     -2660*b           0           0     -3780*b     -8918*a           0           0           0      2486*a           0           0           0]\\n[       27*c        19*c           0           0     -2866*b           0           0      -540*b     -1274*a           0           0           0           0     17402*a           0           0]\\n[       27*c        19*c           0           0      -380*b     -1243*b           0      -540*b     -1274*a           0           0           0           0           0      1243*a           0]\\n[       47*c       -59*c           0           0      1180*b           0           0      -940*b      -100*a           0           0           0           0           0           0     17402*a]\\n[      2*a*c           0       276*c       -62*c      -280*c      -133*c           0           0           0           0           0       133*b           0           0           0           0]\\n[          0           0           0           0           0         b*c           0           0           0           0           0 4*a*c - b^2           0           0           0           0]\\n[          0           0           0           0         b^2           0           0           0           0           0           0       2*a*b           0           0        -7*c           0]\\n[        a^2           0           0           0           0           0           0           0         133         138         -31        -980           0           0           0           0]\\n[          0           0           0           0           0           0           0           0           0           0           0          -b           0         a^2           0           0]\\n[          0           0           0           0           0           c           0           0           0           0           0          -b           0           0           0       4*a^2]'"
      ]
     },
     "execution_count": 2,
     "metadata": {},
     "output_type": "execute_result"
    }
   ],
   "source": [
    "R.<a,b,c> = PolynomialRing(QQ, order='lex')\n",
    "I=ideal(-133*a^2*c-138*a^3*b+31*a^5+980*b*c, 189*a^2*c-134*a^3*b+23*a^5+140*a*b^2,-14*a^3*c+a^4*b,-49*a^3*c+a^6,-2*a^3*c+7*a*b*c,-4*a^3*c+a^2*b^2,-8*a^3*c+7*b^3,-1*a^3*c+49*c^2,a^4*c,a^5*b,a^7,a^2*b*c,a^3*b^2,b^2*c,a*b^3,a*c^2)\n",
    "A_7_rel = I.syzygy_module();\n",
    "A_7_rel.str()"
   ]
  },
  {
   "cell_type": "markdown",
   "metadata": {},
   "source": [
    "# For A(8)"
   ]
  },
  {
   "cell_type": "code",
   "execution_count": null,
   "metadata": {},
   "outputs": [],
   "source": [
    "R.<a,b,c,d> = PolynomialRing(QQ, order='lex')\n",
    "I=ideal(-160*a*d+55*a^2*c-34*a^3*b+5*a^5-122*b*c+52*a*b^2,-448*a^2*d+28*a^3*c-9*a^4*b+2*a^6+1024*b*d,3200*a^2*d-164*a^3*c-321*a^4*b+82*a^6+2240*a*b*c,72*a^3*c-77*a^4*b+14*a^6+80*a^2*b^2,-5184*a^2*d+1188*a^3*c-627*a^4*b+134*a^6+896*b^3,12800*a^2*d+212*a^3*c-647*a^4*b+174*a^6+15680*c^2,-64*a^3*d+a^4*c,-640*a^3*d+a^5*b,-2048*a^3*d+a^7,-5*a^3*d+16*a*b*d,-20*a^3*d+a^2*b*c,-200*a^3*d+a^3*b^2,-25*a^3*d+4*b^2*c,-125*a^3*d+2*a*b^3,-1*a^3*d+32*c*d,-2*a^3*d+a*c^2,a^4*d,a^5*c,a^6*b,a^8,a^2*b*d,a^3*b*c,a^4*b^2,b^2*d,a*b^2*c,a^2*b^3,b^4,a*c*d,a^2*c^2,b*c^2,d^2)\n",
    "M = I.syzygy_module();\n",
    "M.echelon_form().str()"
   ]
  },
  {
   "cell_type": "markdown",
   "metadata": {},
   "source": [
    "# Convert syzygy to admissable generators"
   ]
  },
  {
   "cell_type": "code",
   "execution_count": 36,
   "metadata": {},
   "outputs": [
    {
     "data": {
      "text/plain": [
       "(\n",
       "[0 0]     \n",
       "[0 0], {0}\n",
       ")"
      ]
     },
     "execution_count": 36,
     "metadata": {},
     "output_type": "execute_result"
    }
   ],
   "source": [
    "def create_copy(M):\n",
    "    M_copy = Matrix(SR,M.nrows(),M.ncols(),0)\n",
    "    for i in range(M.nrows()):\n",
    "        for j in range(M.ncols()):\n",
    "            M_copy[i,j]=M[i,j]\n",
    "    return M_copy\n",
    "\n"
   ]
  },
  {
   "cell_type": "code",
   "execution_count": 67,
   "metadata": {},
   "outputs": [
    {
     "name": "stdout",
     "output_type": "stream",
     "text": [
      "[ 0  1  1  0]\n",
      "[ 0 -1  0  0]\n",
      "[ 0  0 -1  0]\n",
      "[ 0  0 -1  0]\n",
      "(0, -1, 0, 0)\n",
      "(0, 0, 1, 0)\n"
     ]
    },
    {
     "data": {
      "text/plain": [
       "(\n",
       "[0 0 0 0]           \n",
       "[0 0 0 0]           \n",
       "[0 0 0 0]           \n",
       "[0 0 0 0], {0, 1, 3}\n",
       ")"
      ]
     },
     "execution_count": 67,
     "metadata": {},
     "output_type": "execute_result"
    }
   ],
   "source": [
    "def check_if_only_one_not_zero_and_modify(M, necessary_gens): #make it recurve after a -1 change\n",
    "    M_copy = create_copy(M)\n",
    "    for i in range(M_copy.nrows()):\n",
    "        if vector(M_copy[i]).norm()==1:\n",
    "            non_zero_index_and_value = [(i,e) for i, e in enumerate(M_copy[i]) if e != 0][0]\n",
    "            if  non_zero_index_and_value[1]==1:\n",
    "                M_copy[:,non_zero_index_and_value[0]] = matrix(SR, M_copy.nrows(), 1, 0)\n",
    "            else:\n",
    "                M_copy[:,non_zero_index_and_value[0]] = matrix(SR, M_copy.nrows(), 1, 0)\n",
    "                necessary_gens.add(non_zero_index_and_value[0])\n",
    "                return check_if_only_one_not_zero_and_modify(M_copy,necessary_gens)\n",
    "    return M_copy, necessary_gens\n",
    "print(Matrix([[0, 1, 1, 0],[0,-1, 0, 0], [0, 0,-1, 0],[0, 0,-1, 0]]))\n",
    "check_if_only_one_not_zero_and_modify(Matrix([[0, 1, 1, 0],[0,-1, 0, 0], [0, 0,-1, 0],[0, 0,-1, 0]]),{0,3})"
   ]
  },
  {
   "cell_type": "code",
   "execution_count": 5,
   "metadata": {
    "scrolled": true
   },
   "outputs": [
    {
     "name": "stdout",
     "output_type": "stream",
     "text": [
      "[-1  0  0  0  0  0  1  0  1  1  1]\n",
      "[ 0 -1  0  0  0  0  0  1  1  0  0]\n",
      "[ 0  0 -1  0  0  1  0  1  0  0  0]\n",
      "[ 0  0  0 -1  0  0  0  1  0  1  0]\n",
      "[ 0  0  0  0 -1  0  1  1  0  0  0]\n",
      "[-1  0  0  0  0  1  1  1  1  0  0]\n"
     ]
    }
   ],
   "source": [
    "def check_admis_and_make_new(M):\n",
    "    indicator_array = []\n",
    "    for x in M:\n",
    "        if x.is_unit() == True:\n",
    "            indicator_array.append(1)\n",
    "        elif x == 0:\n",
    "            indicator_array.append(0)\n",
    "        else:\n",
    "            indicator_array.append(-1)\n",
    "    if all([x <= 0 for x in indicator_array]):\n",
    "        return None\n",
    "    else:\n",
    "        return indicator_array\n",
    "\n",
    "def admissable_relations(M):\n",
    "    admissable_matrix = []\n",
    "    for i in range (M.nrows()):\n",
    "        if check_admis_and_make_new(M[i]) == None:\n",
    "            pass\n",
    "        else:\n",
    "            admissable_matrix.append(check_admis_and_make_new(M[i]))\n",
    "    return Matrix(admissable_matrix)\n",
    "\n",
    "print(admissable_relations(A_6_rel))"
   ]
  },
  {
   "cell_type": "code",
   "execution_count": 69,
   "metadata": {},
   "outputs": [],
   "source": [
    "def produce_necessary_gens(M,necessary_gens = None,num_of_occurrences = None):\n",
    "    M_copy = create_copy(M)\n",
    "    n_rows, n_cols = M_copy.nrows(), M_copy.ncols()\n",
    "    row_counter = 0\n",
    "    if necessary_gens is None:\n",
    "        necessary_gens = set()\n",
    "    if num_of_occurrences is None:\n",
    "        num_of_occurrences = {}\n",
    "    for i in range(n_rows):\n",
    "        index = 0\n",
    "        for x in M[i]:\n",
    "            if x==-1 and all([y <= 0 for y in M_copy[:,index]]):\n",
    "                necessary_gens.add(index)\n",
    "                M_copy[:,index]= matrix(SR, n_rows, 1, 0)\n",
    "            elif x!=0: #Need to also add -1 that are in columns of not only -1\n",
    "                num_of_occurrences[index] = num_of_occurrences.get(index, 0) + 1\n",
    "            index += 1\n",
    "        row_counter += 1\n",
    "        \n",
    "    while M_copy != check_if_only_one_not_zero_and_modify(M_copy,necessary_gens)[0]:\n",
    "        M_copy, necessary_gens = check_if_only_one_not_zero_and_modify(M_copy,necessary_gens)\n",
    "    \n",
    "    \n",
    "    if M_copy != matrix(SR, n_rows, n_cols,0): \n",
    "        max_key = max(num_of_occurrences, key=num_of_occurrences.get)\n",
    "        M_copy[:,max_key]= matrix(SR, M_copy.nrows(), 1, 0)\n",
    "        necessary_gens.add(max_key)\n",
    "    \n",
    "    if M_copy == matrix(SR, n_rows, n_cols,0): \n",
    "                       return necessary_gens\n",
    "    else:\n",
    "        return produce_necessary_gens(M_copy,necessary_gens, None)\n",
    "\n",
    "#N = admissable_relations(A_7_rel)\n",
    "#print(N,produce_necessary_gens(N))"
   ]
  },
  {
   "cell_type": "code",
   "execution_count": 70,
   "metadata": {},
   "outputs": [
    {
     "name": "stdout",
     "output_type": "stream",
     "text": [
      "(0, -1, 0, 0)\n",
      "(0, 0, 1, 0)\n",
      "(0, -1, 0, 0)\n",
      "(0, 0, 1, 0)\n"
     ]
    },
    {
     "data": {
      "text/plain": [
       "{0, 1, 3}"
      ]
     },
     "execution_count": 70,
     "metadata": {},
     "output_type": "execute_result"
    }
   ],
   "source": [
    "int_test = Matrix([[-1,1,1,1],[0,-1,0,1],[0,0,-1,1],[0,0,-1,1]])\n",
    "produce_necessary_gens(int_test)"
   ]
  },
  {
   "cell_type": "code",
   "execution_count": null,
   "metadata": {},
   "outputs": [],
   "source": []
  }
 ],
 "metadata": {
  "kernelspec": {
   "display_name": "SageMath 9.2",
   "language": "sage",
   "name": "sagemath"
  },
  "language_info": {
   "codemirror_mode": {
    "name": "ipython",
    "version": 3
   },
   "file_extension": ".py",
   "mimetype": "text/x-python",
   "name": "python",
   "nbconvert_exporter": "python",
   "pygments_lexer": "ipython3",
   "version": "3.7.7"
  }
 },
 "nbformat": 4,
 "nbformat_minor": 4
}
