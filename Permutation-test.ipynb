{
 "cells": [
  {
   "cell_type": "code",
   "execution_count": 1,
   "metadata": {},
   "outputs": [],
   "source": [
    "from sympy.combinatorics import *\n",
    "from sympy.interactive import init_printing #Enables more readable output of permutations.\n",
    "\n",
    "from tqdm.notebook import tqdm # Progressbars of for-loops.\n",
    "\n",
    "from math import factorial\n",
    "import numpy as np\n",
    "\n",
    "import pickle #File storing and reading\n",
    "\n",
    "init_printing(perm_cyclic=True, pretty_print=False) #prints permutations in compact notation"
   ]
  },
  {
   "cell_type": "markdown",
   "metadata": {},
   "source": [
    "# Code base to allow computations in A(d)"
   ]
  },
  {
   "cell_type": "code",
   "execution_count": 2,
   "metadata": {
    "scrolled": true
   },
   "outputs": [
    {
     "data": {
      "text/plain": [
       "[(2 3), (3)(1 2), (1 3), (3)(0 1), (3)(0 2), (0 3)]"
      ]
     },
     "execution_count": 2,
     "metadata": {},
     "output_type": "execute_result"
    }
   ],
   "source": [
    "def gen_ctype(l: dict,n: int):\n",
    "    '''\n",
    "    Input:\n",
    "        l - cycle decompostion as a dictionary including 1 cycles. e.g. {1:2, 2:1} is a transposition in S_4\n",
    "        n - specifies order of symmetric group\n",
    "    Output:\n",
    "        Generates all permutations of specified cycletype as a list\n",
    "    '''\n",
    "    \n",
    "    has_to_be_partition = 0\n",
    "    for key, value in l.items():\n",
    "        has_to_be_partition = has_to_be_partition + key*value\n",
    "    if has_to_be_partition < n:\n",
    "        print(\"Invalid cycle type format.\")\n",
    "    else:\n",
    "        list_with_cycle_type = []\n",
    "        \n",
    "        #run through all permutations and append them if they have the correct cycletype\n",
    "        for i in list(symmetric(n)): \n",
    "            if i.cycle_structure == l:\n",
    "                list_with_cycle_type.append(i)            \n",
    "        return list_with_cycle_type\n",
    "    \n",
    "g2 = gen_ctype({1:2,2:1},4) #An example of all permutations with cycletype 2 (transpositions) in S_4\n",
    "g2"
   ]
  },
  {
   "cell_type": "code",
   "execution_count": 3,
   "metadata": {},
   "outputs": [],
   "source": [
    "def gen_all(d):\n",
    "    ''' Input: non-negative interger\n",
    "        Output: Dictionary of elements in the symmetric group with key being cycle type and value all permutations in S(d) with\n",
    "        that cycle type.\n",
    "    '''\n",
    "    answer = {}\n",
    "    \n",
    "    for i in tqdm(symmetric(d), total = factorial(d)):\n",
    "        C = ctype(i)\n",
    "        if C in answer.keys():\n",
    "            (answer[C]).append(i)\n",
    "        else:\n",
    "            answer[C] = [i]\n",
    "    answer.pop((d,),None)\n",
    "    return answer\n"
   ]
  },
  {
   "cell_type": "code",
   "execution_count": 4,
   "metadata": {},
   "outputs": [],
   "source": [
    "def norm(p, cycle_dict = None):\n",
    "    '''\n",
    "    Input: permutation p, optionally the cycle structure of p.\n",
    "    Output: The norm of p\n",
    "    '''\n",
    "    #If the cycle type of p is already computed we can reuse the result.\n",
    "    if cycle_dict == None:\n",
    "        cycle_dict = p.cycle_structure\n",
    "    sum_of_lengths = 0\n",
    "    num_cycles = 0\n",
    "    \n",
    "    #We use the formula N(sigma) = d-l if sigma has cyclestructure C_1C_2...C_l \n",
    "    for key, value in cycle_dict.items():\n",
    "        sum_of_lengths += key*value\n",
    "        num_cycles += value\n",
    "    return sum_of_lengths-num_cycles"
   ]
  },
  {
   "cell_type": "code",
   "execution_count": 5,
   "metadata": {},
   "outputs": [],
   "source": [
    "def norm2(p_tuple):\n",
    "    #Computes norm from cyclestructure written as a tuple\n",
    "    ans = 0\n",
    "    for i,p in enumerate(p_tuple):\n",
    "        ans += i*p\n",
    "    return ans"
   ]
  },
  {
   "cell_type": "code",
   "execution_count": 6,
   "metadata": {},
   "outputs": [],
   "source": [
    "def norm_check(p,q, norm_sum = None):\n",
    "    '''\n",
    "    Input: Permutations p and q, optionally the sum of their norms.\n",
    "    Output: True if N(pq) = N(p) + N(q), otherwise False.\n",
    "    '''\n",
    "    if norm_sum == None:\n",
    "        norm_sum = norm(p) + norm(q)\n",
    "    p_trans = set(p.transpositions())\n",
    "    q_trans = set(q.transpositions())\n",
    "    \n",
    "    if p_trans.intersection(q_trans) == set([]):\n",
    "        return norm(p*q)==norm_sum\n",
    "    return False"
   ]
  },
  {
   "cell_type": "code",
   "execution_count": 7,
   "metadata": {},
   "outputs": [
    {
     "data": {
      "text/plain": [
       "[(1 2 3), (1 3 2), (0 1)(2 3), (0 2 3), (0 3 2)]"
      ]
     },
     "execution_count": 7,
     "metadata": {},
     "output_type": "execute_result"
    }
   ],
   "source": [
    "def Aprod(p_list, q_list, norm_sum = None):\n",
    "    '''\n",
    "    Input:\n",
    "        - p_list and q_list, both lists of permutations corresponding to a conjugacy class in S_n\n",
    "        - The sum of the norm of the conjugacy classes (optional)\n",
    "    Output:\n",
    "        - The product of the two conjugacy classes according to A(d)\n",
    "    '''\n",
    "    if norm_sum:\n",
    "        return [s*t for s in p_list for t in q_list if norm_check(s,t,norm_sum)]\n",
    "    return [s*t for s in p_list for t in q_list if norm_check(s,t)]\n",
    "\n",
    "# Generate powers of g2, as \n",
    "g2_square = Aprod(g2,g2,2)\n",
    "g2_cube = Aprod(g2,g2_square,3)\n",
    "g2_square[0:5]"
   ]
  },
  {
   "cell_type": "code",
   "execution_count": 8,
   "metadata": {},
   "outputs": [
    {
     "data": {
      "text/plain": [
       "(2, 1)"
      ]
     },
     "execution_count": 8,
     "metadata": {},
     "output_type": "execute_result"
    }
   ],
   "source": [
    "def ctype(p):\n",
    "    '''\n",
    "    Input:\n",
    "        Sympy permutation\n",
    "    Output:\n",
    "        Gives cycletype of permutation as a tuple with i'th coordinate being multiplicity of i-cycles.\n",
    "    '''\n",
    "    d = p.cycle_structure\n",
    "    max_val = max(d.keys())\n",
    "    L = []\n",
    "    for i in range(1,max_val+1):\n",
    "        if i in list(d.keys()):\n",
    "            L.append(d[i])\n",
    "        else:\n",
    "            L.append(0)\n",
    "    return tuple(L)\n",
    "\n",
    "ctype(Permutation(3)(1,3)) # has 2 1-cycles (0 and 2) and one 2-cycle"
   ]
  },
  {
   "cell_type": "code",
   "execution_count": 9,
   "metadata": {},
   "outputs": [
    {
     "name": "stdout",
     "output_type": "stream",
     "text": [
      "g2 squared decomp {(1, 0, 1): 24, (0, 2): 6} \n",
      "g2 cubed decomp {(0, 0, 0, 1): 96}\n"
     ]
    }
   ],
   "source": [
    "def decompose(plist: list, progressbar=True):\n",
    "    '''\n",
    "    Input: List of permutations\n",
    "    Output: Decomposes list by occurences of cycletype\n",
    "    '''\n",
    "    cycle_count = {}\n",
    "    for p in tqdm(plist, disable = progressbar):\n",
    "        p_type = ctype(p)\n",
    "        if p_type in list(cycle_count.keys()):\n",
    "            cycle_count[p_type] += 1\n",
    "        else:\n",
    "            cycle_count[p_type] = 1\n",
    "    return cycle_count\n",
    "#Decomposes list of permutations into representatives of the conjugacy class, e.g. (g_2)^2 has 24 3-cycles and 6 2-cycles\n",
    "print(\"g2 squared decomp\", decompose(g2_square),\n",
    "      \"\\n\" \"g2 cubed decomp\", decompose(g2_cube))"
   ]
  },
  {
   "cell_type": "code",
   "execution_count": 10,
   "metadata": {},
   "outputs": [
    {
     "data": {
      "text/plain": [
       "6"
      ]
     },
     "execution_count": 10,
     "metadata": {},
     "output_type": "execute_result"
    }
   ],
   "source": [
    "def num_ctype(ctuple):\n",
    "    '''\n",
    "    Input: cycle type as a tuple\n",
    "    Output: number of permutations with given cycle type using \n",
    "    '''\n",
    "    n = sum((i+1)*ctuple[i] for i in range(len(ctuple)))\n",
    "    numerator = factorial(n)\n",
    "    denominator = 1\n",
    "    for i in range(len(ctuple)):\n",
    "        denominator *= ((i+1)**ctuple[i]) * factorial(ctuple[i])\n",
    "    return numerator // denominator\n",
    "\n",
    "num_ctype((2,1)) #Size of the conjugacy class of 2-cycles in d = 2*1+1*2 = 4"
   ]
  },
  {
   "cell_type": "code",
   "execution_count": 11,
   "metadata": {},
   "outputs": [],
   "source": [
    "def to_string(d):\n",
    "    # Takes cycletype from type dictionary to a string more humanly readable.\n",
    "    if type(d) == dict:\n",
    "        s = \"\"\n",
    "        for key, value in d.items():\n",
    "            s += str(value) + \"*\" + \"g_\"+ to_string(key) + \"  +  \"\n",
    "        return s[0:-3]\n",
    "    s = \"\"\n",
    "    for i,k in enumerate(d):\n",
    "        if i!=0 and k!= 0:\n",
    "            s+= str(i+1) + \"^\" + str(k) + \",\"\n",
    "    return s[0:-1]"
   ]
  },
  {
   "cell_type": "code",
   "execution_count": 12,
   "metadata": {},
   "outputs": [
    {
     "name": "stdout",
     "output_type": "stream",
     "text": [
      "g2 square {(1, 0, 1): 3, (0, 2): 2} \n",
      "g2 cube {(0, 0, 0, 1): 16}\n"
     ]
    }
   ],
   "source": [
    "def decompose2(plist, string_output = False):\n",
    "    '''\n",
    "    Input: list of permutations\n",
    "    Output: decomposition according to A(d)\n",
    "    '''\n",
    "    d = decompose(plist)\n",
    "    for i in d.keys():\n",
    "        d[i] //= num_ctype(i)\n",
    "        \n",
    "    if string_output:\n",
    "        return to_string(d)\n",
    "    return d\n",
    "#Same as decompose, but divided by the size of the conjugacy class, so (g_2)^2 = 3g_3+2g_{2^2}. This recovers the results from\n",
    "#project catalgoue\n",
    "print(\"g2 square\", decompose2(g2_square), \n",
    "      \"\\n\" \"g2 cube\", decompose2(g2_cube))"
   ]
  },
  {
   "cell_type": "markdown",
   "metadata": {},
   "source": [
    "### Experiments with the g_{2^i} generating set for d=6"
   ]
  },
  {
   "cell_type": "code",
   "execution_count": null,
   "metadata": {
    "scrolled": false
   },
   "outputs": [],
   "source": [
    "d = 6\n",
    "g2 = gen_ctype({1:(d-2), 2:1}, d) #Generates all the transpositions in S_d, here d=6, giving rise to the element g_2 in A(6).\n",
    "\n",
    "g2_powers = [Aprod(g2,g2,2)] #Computes (g_2)^2\n",
    "\n",
    "for i in tqdm(range(3,3+3)): #Recursively computes the powers (g_2)^3 to (g_2)^6\n",
    "    g2_powers.append(Aprod(g2,g2_powers[-1],i))"
   ]
  },
  {
   "cell_type": "code",
   "execution_count": null,
   "metadata": {
    "scrolled": false
   },
   "outputs": [],
   "source": [
    "g2_powers_decomp = []\n",
    "for i in tqdm(g2_powers): #Decomposes the powers into basis elements of A(6), so e.g. (g_2)^3 = 16g_4+8g_{2,3}+6g_{2^3}\n",
    "    g2_powers_decomp.append(decompose2(i))\n",
    "    print(g2_powers_decomp[-1])"
   ]
  },
  {
   "cell_type": "markdown",
   "metadata": {},
   "source": [
    "# Constructing multiplication tables to investigate relations in A(9)"
   ]
  },
  {
   "cell_type": "code",
   "execution_count": 13,
   "metadata": {},
   "outputs": [
    {
     "data": {
      "application/vnd.jupyter.widget-view+json": {
       "model_id": "7f291d5994e149918cc209a61a5f1dba",
       "version_major": 2,
       "version_minor": 0
      },
      "text/plain": [
       "HBox(children=(HTML(value=''), FloatProgress(value=0.0, max=40320.0), HTML(value='')))"
      ]
     },
     "metadata": {},
     "output_type": "display_data"
    },
    {
     "name": "stdout",
     "output_type": "stream",
     "text": [
      "\n"
     ]
    }
   ],
   "source": [
    "d=8\n",
    "basis = gen_all(d)"
   ]
  },
  {
   "cell_type": "code",
   "execution_count": null,
   "metadata": {},
   "outputs": [],
   "source": [
    "#Give multiplication table of generators, i.e. computing (g_{2^i})(g_{2^j}) for 1<= i,j <= 4.\n",
    "generators = [basis[(d-2*i,i)] for i in range(1,d//2+1)]\n",
    "print(\"Sample permutations from generators:\", [g[0] for g in generators])\n",
    "for i,g1 in tqdm(enumerate(generators)):\n",
    "    for j,g2 in enumerate(generators[i:]):\n",
    "        print(\"basis:\",i+1,j+i+1,\"Product:\",decompose2(Aprod(g1,g2,2*i+j+2),True))"
   ]
  },
  {
   "cell_type": "code",
   "execution_count": null,
   "metadata": {},
   "outputs": [],
   "source": [
    "#Multiplication table of g2 with other elements\n",
    "g2_mult_table = []\n",
    "\n",
    "for k,v in tqdm(basis.items()):\n",
    "    s =\"g_2 * g_\" + to_string(k) + \" = \"\n",
    "    s += decompose2(Aprod(basis[(d-2,1)],v, norm2((d-2,1)) + norm2(k)), string_output = True)\n",
    "    g2_mult_table.append(s)\n",
    "    print(s)"
   ]
  },
  {
   "cell_type": "code",
   "execution_count": 14,
   "metadata": {
    "scrolled": true
   },
   "outputs": [
    {
     "data": {
      "application/vnd.jupyter.widget-view+json": {
       "model_id": "74ef40537795404dad51aec30f86977b",
       "version_major": 2,
       "version_minor": 0
      },
      "text/plain": [
       "HBox(children=(HTML(value=''), FloatProgress(value=0.0, max=21.0), HTML(value='')))"
      ]
     },
     "metadata": {},
     "output_type": "display_data"
    },
    {
     "name": "stdout",
     "output_type": "stream",
     "text": [
      "g_2^1 * g_2^1 = 3*g_3^1  +  2*g_2^2  \n",
      "g_2^1 * g_3^1 = 4*g_4^1  +  1*g_2^1,3^1  \n",
      "g_2^1 * g_2^2 = 2*g_4^1  +  3*g_2^1,3^1  +  3*g_2^3  \n",
      "g_2^1 * g_4^1 = 5*g_5^1  +  1*g_2^1,4^1  \n",
      "g_2^1 * g_2^1,3^1 = 5*g_5^1  +  4*g_2^1,4^1  +  6*g_3^2  +  2*g_2^2,3^1  \n",
      "\n"
     ]
    },
    {
     "ename": "KeyboardInterrupt",
     "evalue": "",
     "output_type": "error",
     "traceback": [
      "\u001b[0;31m---------------------------------------------------------------------------\u001b[0m",
      "\u001b[0;31mKeyboardInterrupt\u001b[0m                         Traceback (most recent call last)",
      "\u001b[0;32m<ipython-input-14-934d47268376>\u001b[0m in \u001b[0;36m<module>\u001b[0;34m\u001b[0m\n\u001b[1;32m      8\u001b[0m             \u001b[0;32mif\u001b[0m \u001b[0mn\u001b[0m \u001b[0;34m<\u001b[0m \u001b[0md\u001b[0m\u001b[0;34m:\u001b[0m\u001b[0;34m\u001b[0m\u001b[0;34m\u001b[0m\u001b[0m\n\u001b[1;32m      9\u001b[0m                 \u001b[0ms\u001b[0m \u001b[0;34m=\u001b[0m \u001b[0;34m\"g_\"\u001b[0m\u001b[0;34m+\u001b[0m\u001b[0mto_string\u001b[0m\u001b[0;34m(\u001b[0m\u001b[0mk1\u001b[0m\u001b[0;34m)\u001b[0m \u001b[0;34m+\u001b[0m \u001b[0;34m\" * g_\"\u001b[0m \u001b[0;34m+\u001b[0m \u001b[0mto_string\u001b[0m\u001b[0;34m(\u001b[0m\u001b[0mk2\u001b[0m\u001b[0;34m)\u001b[0m\u001b[0;34m\u001b[0m\u001b[0;34m\u001b[0m\u001b[0m\n\u001b[0;32m---> 10\u001b[0;31m                 \u001b[0ms\u001b[0m \u001b[0;34m+=\u001b[0m \u001b[0;34m\" = \"\u001b[0m \u001b[0;34m+\u001b[0m \u001b[0mdecompose2\u001b[0m\u001b[0;34m(\u001b[0m\u001b[0mAprod\u001b[0m\u001b[0;34m(\u001b[0m\u001b[0mv1\u001b[0m\u001b[0;34m,\u001b[0m\u001b[0mv2\u001b[0m\u001b[0;34m,\u001b[0m\u001b[0mn\u001b[0m\u001b[0;34m)\u001b[0m\u001b[0;34m,\u001b[0m \u001b[0mstring_output\u001b[0m \u001b[0;34m=\u001b[0m \u001b[0;32mTrue\u001b[0m\u001b[0;34m)\u001b[0m\u001b[0;34m\u001b[0m\u001b[0;34m\u001b[0m\u001b[0m\n\u001b[0m\u001b[1;32m     11\u001b[0m                 \u001b[0mmult_table\u001b[0m\u001b[0;34m.\u001b[0m\u001b[0mappend\u001b[0m\u001b[0;34m(\u001b[0m\u001b[0ms\u001b[0m\u001b[0;34m)\u001b[0m\u001b[0;34m\u001b[0m\u001b[0;34m\u001b[0m\u001b[0m\n\u001b[1;32m     12\u001b[0m                 \u001b[0mprint\u001b[0m\u001b[0;34m(\u001b[0m\u001b[0ms\u001b[0m\u001b[0;34m)\u001b[0m\u001b[0;34m\u001b[0m\u001b[0;34m\u001b[0m\u001b[0m\n",
      "\u001b[0;32m<ipython-input-7-404625a6a4e4>\u001b[0m in \u001b[0;36mAprod\u001b[0;34m(p_list, q_list, norm_sum)\u001b[0m\n\u001b[1;32m      8\u001b[0m     '''\n\u001b[1;32m      9\u001b[0m     \u001b[0;32mif\u001b[0m \u001b[0mnorm_sum\u001b[0m\u001b[0;34m:\u001b[0m\u001b[0;34m\u001b[0m\u001b[0;34m\u001b[0m\u001b[0m\n\u001b[0;32m---> 10\u001b[0;31m         \u001b[0;32mreturn\u001b[0m \u001b[0;34m[\u001b[0m\u001b[0ms\u001b[0m\u001b[0;34m*\u001b[0m\u001b[0mt\u001b[0m \u001b[0;32mfor\u001b[0m \u001b[0ms\u001b[0m \u001b[0;32min\u001b[0m \u001b[0mp_list\u001b[0m \u001b[0;32mfor\u001b[0m \u001b[0mt\u001b[0m \u001b[0;32min\u001b[0m \u001b[0mq_list\u001b[0m \u001b[0;32mif\u001b[0m \u001b[0mnorm_check\u001b[0m\u001b[0;34m(\u001b[0m\u001b[0ms\u001b[0m\u001b[0;34m,\u001b[0m\u001b[0mt\u001b[0m\u001b[0;34m,\u001b[0m\u001b[0mnorm_sum\u001b[0m\u001b[0;34m)\u001b[0m\u001b[0;34m]\u001b[0m\u001b[0;34m\u001b[0m\u001b[0;34m\u001b[0m\u001b[0m\n\u001b[0m\u001b[1;32m     11\u001b[0m     \u001b[0;32mreturn\u001b[0m \u001b[0;34m[\u001b[0m\u001b[0ms\u001b[0m\u001b[0;34m*\u001b[0m\u001b[0mt\u001b[0m \u001b[0;32mfor\u001b[0m \u001b[0ms\u001b[0m \u001b[0;32min\u001b[0m \u001b[0mp_list\u001b[0m \u001b[0;32mfor\u001b[0m \u001b[0mt\u001b[0m \u001b[0;32min\u001b[0m \u001b[0mq_list\u001b[0m \u001b[0;32mif\u001b[0m \u001b[0mnorm_check\u001b[0m\u001b[0;34m(\u001b[0m\u001b[0ms\u001b[0m\u001b[0;34m,\u001b[0m\u001b[0mt\u001b[0m\u001b[0;34m)\u001b[0m\u001b[0;34m]\u001b[0m\u001b[0;34m\u001b[0m\u001b[0;34m\u001b[0m\u001b[0m\n\u001b[1;32m     12\u001b[0m \u001b[0;34m\u001b[0m\u001b[0m\n",
      "\u001b[0;32m<ipython-input-7-404625a6a4e4>\u001b[0m in \u001b[0;36m<listcomp>\u001b[0;34m(.0)\u001b[0m\n\u001b[1;32m      8\u001b[0m     '''\n\u001b[1;32m      9\u001b[0m     \u001b[0;32mif\u001b[0m \u001b[0mnorm_sum\u001b[0m\u001b[0;34m:\u001b[0m\u001b[0;34m\u001b[0m\u001b[0;34m\u001b[0m\u001b[0m\n\u001b[0;32m---> 10\u001b[0;31m         \u001b[0;32mreturn\u001b[0m \u001b[0;34m[\u001b[0m\u001b[0ms\u001b[0m\u001b[0;34m*\u001b[0m\u001b[0mt\u001b[0m \u001b[0;32mfor\u001b[0m \u001b[0ms\u001b[0m \u001b[0;32min\u001b[0m \u001b[0mp_list\u001b[0m \u001b[0;32mfor\u001b[0m \u001b[0mt\u001b[0m \u001b[0;32min\u001b[0m \u001b[0mq_list\u001b[0m \u001b[0;32mif\u001b[0m \u001b[0mnorm_check\u001b[0m\u001b[0;34m(\u001b[0m\u001b[0ms\u001b[0m\u001b[0;34m,\u001b[0m\u001b[0mt\u001b[0m\u001b[0;34m,\u001b[0m\u001b[0mnorm_sum\u001b[0m\u001b[0;34m)\u001b[0m\u001b[0;34m]\u001b[0m\u001b[0;34m\u001b[0m\u001b[0;34m\u001b[0m\u001b[0m\n\u001b[0m\u001b[1;32m     11\u001b[0m     \u001b[0;32mreturn\u001b[0m \u001b[0;34m[\u001b[0m\u001b[0ms\u001b[0m\u001b[0;34m*\u001b[0m\u001b[0mt\u001b[0m \u001b[0;32mfor\u001b[0m \u001b[0ms\u001b[0m \u001b[0;32min\u001b[0m \u001b[0mp_list\u001b[0m \u001b[0;32mfor\u001b[0m \u001b[0mt\u001b[0m \u001b[0;32min\u001b[0m \u001b[0mq_list\u001b[0m \u001b[0;32mif\u001b[0m \u001b[0mnorm_check\u001b[0m\u001b[0;34m(\u001b[0m\u001b[0ms\u001b[0m\u001b[0;34m,\u001b[0m\u001b[0mt\u001b[0m\u001b[0;34m)\u001b[0m\u001b[0;34m]\u001b[0m\u001b[0;34m\u001b[0m\u001b[0;34m\u001b[0m\u001b[0m\n\u001b[1;32m     12\u001b[0m \u001b[0;34m\u001b[0m\u001b[0m\n",
      "\u001b[0;32m<ipython-input-6-aba1a6e6b863>\u001b[0m in \u001b[0;36mnorm_check\u001b[0;34m(p, q, norm_sum)\u001b[0m\n\u001b[1;32m     10\u001b[0m \u001b[0;34m\u001b[0m\u001b[0m\n\u001b[1;32m     11\u001b[0m     \u001b[0;32mif\u001b[0m \u001b[0mp_trans\u001b[0m\u001b[0;34m.\u001b[0m\u001b[0mintersection\u001b[0m\u001b[0;34m(\u001b[0m\u001b[0mq_trans\u001b[0m\u001b[0;34m)\u001b[0m \u001b[0;34m==\u001b[0m \u001b[0mset\u001b[0m\u001b[0;34m(\u001b[0m\u001b[0;34m[\u001b[0m\u001b[0;34m]\u001b[0m\u001b[0;34m)\u001b[0m\u001b[0;34m:\u001b[0m\u001b[0;34m\u001b[0m\u001b[0;34m\u001b[0m\u001b[0m\n\u001b[0;32m---> 12\u001b[0;31m         \u001b[0;32mreturn\u001b[0m \u001b[0mnorm\u001b[0m\u001b[0;34m(\u001b[0m\u001b[0mp\u001b[0m\u001b[0;34m*\u001b[0m\u001b[0mq\u001b[0m\u001b[0;34m)\u001b[0m\u001b[0;34m==\u001b[0m\u001b[0mnorm_sum\u001b[0m\u001b[0;34m\u001b[0m\u001b[0;34m\u001b[0m\u001b[0m\n\u001b[0m\u001b[1;32m     13\u001b[0m     \u001b[0;32mreturn\u001b[0m \u001b[0;32mFalse\u001b[0m\u001b[0;34m\u001b[0m\u001b[0;34m\u001b[0m\u001b[0m\n",
      "\u001b[0;32m<ipython-input-4-0931468a0a62>\u001b[0m in \u001b[0;36mnorm\u001b[0;34m(p, cycle_dict)\u001b[0m\n\u001b[1;32m      6\u001b[0m     \u001b[0;31m#If the cycle type of p is already computed we can reuse the result.\u001b[0m\u001b[0;34m\u001b[0m\u001b[0;34m\u001b[0m\u001b[0;34m\u001b[0m\u001b[0m\n\u001b[1;32m      7\u001b[0m     \u001b[0;32mif\u001b[0m \u001b[0mcycle_dict\u001b[0m \u001b[0;34m==\u001b[0m \u001b[0;32mNone\u001b[0m\u001b[0;34m:\u001b[0m\u001b[0;34m\u001b[0m\u001b[0;34m\u001b[0m\u001b[0m\n\u001b[0;32m----> 8\u001b[0;31m         \u001b[0mcycle_dict\u001b[0m \u001b[0;34m=\u001b[0m \u001b[0mp\u001b[0m\u001b[0;34m.\u001b[0m\u001b[0mcycle_structure\u001b[0m\u001b[0;34m\u001b[0m\u001b[0;34m\u001b[0m\u001b[0m\n\u001b[0m\u001b[1;32m      9\u001b[0m     \u001b[0msum_of_lengths\u001b[0m \u001b[0;34m=\u001b[0m \u001b[0;36m0\u001b[0m\u001b[0;34m\u001b[0m\u001b[0;34m\u001b[0m\u001b[0m\n\u001b[1;32m     10\u001b[0m     \u001b[0mnum_cycles\u001b[0m \u001b[0;34m=\u001b[0m \u001b[0;36m0\u001b[0m\u001b[0;34m\u001b[0m\u001b[0;34m\u001b[0m\u001b[0m\n",
      "\u001b[0;32m~/anaconda3/lib/python3.8/site-packages/sympy/combinatorics/permutations.py\u001b[0m in \u001b[0;36mcycle_structure\u001b[0;34m(self)\u001b[0m\n\u001b[1;32m   2304\u001b[0m             \u001b[0mrv\u001b[0m \u001b[0;34m=\u001b[0m \u001b[0mdefaultdict\u001b[0m\u001b[0;34m(\u001b[0m\u001b[0mint\u001b[0m\u001b[0;34m)\u001b[0m\u001b[0;34m\u001b[0m\u001b[0;34m\u001b[0m\u001b[0m\n\u001b[1;32m   2305\u001b[0m             \u001b[0msingletons\u001b[0m \u001b[0;34m=\u001b[0m \u001b[0mself\u001b[0m\u001b[0;34m.\u001b[0m\u001b[0msize\u001b[0m\u001b[0;34m\u001b[0m\u001b[0;34m\u001b[0m\u001b[0m\n\u001b[0;32m-> 2306\u001b[0;31m             \u001b[0;32mfor\u001b[0m \u001b[0mc\u001b[0m \u001b[0;32min\u001b[0m \u001b[0mself\u001b[0m\u001b[0;34m.\u001b[0m\u001b[0mcyclic_form\u001b[0m\u001b[0;34m:\u001b[0m\u001b[0;34m\u001b[0m\u001b[0;34m\u001b[0m\u001b[0m\n\u001b[0m\u001b[1;32m   2307\u001b[0m                 \u001b[0mrv\u001b[0m\u001b[0;34m[\u001b[0m\u001b[0mlen\u001b[0m\u001b[0;34m(\u001b[0m\u001b[0mc\u001b[0m\u001b[0;34m)\u001b[0m\u001b[0;34m]\u001b[0m \u001b[0;34m+=\u001b[0m \u001b[0;36m1\u001b[0m\u001b[0;34m\u001b[0m\u001b[0;34m\u001b[0m\u001b[0m\n\u001b[1;32m   2308\u001b[0m                 \u001b[0msingletons\u001b[0m \u001b[0;34m-=\u001b[0m \u001b[0mlen\u001b[0m\u001b[0;34m(\u001b[0m\u001b[0mc\u001b[0m\u001b[0;34m)\u001b[0m\u001b[0;34m\u001b[0m\u001b[0;34m\u001b[0m\u001b[0m\n",
      "\u001b[0;32m~/anaconda3/lib/python3.8/site-packages/sympy/combinatorics/permutations.py\u001b[0m in \u001b[0;36mcyclic_form\u001b[0;34m(self)\u001b[0m\n\u001b[1;32m   1092\u001b[0m                 \u001b[0;32mif\u001b[0m \u001b[0mlen\u001b[0m\u001b[0;34m(\u001b[0m\u001b[0mcycle\u001b[0m\u001b[0;34m)\u001b[0m \u001b[0;34m>\u001b[0m \u001b[0;36m1\u001b[0m\u001b[0;34m:\u001b[0m\u001b[0;34m\u001b[0m\u001b[0;34m\u001b[0m\u001b[0m\n\u001b[1;32m   1093\u001b[0m                     \u001b[0mcyclic_form\u001b[0m\u001b[0;34m.\u001b[0m\u001b[0mappend\u001b[0m\u001b[0;34m(\u001b[0m\u001b[0mcycle\u001b[0m\u001b[0;34m)\u001b[0m\u001b[0;34m\u001b[0m\u001b[0;34m\u001b[0m\u001b[0m\n\u001b[0;32m-> 1094\u001b[0;31m                     \u001b[0;32massert\u001b[0m \u001b[0mcycle\u001b[0m \u001b[0;34m==\u001b[0m \u001b[0mlist\u001b[0m\u001b[0;34m(\u001b[0m\u001b[0mminlex\u001b[0m\u001b[0;34m(\u001b[0m\u001b[0mcycle\u001b[0m\u001b[0;34m,\u001b[0m \u001b[0mis_set\u001b[0m\u001b[0;34m=\u001b[0m\u001b[0;32mTrue\u001b[0m\u001b[0;34m)\u001b[0m\u001b[0;34m)\u001b[0m\u001b[0;34m\u001b[0m\u001b[0;34m\u001b[0m\u001b[0m\n\u001b[0m\u001b[1;32m   1095\u001b[0m         \u001b[0mcyclic_form\u001b[0m\u001b[0;34m.\u001b[0m\u001b[0msort\u001b[0m\u001b[0;34m(\u001b[0m\u001b[0;34m)\u001b[0m\u001b[0;34m\u001b[0m\u001b[0;34m\u001b[0m\u001b[0m\n\u001b[1;32m   1096\u001b[0m         \u001b[0mself\u001b[0m\u001b[0;34m.\u001b[0m\u001b[0m_cyclic_form\u001b[0m \u001b[0;34m=\u001b[0m \u001b[0mcyclic_form\u001b[0m\u001b[0;34m[\u001b[0m\u001b[0;34m:\u001b[0m\u001b[0;34m]\u001b[0m\u001b[0;34m\u001b[0m\u001b[0;34m\u001b[0m\u001b[0m\n",
      "\u001b[0;32m~/anaconda3/lib/python3.8/site-packages/sympy/utilities/iterables.py\u001b[0m in \u001b[0;36mminlex\u001b[0;34m(seq, directed, is_set, small)\u001b[0m\n\u001b[1;32m   2462\u001b[0m     \u001b[0mseq\u001b[0m \u001b[0;34m=\u001b[0m \u001b[0mlist\u001b[0m\u001b[0;34m(\u001b[0m\u001b[0mseq\u001b[0m\u001b[0;34m)\u001b[0m\u001b[0;34m\u001b[0m\u001b[0;34m\u001b[0m\u001b[0m\n\u001b[1;32m   2463\u001b[0m     \u001b[0;32mif\u001b[0m \u001b[0msmall\u001b[0m \u001b[0;32mis\u001b[0m \u001b[0;32mNone\u001b[0m\u001b[0;34m:\u001b[0m\u001b[0;34m\u001b[0m\u001b[0;34m\u001b[0m\u001b[0m\n\u001b[0;32m-> 2464\u001b[0;31m         \u001b[0msmall\u001b[0m \u001b[0;34m=\u001b[0m \u001b[0mmin\u001b[0m\u001b[0;34m(\u001b[0m\u001b[0mseq\u001b[0m\u001b[0;34m,\u001b[0m \u001b[0mkey\u001b[0m\u001b[0;34m=\u001b[0m\u001b[0mdefault_sort_key\u001b[0m\u001b[0;34m)\u001b[0m\u001b[0;34m\u001b[0m\u001b[0;34m\u001b[0m\u001b[0m\n\u001b[0m\u001b[1;32m   2465\u001b[0m     \u001b[0;32mif\u001b[0m \u001b[0mis_set\u001b[0m\u001b[0;34m:\u001b[0m\u001b[0;34m\u001b[0m\u001b[0;34m\u001b[0m\u001b[0m\n\u001b[1;32m   2466\u001b[0m         \u001b[0mi\u001b[0m \u001b[0;34m=\u001b[0m \u001b[0mseq\u001b[0m\u001b[0;34m.\u001b[0m\u001b[0mindex\u001b[0m\u001b[0;34m(\u001b[0m\u001b[0msmall\u001b[0m\u001b[0;34m)\u001b[0m\u001b[0;34m\u001b[0m\u001b[0;34m\u001b[0m\u001b[0m\n",
      "\u001b[0;32m~/anaconda3/lib/python3.8/site-packages/sympy/core/compatibility.py\u001b[0m in \u001b[0;36mdefault_sort_key\u001b[0;34m(item, order)\u001b[0m\n\u001b[1;32m    536\u001b[0m                 \u001b[0;32mif\u001b[0m \u001b[0misinstance\u001b[0m\u001b[0;34m(\u001b[0m\u001b[0mitem\u001b[0m\u001b[0;34m,\u001b[0m \u001b[0mBasic\u001b[0m\u001b[0;34m)\u001b[0m\u001b[0;34m:\u001b[0m\u001b[0;34m\u001b[0m\u001b[0;34m\u001b[0m\u001b[0m\n\u001b[1;32m    537\u001b[0m                     \u001b[0;31m# e.g int -> Integer\u001b[0m\u001b[0;34m\u001b[0m\u001b[0;34m\u001b[0m\u001b[0;34m\u001b[0m\u001b[0m\n\u001b[0;32m--> 538\u001b[0;31m                     \u001b[0;32mreturn\u001b[0m \u001b[0mdefault_sort_key\u001b[0m\u001b[0;34m(\u001b[0m\u001b[0mitem\u001b[0m\u001b[0;34m)\u001b[0m\u001b[0;34m\u001b[0m\u001b[0;34m\u001b[0m\u001b[0m\n\u001b[0m\u001b[1;32m    539\u001b[0m                 \u001b[0;31m# e.g. UndefinedFunction\u001b[0m\u001b[0;34m\u001b[0m\u001b[0;34m\u001b[0m\u001b[0;34m\u001b[0m\u001b[0m\n\u001b[1;32m    540\u001b[0m \u001b[0;34m\u001b[0m\u001b[0m\n",
      "\u001b[0;32m~/anaconda3/lib/python3.8/site-packages/sympy/core/compatibility.py\u001b[0m in \u001b[0;36mdefault_sort_key\u001b[0;34m(item, order)\u001b[0m\n\u001b[1;32m    502\u001b[0m     \u001b[0;32mfrom\u001b[0m \u001b[0;34m.\u001b[0m\u001b[0mbasic\u001b[0m \u001b[0;32mimport\u001b[0m \u001b[0mBasic\u001b[0m\u001b[0;34m\u001b[0m\u001b[0;34m\u001b[0m\u001b[0m\n\u001b[1;32m    503\u001b[0m     \u001b[0;32mfrom\u001b[0m \u001b[0;34m.\u001b[0m\u001b[0msympify\u001b[0m \u001b[0;32mimport\u001b[0m \u001b[0msympify\u001b[0m\u001b[0;34m,\u001b[0m \u001b[0mSympifyError\u001b[0m\u001b[0;34m\u001b[0m\u001b[0;34m\u001b[0m\u001b[0m\n\u001b[0;32m--> 504\u001b[0;31m     \u001b[0;32mfrom\u001b[0m \u001b[0;34m.\u001b[0m\u001b[0mcompatibility\u001b[0m \u001b[0;32mimport\u001b[0m \u001b[0miterable\u001b[0m\u001b[0;34m\u001b[0m\u001b[0;34m\u001b[0m\u001b[0m\n\u001b[0m\u001b[1;32m    505\u001b[0m \u001b[0;34m\u001b[0m\u001b[0m\n\u001b[1;32m    506\u001b[0m     \u001b[0;32mif\u001b[0m \u001b[0misinstance\u001b[0m\u001b[0;34m(\u001b[0m\u001b[0mitem\u001b[0m\u001b[0;34m,\u001b[0m \u001b[0mBasic\u001b[0m\u001b[0;34m)\u001b[0m\u001b[0;34m:\u001b[0m\u001b[0;34m\u001b[0m\u001b[0;34m\u001b[0m\u001b[0m\n",
      "\u001b[0;31mKeyboardInterrupt\u001b[0m: "
     ]
    }
   ],
   "source": [
    "#Entire multiplication table\n",
    "mult_table = []\n",
    "\n",
    "for k1,v1 in tqdm(basis.items()):\n",
    "    for k2,v2 in basis.items():\n",
    "        if k1 >= k2:\n",
    "            n = norm2(k1) + norm2(k2)\n",
    "            if n < d:\n",
    "                s = \"g_\"+to_string(k1) + \" * g_\" + to_string(k2)\n",
    "                s += \" = \" + decompose2(Aprod(v1,v2,n), string_output = True)\n",
    "                mult_table.append(s)\n",
    "                print(s)"
   ]
  },
  {
   "cell_type": "markdown",
   "metadata": {},
   "source": [
    "### Save result as a pickle file"
   ]
  },
  {
   "cell_type": "code",
   "execution_count": null,
   "metadata": {},
   "outputs": [],
   "source": [
    "#with open('g2table.pkl', 'wb') as f:\n",
    "#    pickle.dump(g2_mult_table, f)"
   ]
  },
  {
   "cell_type": "code",
   "execution_count": null,
   "metadata": {},
   "outputs": [],
   "source": [
    "#with open('prod_obs.pkl', 'wb') as f:\n",
    "#    pickle.dump(products, f)"
   ]
  },
  {
   "cell_type": "markdown",
   "metadata": {},
   "source": [
    "### Open pickle files"
   ]
  },
  {
   "cell_type": "code",
   "execution_count": null,
   "metadata": {},
   "outputs": [],
   "source": [
    "with open('g2table.pkl', 'rb') as f:\n",
    "    products = pickle.load(f)\n",
    "for line in products:\n",
    "    print(line[0:-3])"
   ]
  },
  {
   "cell_type": "markdown",
   "metadata": {},
   "source": [
    "# Relations 2.0"
   ]
  },
  {
   "cell_type": "code",
   "execution_count": 13,
   "metadata": {},
   "outputs": [],
   "source": [
    "f = lambda u, v: Aprod(u,v)\n",
    "g = lambda u: decompose2(u, string_output = True)\n",
    "\n",
    "def gen_monoms(d,generators = [], monomials = [], alphabet = \"xyzwXYYZW\", print_monoms = True):\n",
    "    '''\n",
    "    Input:\n",
    "        - d: integer, dimension of A(d)\n",
    "        Optional:\n",
    "        - generators: a list containing the generators x,y,z etc.\n",
    "        - monomials: a list containing the products e.g. x^2y\n",
    "        - alphabet: a string containing the letters reserved for the name of the monomials\n",
    "        - print_monoms: Boolean, an option to print computations on the way.\n",
    "    Output: Generates all monomials of order <d generated by x=g_2, y=g_2^2, etc.\n",
    "    '''\n",
    "    \n",
    "    if generators == []:\n",
    "        basis = gen_all(d)\n",
    "        generators = [basis[(d-2-2*i, i+1)] for i in range(d//2)]\n",
    "    \n",
    "    if monomials == []:\n",
    "        monomials.append((0,[Permutation(d-1)()], \"\"))\n",
    "    \n",
    "    mon = (norm((generators[0])[0]), generators[0], alphabet[0])\n",
    "\n",
    "    for m in monomials:\n",
    "        if m[0] + mon[0] < d:\n",
    "            if m[2] + mon[2] == (d-1)*\"x\": \n",
    "                #This line was added after knowing that x^(d-1) = d^(d-2)\n",
    "                pass\n",
    "            else:\n",
    "                product = f(mon[1],m[1])\n",
    "                monomials.append((m[0] + mon[0], product, m[2]+mon[2]))\n",
    "                if print_monoms:\n",
    "                    print(m[2]+mon[2] + \" generated\")\n",
    "    \n",
    "    if len(generators)==1:\n",
    "        return monomials\n",
    "    else:\n",
    "        return gen_monoms(d, generators[1:], monomials, alphabet[1:], print_monoms)\n",
    "            \n",
    "def rel_experiment(d, return_monomials = False, print_output = True):\n",
    "    '''\n",
    "    Input:\n",
    "        - d: the size of A(d)\n",
    "        - return_monomials: Whether to return all monomials generated.\n",
    "        - print_output: If false, no output is printed.\n",
    "    '''\n",
    "    monoms = gen_monoms(d,monomials = [], print_monoms = print_output)\n",
    "    for m in monoms:\n",
    "        if len(m[2])>1 and print_output:\n",
    "            print(\"monomial:\", m[2], \"decomp:\", g(m[1]))\n",
    "    if return_monomials:\n",
    "        return(monoms)"
   ]
  },
  {
   "cell_type": "code",
   "execution_count": 14,
   "metadata": {},
   "outputs": [
    {
     "data": {
      "application/vnd.jupyter.widget-view+json": {
       "model_id": "0678c9a963054df7b31b78ca11e36f13",
       "version_major": 2,
       "version_minor": 0
      },
      "text/plain": [
       "HBox(children=(HTML(value=''), FloatProgress(value=0.0, max=24.0), HTML(value='')))"
      ]
     },
     "metadata": {},
     "output_type": "display_data"
    },
    {
     "name": "stdout",
     "output_type": "stream",
     "text": [
      "\n",
      "x generated\n",
      "xx generated\n",
      "y generated\n",
      "xy generated\n",
      "monomial: xx decomp: 3*g_3^1  +  2*g_2^2  \n",
      "monomial: xy decomp: 2*g_4^1  \n"
     ]
    }
   ],
   "source": [
    "rel_experiment(4)"
   ]
  },
  {
   "cell_type": "markdown",
   "metadata": {},
   "source": [
    "# Timing Analyses"
   ]
  },
  {
   "cell_type": "code",
   "execution_count": null,
   "metadata": {},
   "outputs": [],
   "source": [
    "import matplotlib.pyplot as plt\n",
    "from matplotlib.ticker import MaxNLocator\n",
    "import seaborn as sns\n",
    "from timeit import default_timer\n",
    "\n",
    "import pandas as pd\n",
    "from pympler import asizeof # pip install pympler, records deep memory of object.\n",
    "\n",
    "def timing_experiment(max_d = 5):\n",
    "    #Records memory and runtime of rel_experiment as a function of d.\n",
    "    df = pd.DataFrame(columns = [\"d\", \"Time\",\"logTime\", \"logMemory\"])   \n",
    "    for d in range(2,max_d+1):\n",
    "        start = default_timer()\n",
    "        M = rel_experiment(int(d), return_monomials = True, print_output = False)\n",
    "        end = default_timer()\n",
    "        df = df.append({\"d\":d, \"Time\":(end-start), \"logTime\":np.log(end-start),\n",
    "                        \"logMemory\":np.log(asizeof.asizeof(M))},ignore_index=True)\n",
    "    return df"
   ]
  },
  {
   "cell_type": "code",
   "execution_count": null,
   "metadata": {},
   "outputs": [],
   "source": [
    "#time_df = timing_experiment(6)\n",
    "time_df = pd.read_pickle(\"TimingResults2.pkl\")"
   ]
  },
  {
   "cell_type": "code",
   "execution_count": null,
   "metadata": {},
   "outputs": [],
   "source": [
    "ax = time_df.plot(x=\"d\", y=\"logTime\", legend=False)\n",
    "plt.ylabel(\"Runtime in log(s)\")\n",
    "ax2 = ax.twinx()\n",
    "time_df.plot(x=\"d\", y=\"logMemory\", ax=ax2, legend=False, color=\"r\")\n",
    "ax.figure.legend()\n",
    "ax.xaxis.set_major_locator(MaxNLocator(integer=True))\n",
    "plt.xlabel(\"d\")\n",
    "plt.ylabel(\"Memory usage in log(bites)\")\n",
    "plt.savefig(\"TimeAndMemory.pdf\")"
   ]
  },
  {
   "cell_type": "code",
   "execution_count": null,
   "metadata": {},
   "outputs": [],
   "source": [
    "a = Permutation(8)(3,4)\n",
    "b = 10000000\n",
    "print(asizeof.asizeof(a), asizeof.asizeof([i for i in range(10)]))"
   ]
  },
  {
   "cell_type": "code",
   "execution_count": null,
   "metadata": {},
   "outputs": [],
   "source": []
  },
  {
   "cell_type": "code",
   "execution_count": null,
   "metadata": {},
   "outputs": [],
   "source": []
  }
 ],
 "metadata": {
  "kernelspec": {
   "display_name": "Python 3",
   "language": "python",
   "name": "python3"
  },
  "language_info": {
   "codemirror_mode": {
    "name": "ipython",
    "version": 3
   },
   "file_extension": ".py",
   "mimetype": "text/x-python",
   "name": "python",
   "nbconvert_exporter": "python",
   "pygments_lexer": "ipython3",
   "version": "3.8.5"
  }
 },
 "nbformat": 4,
 "nbformat_minor": 2
}
