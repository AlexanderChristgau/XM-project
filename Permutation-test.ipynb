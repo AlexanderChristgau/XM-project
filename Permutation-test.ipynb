{
 "cells": [
  {
   "cell_type": "code",
   "execution_count": 1,
   "metadata": {},
   "outputs": [],
   "source": [
    "from sympy.combinatorics import *\n",
    "from itertools import permutations, combinations\n",
    "from sympy.combinatorics.permutations import _af_parity as parity\n",
    "from sympy.interactive import init_printing\n",
    "init_printing(perm_cyclic=True, pretty_print=False)"
   ]
  },
  {
   "cell_type": "code",
   "execution_count": 2,
   "metadata": {},
   "outputs": [
    {
     "data": {
      "text/plain": [
       "[(3)(0 1), (3)(0 2), (0 3), (3)(1 2), (1 3), (2 3)]"
      ]
     },
     "execution_count": 2,
     "metadata": {},
     "output_type": "execute_result"
    }
   ],
   "source": [
    "L = []\n",
    "for c in combinations(range(4),2):\n",
    "    L.append(Permutation(c[0],c[1], size = 4))\n",
    "L"
   ]
  },
  {
   "cell_type": "code",
   "execution_count": 3,
   "metadata": {},
   "outputs": [],
   "source": [
    "prod = []\n",
    "for s in L:\n",
    "    for t in L:\n",
    "        prod.append(s*t)"
   ]
  },
  {
   "cell_type": "code",
   "execution_count": 4,
   "metadata": {},
   "outputs": [
    {
     "name": "stdout",
     "output_type": "stream",
     "text": [
      "[0, 1, 2, 3] []\n",
      "[1, 2, 0, 3] [(0, 2), (0, 1)]\n",
      "[1, 3, 2, 0] [(0, 3), (0, 1)]\n",
      "[2, 0, 1, 3] [(0, 1), (0, 2)]\n",
      "[3, 0, 2, 1] [(0, 1), (0, 3)]\n",
      "[1, 0, 3, 2] [(0, 1), (2, 3)]\n",
      "[2, 0, 1, 3] [(0, 1), (0, 2)]\n",
      "[0, 1, 2, 3] []\n",
      "[2, 1, 3, 0] [(0, 3), (0, 2)]\n",
      "[1, 2, 0, 3] [(0, 2), (0, 1)]\n",
      "[2, 3, 0, 1] [(0, 2), (1, 3)]\n",
      "[3, 1, 0, 2] [(0, 2), (0, 3)]\n",
      "[3, 0, 2, 1] [(0, 1), (0, 3)]\n",
      "[3, 1, 0, 2] [(0, 2), (0, 3)]\n",
      "[0, 1, 2, 3] []\n",
      "[3, 2, 1, 0] [(0, 3), (1, 2)]\n",
      "[1, 3, 2, 0] [(0, 3), (0, 1)]\n",
      "[2, 1, 3, 0] [(0, 3), (0, 2)]\n",
      "[1, 2, 0, 3] [(0, 2), (0, 1)]\n",
      "[2, 0, 1, 3] [(0, 1), (0, 2)]\n",
      "[3, 2, 1, 0] [(0, 3), (1, 2)]\n",
      "[0, 1, 2, 3] []\n",
      "[0, 2, 3, 1] [(1, 3), (1, 2)]\n",
      "[0, 3, 1, 2] [(1, 2), (1, 3)]\n",
      "[1, 3, 2, 0] [(0, 3), (0, 1)]\n",
      "[2, 3, 0, 1] [(0, 2), (1, 3)]\n",
      "[3, 0, 2, 1] [(0, 1), (0, 3)]\n",
      "[0, 3, 1, 2] [(1, 2), (1, 3)]\n",
      "[0, 1, 2, 3] []\n",
      "[0, 2, 3, 1] [(1, 3), (1, 2)]\n",
      "[1, 0, 3, 2] [(0, 1), (2, 3)]\n",
      "[2, 1, 3, 0] [(0, 3), (0, 2)]\n",
      "[3, 1, 0, 2] [(0, 2), (0, 3)]\n",
      "[0, 2, 3, 1] [(1, 3), (1, 2)]\n",
      "[0, 3, 1, 2] [(1, 2), (1, 3)]\n",
      "[0, 1, 2, 3] []\n"
     ]
    }
   ],
   "source": [
    "for p in prod:\n",
    "    print(p.list(), p.transpositions())"
   ]
  },
  {
   "cell_type": "code",
   "execution_count": 5,
   "metadata": {},
   "outputs": [],
   "source": [
    "def check_if2x2(L):\n",
    "    for i in L[0]:\n",
    "        for j in L[1]:\n",
    "            if i==j:\n",
    "                return False\n",
    "    return True"
   ]
  },
  {
   "cell_type": "code",
   "execution_count": 6,
   "metadata": {},
   "outputs": [],
   "source": [
    "type1 = []\n",
    "type2 = []\n",
    "type3 = []\n",
    "\n",
    "for p in prod:\n",
    "    if p.is_identity:\n",
    "        type1.append(p)\n",
    "    elif check_if2x2(p.transpositions()):\n",
    "        type3.append(p)\n",
    "    else:\n",
    "        type2.append(p)"
   ]
  },
  {
   "cell_type": "code",
   "execution_count": 7,
   "metadata": {},
   "outputs": [
    {
     "data": {
      "text/plain": [
       "(6, 24, 6)"
      ]
     },
     "execution_count": 7,
     "metadata": {},
     "output_type": "execute_result"
    }
   ],
   "source": [
    "len(type1),len(type2),len(type3)"
   ]
  },
  {
   "cell_type": "code",
   "execution_count": 8,
   "metadata": {},
   "outputs": [
    {
     "data": {
      "text/plain": [
       "(1, 8, 3)"
      ]
     },
     "execution_count": 8,
     "metadata": {},
     "output_type": "execute_result"
    }
   ],
   "source": [
    "len(list(set(type1))),len(list(set(type2))),len(list(set(type3))),"
   ]
  },
  {
   "cell_type": "code",
   "execution_count": 10,
   "metadata": {},
   "outputs": [
    {
     "name": "stdout",
     "output_type": "stream",
     "text": [
      "Cycle not found\n",
      "Cycle not found\n",
      "Cycle not found\n"
     ]
    },
    {
     "data": {
      "text/plain": [
       "({2: 2}, {2: 2})"
      ]
     },
     "execution_count": 10,
     "metadata": {},
     "output_type": "execute_result"
    }
   ],
   "source": [
    "list_of_cycles_with_trans = []\n",
    "for i in list(symmetric(3)):\n",
    "    try:\n",
    "        i.cycle_structure[2]\n",
    "        list_of_cycles_with_trans.append(i)\n",
    "    except:\n",
    "        print(\"Cycle not found\")\n",
    "\n",
    "list_of_cycles_with_trans\n",
    "\n",
    "test_dict = {2:2}\n",
    "test_dict, Permutation(0,1)(2,3).cycle_structure"
   ]
  },
  {
   "cell_type": "code",
   "execution_count": 11,
   "metadata": {},
   "outputs": [
    {
     "data": {
      "text/plain": [
       "({1: 2, 2: 1}, [(2 3), (3)(1 2), (1 3), (3)(0 1), (3)(0 2), (0 3)])"
      ]
     },
     "execution_count": 11,
     "metadata": {},
     "output_type": "execute_result"
    }
   ],
   "source": [
    "def gen_perms_cycle_type(l,n):\n",
    "    has_to_be_partition = 0\n",
    "    for key, value in l.items():\n",
    "        has_to_be_partition = has_to_be_partition + key*value\n",
    "    if has_to_be_partition < n:\n",
    "        print(\"Invalid cycle type format.\")\n",
    "    else:\n",
    "        list_with_cycle_type = []\n",
    "        for i in list(symmetric(n)):\n",
    "            if i.cycle_structure == l:\n",
    "                list_with_cycle_type.append(i)            \n",
    "        return list_with_cycle_type\n",
    "    \n",
    "Permutation(3)(0,1).cycle_structure, generate_perms_with_cycle_type({1:2,2:1},4)"
   ]
  },
  {
   "cell_type": "code",
   "execution_count": null,
   "metadata": {},
   "outputs": [],
   "source": []
  }
 ],
 "metadata": {
  "kernelspec": {
   "display_name": "Python 3",
   "language": "python",
   "name": "python3"
  },
  "language_info": {
   "codemirror_mode": {
    "name": "ipython",
    "version": 3
   },
   "file_extension": ".py",
   "mimetype": "text/x-python",
   "name": "python",
   "nbconvert_exporter": "python",
   "pygments_lexer": "ipython3",
   "version": "3.7.1"
  }
 },
 "nbformat": 4,
 "nbformat_minor": 2
}
