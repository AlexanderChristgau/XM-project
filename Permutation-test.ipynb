{
 "cells": [
  {
   "cell_type": "code",
   "execution_count": null,
   "metadata": {},
   "outputs": [],
   "source": [
    "from sympy.combinatorics import *\n",
    "from itertools import combinations\n",
    "from sympy.interactive import init_printing\n",
    "\n",
    "from tqdm.notebook import tqdm\n",
    "\n",
    "from math import factorial\n",
    "import numpy as np\n",
    "\n",
    "import pickle\n",
    "\n",
    "init_printing(perm_cyclic=True, pretty_print=False) #prints permutations in compact notation\n",
    "perm_type = permutations.Permutation"
   ]
  },
  {
   "cell_type": "markdown",
   "metadata": {},
   "source": [
    "# Reproduce (correct) coefficients from project catalog"
   ]
  },
  {
   "cell_type": "code",
   "execution_count": null,
   "metadata": {},
   "outputs": [],
   "source": [
    "def gen_ctype(l: dict,n: int):\n",
    "    '''\n",
    "    Input:\n",
    "        l - cycle decompostion as a dictionary including 1 cycles. e.g. {1:2, 2:1} is a transposition in S_4\n",
    "        n - specifies order of symmetric group\n",
    "    Output:\n",
    "        Generates all permutations of specified cycletype as a list\n",
    "    '''\n",
    "    \n",
    "    has_to_be_partition = 0\n",
    "    for key, value in l.items():\n",
    "        has_to_be_partition = has_to_be_partition + key*value\n",
    "    if has_to_be_partition < n:\n",
    "        print(\"Invalid cycle type format.\")\n",
    "    else:\n",
    "        list_with_cycle_type = []\n",
    "        \n",
    "        #run through all permutations and append them if they have the correct cycletype\n",
    "        for i in list(symmetric(n)): \n",
    "            if i.cycle_structure == l:\n",
    "                list_with_cycle_type.append(i)            \n",
    "        return list_with_cycle_type\n",
    "    \n",
    "Permutation(3)(0,1).cycle_structure, gen_ctype({1:2,2:1},4)"
   ]
  },
  {
   "cell_type": "code",
   "execution_count": null,
   "metadata": {},
   "outputs": [],
   "source": [
    "def norm(p, cycle_dict = None):\n",
    "    '''\n",
    "    Input: permutation p, optionally the cycle structure of p.\n",
    "    Output: The norm of p\n",
    "    '''\n",
    "    #If the cycle type of p is already computed we may reuse the computation.\n",
    "    if cycle_dict == None:\n",
    "        cycle_dict = p.cycle_structure\n",
    "    sum_of_lengths = 0\n",
    "    num_cycles = 0\n",
    "    for key, value in cycle_dict.items():\n",
    "        sum_of_lengths += key*value\n",
    "        num_cycles += value\n",
    "    return sum_of_lengths-num_cycles"
   ]
  },
  {
   "cell_type": "code",
   "execution_count": null,
   "metadata": {},
   "outputs": [],
   "source": [
    "def norm_check(p,q, norm_sum = None):\n",
    "    if norm_sum == None:\n",
    "        norm_sum = norm(p) + norm(q)\n",
    "    return norm(p*q)==norm_sum"
   ]
  },
  {
   "cell_type": "code",
   "execution_count": null,
   "metadata": {},
   "outputs": [],
   "source": [
    "def norm_check2(p,q, norm_sum = None):\n",
    "    if norm_sum == None:\n",
    "        norm_sum = norm(p) + norm(q)\n",
    "    p_trans = set(p.transpositions())\n",
    "    q_trans = set(q.transpositions())\n",
    "    \n",
    "    if p_trans.intersection(q_trans) == set([]):\n",
    "        return norm(p*q)==norm_sum\n",
    "    return False"
   ]
  },
  {
   "cell_type": "code",
   "execution_count": null,
   "metadata": {},
   "outputs": [],
   "source": [
    "def myprod(p_list, q_list, norm_sum = None):\n",
    "    if norm_sum:\n",
    "        return [s*t for s in p_list for t in q_list if norm_check2(s,t,norm_sum)]\n",
    "    return [s*t for s in p_list for t in q_list if norm_check2(s,t)]"
   ]
  },
  {
   "cell_type": "code",
   "execution_count": null,
   "metadata": {},
   "outputs": [],
   "source": [
    "# Create element g2 as a list of permutations (sympy permutations)\n",
    "g2 = gen_ctype({1:2, 2:1},4)\n",
    "g2"
   ]
  },
  {
   "cell_type": "code",
   "execution_count": 8,
   "metadata": {},
   "outputs": [],
   "source": [
    "# Generate powers of g2\n",
    "g2_square = myprod(g2,g2,2)\n",
    "g2_cube = myprod(g2,g2_square,3)\n",
    "g2_quad = myprod(g2,g2_cube,4)"
   ]
  },
  {
   "cell_type": "code",
   "execution_count": 9,
   "metadata": {},
   "outputs": [],
   "source": [
    "def memoize(f):\n",
    "    memo = {}\n",
    "    def helper(x):\n",
    "        if x not in memo:            \n",
    "            memo[x] = f(x)\n",
    "        return memo[x]\n",
    "    return helper"
   ]
  },
  {
   "cell_type": "code",
   "execution_count": 10,
   "metadata": {},
   "outputs": [
    {
     "data": {
      "text/plain": [
       "(2, 1)"
      ]
     },
     "execution_count": 10,
     "metadata": {},
     "output_type": "execute_result"
    }
   ],
   "source": [
    "def ctype(p: perm_type):\n",
    "    '''\n",
    "    Input:\n",
    "        Sympy permutation\n",
    "    Output:\n",
    "        Gives cycletype of permutation as a tuple with i'th coordinate being multiplicity of i-cycles.\n",
    "    '''\n",
    "    d = p.cycle_structure\n",
    "    max_val = max(d.keys())\n",
    "    L = []\n",
    "    for i in range(1,max_val+1):\n",
    "        if i in list(d.keys()):\n",
    "            L.append(d[i])\n",
    "        else:\n",
    "            L.append(0)\n",
    "    return tuple(L)\n",
    "\n",
    "ctype(Permutation(3)(1,3)) # has 2 1-cycles (0 and 2) and one 2-cycle"
   ]
  },
  {
   "cell_type": "code",
   "execution_count": 11,
   "metadata": {},
   "outputs": [
    {
     "name": "stdout",
     "output_type": "stream",
     "text": [
      "g2 squared decomp {(1, 0, 1): 24, (0, 2): 6} \n",
      "g2 cubed decomp {(0, 0, 0, 1): 96}\n"
     ]
    }
   ],
   "source": [
    "def decompose(plist: list, progressbar=True):\n",
    "    '''\n",
    "    Input: List of permutations\n",
    "    Output: Decomposes list by occurences of cycletype\n",
    "    '''\n",
    "    cycle_count = {}\n",
    "    for p in tqdm(plist, disable = progressbar):\n",
    "        p_type = ctype(p)\n",
    "        if p_type in list(cycle_count.keys()):\n",
    "            cycle_count[p_type] += 1\n",
    "        else:\n",
    "            cycle_count[p_type] = 1\n",
    "    return cycle_count\n",
    "\n",
    "print(\"g2 squared decomp\", decompose(g2_square),\n",
    "      \"\\n\" \"g2 cubed decomp\", decompose(g2_cube))"
   ]
  },
  {
   "cell_type": "code",
   "execution_count": 12,
   "metadata": {},
   "outputs": [
    {
     "data": {
      "text/plain": [
       "6"
      ]
     },
     "execution_count": 12,
     "metadata": {},
     "output_type": "execute_result"
    }
   ],
   "source": [
    "def num_ctype(ctuple):\n",
    "    '''\n",
    "    Input: cycle type as a tuple\n",
    "    Output: number of permutations with given cycle type using \n",
    "    '''\n",
    "    n = sum((i+1)*ctuple[i] for i in range(len(ctuple)))\n",
    "    numerator = factorial(n)\n",
    "    denominator = 1\n",
    "    for i in range(len(ctuple)):\n",
    "        denominator *= ((i+1)**ctuple[i]) * factorial(ctuple[i])\n",
    "    return numerator // denominator\n",
    "\n",
    "num_ctype((2,1))"
   ]
  },
  {
   "cell_type": "code",
   "execution_count": 13,
   "metadata": {},
   "outputs": [],
   "source": [
    "def to_string(d):\n",
    "    if type(d) == dict:\n",
    "        s = \"\"\n",
    "        for key, value in d.items():\n",
    "            s += str(value) + \"*\" + \"g_\"+ to_string(key) + \"  +  \"\n",
    "        return s[0:-3]\n",
    "    s = \"\"\n",
    "    for i,k in enumerate(d):\n",
    "        if i!=0 and k!= 0:\n",
    "            s+= str(i+1) + \"^\" + str(k) + \",\"\n",
    "    return s[0:-1]"
   ]
  },
  {
   "cell_type": "code",
   "execution_count": 14,
   "metadata": {},
   "outputs": [],
   "source": [
    "def decompose2(plist, string_output = False):\n",
    "    '''\n",
    "    Input: list of permutations\n",
    "    Output: decomposition according to A(d)\n",
    "    '''\n",
    "    d = decompose(plist)\n",
    "    for i in d.keys():\n",
    "        d[i] //= num_ctype(i)\n",
    "        \n",
    "    if string_output:\n",
    "        return to_string(d)\n",
    "    return d"
   ]
  },
  {
   "cell_type": "code",
   "execution_count": 15,
   "metadata": {},
   "outputs": [
    {
     "name": "stdout",
     "output_type": "stream",
     "text": [
      "g2 square {(1, 0, 1): 3, (0, 2): 2} \n",
      "g2 cube {(0, 0, 0, 1): 16} \n",
      "g2 quad {}\n"
     ]
    }
   ],
   "source": [
    "print(\"g2 square\", decompose2(g2_square), \n",
    "      \"\\n\" \"g2 cube\", decompose2(g2_cube), \n",
    "      \"\\n\" \"g2 quad\", decompose2(g2_quad))"
   ]
  },
  {
   "cell_type": "markdown",
   "metadata": {},
   "source": [
    "## Output coefficient matrix"
   ]
  },
  {
   "cell_type": "code",
   "execution_count": null,
   "metadata": {},
   "outputs": [],
   "source": [
    "d = 6\n",
    "g2 = gen_ctype({1:(d-2), 2:1}, d)\n",
    "\n",
    "g2_powers = [myprod(g2,g2,2)]\n",
    "\n",
    "for i in tqdm(range(3,3+3)):\n",
    "    g2_powers.append(myprod(g2,g2_powers[-1],i))"
   ]
  },
  {
   "cell_type": "code",
   "execution_count": null,
   "metadata": {},
   "outputs": [],
   "source": [
    "g2_powers_decomp = []\n",
    "for i in tqdm(g2_powers):\n",
    "    g2_powers_decomp.append(decompose2(i))\n",
    "    print(g2_powers_decomp[-1])"
   ]
  },
  {
   "cell_type": "code",
   "execution_count": null,
   "metadata": {},
   "outputs": [],
   "source": [
    "all_keys = set([])\n",
    "for decomp in g2_powers_decomp:\n",
    "    all_keys = all_keys.union(set(decomp.keys()))\n",
    "all_keys = all_keys - {(d-2, 1), (d,)}\n",
    "all_keys = list(all_keys)\n",
    "all_keys.sort()\n",
    "all_keys"
   ]
  },
  {
   "cell_type": "code",
   "execution_count": null,
   "metadata": {},
   "outputs": [],
   "source": [
    "(n,m) = (len(g2_powers_decomp),len(all_keys))\n",
    "A = np.zeros((n,m)).astype(int)\n",
    "\n",
    "for i in range(n):\n",
    "    for j in range(m):\n",
    "        try:\n",
    "            A[i,j] = (g2_powers_decomp[i])[all_keys[j]]\n",
    "        except:\n",
    "            pass\n",
    "\n",
    "A"
   ]
  },
  {
   "cell_type": "code",
   "execution_count": null,
   "metadata": {},
   "outputs": [],
   "source": [
    "np.linalg.matrix_rank(A)"
   ]
  },
  {
   "cell_type": "markdown",
   "metadata": {},
   "source": [
    "# Relations"
   ]
  },
  {
   "cell_type": "code",
   "execution_count": 16,
   "metadata": {},
   "outputs": [
    {
     "data": {
      "application/vnd.jupyter.widget-view+json": {
       "model_id": "3d9aa28897704edd8f9fdbafca3b6b08",
       "version_major": 2,
       "version_minor": 0
      },
      "text/plain": [
       "HBox(children=(IntProgress(value=0, max=3), HTML(value='')))"
      ]
     },
     "metadata": {},
     "output_type": "display_data"
    },
    {
     "name": "stdout",
     "output_type": "stream",
     "text": [
      "\n"
     ]
    }
   ],
   "source": [
    "d = 6\n",
    "generators = []\n",
    "\n",
    "for i in tqdm(range(2, d//2+2)):\n",
    "    generators.append(\n",
    "        gen_ctype({1:(d-i), i:1}, d)\n",
    "    )"
   ]
  },
  {
   "cell_type": "code",
   "execution_count": 17,
   "metadata": {},
   "outputs": [
    {
     "name": "stdout",
     "output_type": "stream",
     "text": [
      "2 2 {(3, 0, 1): 3, (2, 2): 2}\n",
      "2 3 {(2, 0, 0, 1): 4, (1, 1, 1): 1}\n",
      "2 4 {(1, 0, 0, 0, 1): 5, (0, 1, 0, 1): 1}\n",
      "3 2 {}\n",
      "3 3 {}\n",
      "4 2 {(1, 0, 0, 0, 1): 9, (0, 0, 2): 18, (0, 1, 0, 1): 10}\n"
     ]
    }
   ],
   "source": [
    "for i,g1 in enumerate(generators):\n",
    "    for j,g2 in enumerate(generators[i:]):\n",
    "        print(i+2,j+2,decompose2(myprod(g1,g2,i+j+2)))"
   ]
  },
  {
   "cell_type": "code",
   "execution_count": 18,
   "metadata": {},
   "outputs": [
    {
     "data": {
      "text/plain": [
       "{(0, 3): 3, (1, 1, 1): 3, (2, 0, 0, 1): 2}"
      ]
     },
     "execution_count": 18,
     "metadata": {},
     "output_type": "execute_result"
    }
   ],
   "source": [
    "decompose2(myprod(generators[0], gen_ctype({1:d-4, 2:2}, d)))"
   ]
  },
  {
   "cell_type": "code",
   "execution_count": 19,
   "metadata": {},
   "outputs": [],
   "source": [
    "def gen_all(d):\n",
    "    ''' Input: non-negative interger\n",
    "        Output: Dictionary of elements in the symmetric group with key being cycle type and value all permutations in S(d) with\n",
    "        that cycle type.\n",
    "    '''\n",
    "    answer = {}\n",
    "    \n",
    "    for i in tqdm(symmetric(d), total = factorial(d)):\n",
    "        C = ctype(i)\n",
    "        if C in answer.keys():\n",
    "            (answer[C]).append(i)\n",
    "        else:\n",
    "            answer[C] = [i]\n",
    "    answer.pop((d,),None)\n",
    "    return answer\n",
    "\n",
    "def norm2(p_tuple):\n",
    "    ans = 0\n",
    "    for i,p in enumerate(p_tuple):\n",
    "        ans += i*p\n",
    "    return ans"
   ]
  },
  {
   "cell_type": "code",
   "execution_count": null,
   "metadata": {},
   "outputs": [],
   "source": [
    "d=9\n",
    "basis = gen_all(d)"
   ]
  },
  {
   "cell_type": "code",
   "execution_count": null,
   "metadata": {},
   "outputs": [],
   "source": [
    "g2_mult_table = []\n",
    "\n",
    "for k,v in tqdm(basis.items()):\n",
    "    s =\"g_2 * g_\" + to_string(k) + \" = \"\n",
    "    s += decompose2(myprod(basis[(d-2,1)],v, norm2((d-2,1)) + norm2(k)), string_output = True)\n",
    "    g2_mult_table.append(s)\n",
    "    print(s)"
   ]
  },
  {
   "cell_type": "code",
   "execution_count": null,
   "metadata": {},
   "outputs": [],
   "source": [
    "#with open('g2table.pkl', 'wb') as f:\n",
    "#    pickle.dump(g2_mult_table, f)"
   ]
  },
  {
   "cell_type": "code",
   "execution_count": null,
   "metadata": {},
   "outputs": [],
   "source": []
  },
  {
   "cell_type": "code",
   "execution_count": null,
   "metadata": {},
   "outputs": [],
   "source": [
    "for k1,v1 in basis.items():\n",
    "    for k2,v2 in basis.items():\n",
    "        if k1 >= k2:\n",
    "            #print(k1,k2, \"\\n\", decompose2(myprod(v1,v2, norm2(k1) + norm2(k2)), string_output = True))\n",
    "            pass"
   ]
  },
  {
   "cell_type": "code",
   "execution_count": null,
   "metadata": {},
   "outputs": [],
   "source": [
    "products = []\n",
    "for i in range(1,d//2+1):\n",
    "    p = basis[(d-2*i, i)]\n",
    "    for j in range(i,d//2+1):\n",
    "        q = basis[(d-2*j, j)]\n",
    "        dic = decompose2(myprod(p,q, i + j))\n",
    "        products.append([i,j, dic])\n",
    "        print(i,j, to_string(dic))"
   ]
  },
  {
   "cell_type": "code",
   "execution_count": null,
   "metadata": {},
   "outputs": [],
   "source": [
    "#with open('prod_obs.pkl', 'wb') as f:\n",
    "#    pickle.dump(products, f)"
   ]
  },
  {
   "cell_type": "code",
   "execution_count": null,
   "metadata": {},
   "outputs": [],
   "source": [
    "with open('g2table.pkl', 'rb') as f:\n",
    "    products = pickle.load(f)\n",
    "for line in products:\n",
    "    print(line[0:-3])"
   ]
  },
  {
   "cell_type": "code",
   "execution_count": null,
   "metadata": {},
   "outputs": [],
   "source": []
  },
  {
   "cell_type": "code",
   "execution_count": null,
   "metadata": {},
   "outputs": [],
   "source": [
    "for line in products:\n",
    "    print(line[0],line[1], list(line[2].values()))"
   ]
  },
  {
   "cell_type": "code",
   "execution_count": null,
   "metadata": {},
   "outputs": [],
   "source": [
    "g23 = basis[(4,3)]\n",
    "g22 = basis[(6,2)]"
   ]
  },
  {
   "cell_type": "code",
   "execution_count": null,
   "metadata": {},
   "outputs": [],
   "source": [
    "decompose2(myprod(g22,g23,5))"
   ]
  },
  {
   "cell_type": "markdown",
   "metadata": {},
   "source": [
    "# Relations 2.0"
   ]
  },
  {
   "cell_type": "code",
   "execution_count": 20,
   "metadata": {},
   "outputs": [
    {
     "data": {
      "application/vnd.jupyter.widget-view+json": {
       "model_id": "132f5c5ea42b46f3b73a2b7de77f37fb",
       "version_major": 2,
       "version_minor": 0
      },
      "text/plain": [
       "HBox(children=(IntProgress(value=0, max=720), HTML(value='')))"
      ]
     },
     "metadata": {},
     "output_type": "display_data"
    },
    {
     "name": "stdout",
     "output_type": "stream",
     "text": [
      "\n"
     ]
    }
   ],
   "source": [
    "d=6\n",
    "basis = gen_all(d)"
   ]
  },
  {
   "cell_type": "code",
   "execution_count": 21,
   "metadata": {},
   "outputs": [],
   "source": [
    "x = basis[(d-2,1)]\n",
    "y = basis[(d-4,2)]\n",
    "z = basis[(d-6,3)]"
   ]
  },
  {
   "cell_type": "code",
   "execution_count": 22,
   "metadata": {},
   "outputs": [
    {
     "name": "stdout",
     "output_type": "stream",
     "text": [
      "w = 2\n",
      "3*g_3^1  +  2*g_2^2  \n",
      "w = 3\n",
      "16*g_4^1  +  9*g_2^1,3^1  +  6*g_2^3  \n",
      "2*g_4^1  +  3*g_2^1,3^1  +  3*g_2^3  \n",
      "w = 4\n",
      "125*g_5^1  +  64*g_2^1,4^1  +  54*g_3^2  \n",
      "25*g_5^1  +  20*g_2^1,4^1  +  18*g_3^2  \n",
      "5*g_5^1  +  4*g_2^1,4^1  +  9*g_3^2  \n",
      "2*g_2^1,4^1  \n",
      "w = 5\n",
      "1296*g_6^1  \n",
      "324*g_6^1  \n",
      "81*g_6^1  \n",
      "12*g_6^1  \n",
      "3*g_6^1  \n"
     ]
    }
   ],
   "source": [
    "f = lambda u, v: myprod(u,v)\n",
    "g = lambda u: print(decompose2(u, string_output = True))\n",
    "\n",
    "\n",
    "print(\"w = 2\")\n",
    "x2 = f(x,x)\n",
    "g(x2)\n",
    "\n",
    "print(\"w = 3\")\n",
    "x3 = f(x2,x)\n",
    "g(x3)\n",
    "\n",
    "xy = f(x,y)\n",
    "g(xy)\n",
    "\n",
    "print(\"w = 4\")\n",
    "x4 = f(x3,x)\n",
    "g(x4)\n",
    "\n",
    "x2y = f(x,xy)\n",
    "g(x2y)\n",
    "\n",
    "y2 = f(y,y)\n",
    "g(y2)\n",
    "\n",
    "xz = f(x,z)\n",
    "g(xz)\n",
    "\n",
    "print(\"w = 5\")\n",
    "g(f(x4,x))\n",
    "g(f(x3,y))\n",
    "g(f(x,y2))\n",
    "g(f(x,xz))\n",
    "g(f(y,z))\n"
   ]
  },
  {
   "cell_type": "markdown",
   "metadata": {},
   "source": [
    "# Trashcan"
   ]
  },
  {
   "cell_type": "code",
   "execution_count": null,
   "metadata": {},
   "outputs": [],
   "source": [
    "def test_ctype(p: perm_type, D):\n",
    "    '''\n",
    "    Input:\n",
    "        p\n",
    "    '''\n",
    "    d = p.cycle_structure\n",
    "    d.pop(1, None)\n",
    "    if d.keys() == D.keys():\n",
    "        for key in D.keys():\n",
    "            if d[key] != D[key]:\n",
    "                return False\n",
    "        return True\n",
    "    return False"
   ]
  },
  {
   "cell_type": "code",
   "execution_count": null,
   "metadata": {},
   "outputs": [],
   "source": []
  }
 ],
 "metadata": {
  "kernelspec": {
   "display_name": "Python 3",
   "language": "python",
   "name": "python3"
  },
  "language_info": {
   "codemirror_mode": {
    "name": "ipython",
    "version": 3
   },
   "file_extension": ".py",
   "mimetype": "text/x-python",
   "name": "python",
   "nbconvert_exporter": "python",
   "pygments_lexer": "ipython3",
   "version": "3.7.4"
  }
 },
 "nbformat": 4,
 "nbformat_minor": 2
}
