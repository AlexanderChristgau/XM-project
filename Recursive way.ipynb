{
 "cells": [
  {
   "cell_type": "code",
   "execution_count": 1,
   "metadata": {},
   "outputs": [],
   "source": [
    "import numpy as np\n",
    "from math import factorial as fact"
   ]
  },
  {
   "cell_type": "code",
   "execution_count": 2,
   "metadata": {},
   "outputs": [],
   "source": [
    "d = 10"
   ]
  },
  {
   "cell_type": "code",
   "execution_count": 3,
   "metadata": {},
   "outputs": [],
   "source": [
    "basis = []\n",
    "for i in range(d-1):\n",
    "    x = np.zeros(d-1).astype(int)\n",
    "    x[i] = 1\n",
    "    basis.append(x)"
   ]
  },
  {
   "cell_type": "code",
   "execution_count": 4,
   "metadata": {},
   "outputs": [],
   "source": [
    "def partial(i,a):\n",
    "    if i==2:\n",
    "        return a - basis[0]\n",
    "    return a + basis[i-3] - basis[i-2]"
   ]
  },
  {
   "cell_type": "code",
   "execution_count": 5,
   "metadata": {},
   "outputs": [],
   "source": [
    "def partialterm(l,i,b):\n",
    "    if i==2:\n",
    "        return l-magn(b)+1\n",
    "    return b[i-3]+1"
   ]
  },
  {
   "cell_type": "code",
   "execution_count": 6,
   "metadata": {},
   "outputs": [],
   "source": [
    "def norm(a):\n",
    "    return ((1+np.arange(len(a)))*a).sum()\n",
    "\n",
    "def card(a):\n",
    "    return a.sum()\n",
    "\n",
    "def magn(a):\n",
    "    return ((2+np.arange(len(a)))*a).sum()"
   ]
  },
  {
   "cell_type": "code",
   "execution_count": 74,
   "metadata": {},
   "outputs": [],
   "source": [
    "def Lambda(l,a,b):\n",
    "    if card(a)==0 or card(b)==0 or l<2:\n",
    "        return fact(l-1)\n",
    "    if norm(a)+norm(b)==l-1:\n",
    "        if magn(a)<l and magn(b)<=l:\n",
    "            answer = 0\n",
    "            for i in range(2,l+1):\n",
    "                if b[i-2] > 0:\n",
    "                    answer += l*(i-1)*partialterm(l,i,b)*Lambda(l-1,a,partial(i,b))\n",
    "                    print(l-magn(a),i,a,b,partial(i,b))\n",
    "            return answer/(l-magn(a))\n",
    "        elif magn(a)<=l and magn(b)<l:\n",
    "            answer = 0\n",
    "            for i in range(2,l+1):\n",
    "                if a[i-2] > 0:\n",
    "                    answer += l*(i-1)*partialterm(l,i,a)*Lambda(l-1,b,partial(i,a))\n",
    "            return answer/(l-magn(b))\n",
    "    return 0"
   ]
  },
  {
   "cell_type": "code",
   "execution_count": 75,
   "metadata": {},
   "outputs": [],
   "source": [
    "lam = lambda l,a,b: Lambda(l,a,b)/fact(l-1)"
   ]
  },
  {
   "cell_type": "code",
   "execution_count": 77,
   "metadata": {},
   "outputs": [
    {
     "name": "stdout",
     "output_type": "stream",
     "text": [
      "1 2 [1 0 0 0 0 0 0 0 0] [1 0 0 0 0 0 0 0 0] [0 0 0 0 0 0 0 0 0]\n",
      "1 3 [2 0 0 0 0 0 0 0 0] [0 1 0 0 0 0 0 0 0] [1 0 0 0 0 0 0 0 0]\n",
      "2 4 [2 0 0 0 0 0 0 0 0] [0 0 1 0 0 0 0 0 0] [0 1 0 0 0 0 0 0 0]\n",
      "3 5 [2 0 0 0 0 0 0 0 0] [0 0 0 1 0 0 0 0 0] [0 0 1 0 0 0 0 0 0]\n",
      "4 6 [2 0 0 0 0 0 0 0 0] [0 0 0 0 1 0 0 0 0] [0 0 0 1 0 0 0 0 0]\n"
     ]
    },
    {
     "data": {
      "text/plain": [
       "20.0"
      ]
     },
     "execution_count": 77,
     "metadata": {},
     "output_type": "execute_result"
    }
   ],
   "source": [
    "lam(8,np.array([2,0,0,0,0]+4*[0]),np.array([0,0,0,0,1]+4*[0]))"
   ]
  },
  {
   "cell_type": "code",
   "execution_count": null,
   "metadata": {},
   "outputs": [],
   "source": [
    "lam(3,np.array([1,0,0,0,0]),np.array([1,0,0,0,0]))"
   ]
  },
  {
   "cell_type": "code",
   "execution_count": 23,
   "metadata": {},
   "outputs": [
    {
     "ename": "NameError",
     "evalue": "name 'b' is not defined",
     "output_type": "error",
     "traceback": [
      "\u001b[0;31m---------------------------------------------------------------------------\u001b[0m",
      "\u001b[0;31mNameError\u001b[0m                                 Traceback (most recent call last)",
      "\u001b[0;32m<ipython-input-23-89e6c98d9288>\u001b[0m in \u001b[0;36m<module>\u001b[0;34m\u001b[0m\n\u001b[0;32m----> 1\u001b[0;31m \u001b[0mb\u001b[0m\u001b[0;34m\u001b[0m\u001b[0;34m\u001b[0m\u001b[0m\n\u001b[0m",
      "\u001b[0;31mNameError\u001b[0m: name 'b' is not defined"
     ]
    }
   ],
   "source": [
    "b"
   ]
  },
  {
   "cell_type": "code",
   "execution_count": null,
   "metadata": {},
   "outputs": [],
   "source": []
  }
 ],
 "metadata": {
  "kernelspec": {
   "display_name": "Python 3",
   "language": "python",
   "name": "python3"
  },
  "language_info": {
   "codemirror_mode": {
    "name": "ipython",
    "version": 3
   },
   "file_extension": ".py",
   "mimetype": "text/x-python",
   "name": "python",
   "nbconvert_exporter": "python",
   "pygments_lexer": "ipython3",
   "version": "3.8.5"
  }
 },
 "nbformat": 4,
 "nbformat_minor": 4
}
