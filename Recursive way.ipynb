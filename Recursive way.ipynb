{
 "cells": [
  {
   "cell_type": "code",
   "execution_count": 1,
   "metadata": {},
   "outputs": [],
   "source": [
    "import numpy as np\n",
    "from math import factorial as fact\n",
    "from functools import lru_cache\n",
    "from itertools import product\n",
    "\n",
    "from utils import *"
   ]
  },
  {
   "cell_type": "code",
   "execution_count": 2,
   "metadata": {},
   "outputs": [],
   "source": [
    "@lru_cache(maxsize=100000)\n",
    "def Lambda(l,a,b):\n",
    "    a_arr, b_arr = np.array(a),np.array(b)\n",
    "    \n",
    "    if card(a_arr)==0 or card(b_arr)==0 or l<2:\n",
    "        return fact(l-1)\n",
    "    \n",
    "    \n",
    "    if norm(a_arr)+norm(b_arr)==l-1:\n",
    "        if magn(a_arr)<l and magn(b_arr)<=l:\n",
    "            answer = 0\n",
    "            for i in range(2,min(l+1,len(b)+2)):\n",
    "                if b[i-2] > 0:\n",
    "                    answer += (i-1)*partialterm(l,i,b_arr)*Lambda(l-1,a,tuple(partial(i,b)))\n",
    "            return l*answer // (l-magn(a_arr))\n",
    "\n",
    "        elif magn(a_arr)<=l and magn(b_arr)<l:\n",
    "            answer = 0\n",
    "            for i in range(2,min(l+1,len(a)+2)):\n",
    "                if a[i-2] > 0:\n",
    "                    answer += l*(i-1)*partialterm(l,i,a_arr)*Lambda(l-1,b,tuple(partial(i,a)))\n",
    "            return answer//(l-magn(b_arr))\n",
    "    return 0"
   ]
  },
  {
   "cell_type": "code",
   "execution_count": 3,
   "metadata": {},
   "outputs": [],
   "source": [
    "cycle_coeff = lambda l,a,b: Lambda(l,a,b)//fact(l-1)"
   ]
  },
  {
   "cell_type": "code",
   "execution_count": 4,
   "metadata": {},
   "outputs": [
    {
     "data": {
      "text/plain": [
       "54"
      ]
     },
     "execution_count": 4,
     "metadata": {},
     "output_type": "execute_result"
    }
   ],
   "source": [
    "## lambda(9,[2,..],[1,0,0,0,1,...]) = 54\n",
    "cycle_coeff(9,\n",
    "            (2,0,0,0,0,0),\n",
    "            (1,0,0,0,1,0))"
   ]
  },
  {
   "cell_type": "code",
   "execution_count": 5,
   "metadata": {},
   "outputs": [
    {
     "data": {
      "text/plain": [
       "CacheInfo(hits=4, misses=12, maxsize=100000, currsize=12)"
      ]
     },
     "execution_count": 5,
     "metadata": {},
     "output_type": "execute_result"
    }
   ],
   "source": [
    "Lambda.cache_info()"
   ]
  },
  {
   "cell_type": "code",
   "execution_count": 6,
   "metadata": {},
   "outputs": [],
   "source": [
    "def gen_cdecomp(a,c):\n",
    "    a_arr = np.array(a)\n",
    "    nu = np.nonzero(c)[0][0] +2\n",
    "    \n",
    "    intervals = [range(0,min(a[i],nu)+1) for i in range(0,min(nu,len(a)))]\n",
    "    \n",
    "    cart_prod = product(*intervals)\n",
    "    \n",
    "    answer = []\n",
    "    for A in cart_prod:\n",
    "        A_arr = np.array(A)\n",
    "        if magn(A_arr)<=nu:\n",
    "            \n",
    "            answer.append((A,tuple(a_arr[0:len(A_arr)]-A_arr)))\n",
    "        \n",
    "    return answer"
   ]
  },
  {
   "cell_type": "code",
   "execution_count": 7,
   "metadata": {},
   "outputs": [
    {
     "data": {
      "text/plain": [
       "[((0, 0, 0, 0), (0, 1, 2, 3)),\n",
       " ((0, 0, 1, 0), (0, 1, 1, 3)),\n",
       " ((0, 1, 0, 0), (0, 0, 2, 3))]"
      ]
     },
     "execution_count": 7,
     "metadata": {},
     "output_type": "execute_result"
    }
   ],
   "source": [
    "gen_cdecomp((0,1,2,3),(0,0,2,1))"
   ]
  },
  {
   "cell_type": "code",
   "execution_count": 8,
   "metadata": {},
   "outputs": [],
   "source": [
    "def Lambda2(c,a,b):\n",
    "    if norm(a) + norm(b) != norm(c):\n",
    "        return 0\n",
    "    \n",
    "    if sum(a)==0 and sum(b)==0 and sum(c) == 0:\n",
    "        return 1\n",
    "\n",
    "    nu = np.nonzero(c)[0][0] +2\n",
    "    a_decomps = gen_cdecomp(a,c)\n",
    "    b_decomps = gen_cdecomp(b,c)\n",
    "    \n",
    "    answer = 0\n",
    "    for A1,A2 in a_decomps:\n",
    "        for B1,B2 in b_decomps:\n",
    "            if norm(np.array(A1))+norm(np.array(B1)) == nu-1:\n",
    "                answer += cycle_coeff(nu,A1,B1) * Lambda2(c - np.eye(1,len(c),nu-2,dtype=int)[0], A2,B2)\n",
    "    return answer"
   ]
  },
  {
   "cell_type": "code",
   "execution_count": 9,
   "metadata": {},
   "outputs": [
    {
     "data": {
      "text/plain": [
       "12"
      ]
     },
     "execution_count": 9,
     "metadata": {},
     "output_type": "execute_result"
    }
   ],
   "source": [
    "Lambda2((1,1,1),(3,0,0,0,0,0,0),(3,0,0,0,0,0))"
   ]
  },
  {
   "cell_type": "markdown",
   "metadata": {},
   "source": [
    "## Generate tables"
   ]
  },
  {
   "cell_type": "code",
   "execution_count": 10,
   "metadata": {},
   "outputs": [],
   "source": [
    "def accel_asc(n):\n",
    "    a = [0 for i in range(n + 1)]\n",
    "    k = 1\n",
    "    y = n - 1\n",
    "    while k != 0:\n",
    "        x = a[k - 1] + 1\n",
    "        k -= 1\n",
    "        while 2 * x <= y:\n",
    "            a[k] = x\n",
    "            y -= x\n",
    "            k += 1\n",
    "        l = k + 1\n",
    "        while x <= y:\n",
    "            a[k] = x\n",
    "            a[l] = y\n",
    "            yield a[:k + 2]\n",
    "            x += 1\n",
    "            y -= 1\n",
    "        a[k] = x + y\n",
    "        y = x + y - 1\n",
    "        yield a[:k + 1]"
   ]
  },
  {
   "cell_type": "code",
   "execution_count": 11,
   "metadata": {},
   "outputs": [],
   "source": [
    "def to_ctype(l):\n",
    "    answer = np.zeros(max(l),dtype=int)\n",
    "    for i in l:\n",
    "        answer[i-1] += 1\n",
    "    return tuple(answer)"
   ]
  },
  {
   "cell_type": "code",
   "execution_count": 14,
   "metadata": {},
   "outputs": [
    {
     "name": "stdout",
     "output_type": "stream",
     "text": [
      "Multiplication of:  (5,) and  (5,)\n",
      "value of c: (10,) \n",
      " coeff 252\n",
      "value of c: (8, 1) \n",
      " coeff 210\n",
      "value of c: (7, 0, 1) \n",
      " coeff 140\n",
      "value of c: (6, 2) \n",
      " coeff 180\n",
      "value of c: (6, 0, 0, 1) \n",
      " coeff 100\n",
      "value of c: (5, 1, 1) \n",
      " coeff 120\n",
      "value of c: (5, 0, 0, 0, 1) \n",
      " coeff 60\n",
      "value of c: (4, 3) \n",
      " coeff 162\n",
      "value of c: (4, 1, 0, 1) \n",
      " coeff 90\n",
      "value of c: (4, 0, 2) \n",
      " coeff 80\n",
      "value of c: (4, 0, 0, 0, 0, 1) \n",
      " coeff 42\n",
      "value of c: (3, 2, 1) \n",
      " coeff 108\n",
      "value of c: (3, 1, 0, 0, 1) \n",
      " coeff 54\n",
      "value of c: (3, 0, 1, 1) \n",
      " coeff 60\n",
      "value of c: (3, 0, 0, 0, 0, 0, 1) \n",
      " coeff 24\n",
      "value of c: (2, 4) \n",
      " coeff 162\n",
      "value of c: (2, 2, 0, 1) \n",
      " coeff 90\n",
      "value of c: (2, 1, 2) \n",
      " coeff 72\n",
      "value of c: (2, 1, 0, 0, 0, 1) \n",
      " coeff 42\n",
      "value of c: (2, 0, 1, 0, 1) \n",
      " coeff 36\n",
      "value of c: (2, 0, 0, 2) \n",
      " coeff 50\n",
      "value of c: (2, 0, 0, 0, 0, 0, 0, 1) \n",
      " coeff 18\n",
      "value of c: (1, 3, 1) \n",
      " coeff 108\n",
      "value of c: (1, 2, 0, 0, 1) \n",
      " coeff 54\n",
      "value of c: (1, 1, 1, 1) \n",
      " coeff 60\n",
      "value of c: (1, 1, 0, 0, 0, 0, 1) \n",
      " coeff 24\n",
      "value of c: (1, 0, 3) \n",
      " coeff 48\n",
      "value of c: (1, 0, 1, 0, 0, 1) \n",
      " coeff 28\n",
      "value of c: (1, 0, 0, 1, 1) \n",
      " coeff 30\n",
      "value of c: (1, 0, 0, 0, 0, 0, 0, 0, 1) \n",
      " coeff 10\n",
      "value of c: (0, 5) \n",
      " coeff 243\n",
      "value of c: (0, 3, 0, 1) \n",
      " coeff 135\n",
      "value of c: (0, 2, 2) \n",
      " coeff 72\n",
      "value of c: (0, 2, 0, 0, 0, 1) \n",
      " coeff 63\n",
      "value of c: (0, 1, 1, 0, 1) \n",
      " coeff 36\n",
      "value of c: (0, 1, 0, 2) \n",
      " coeff 75\n",
      "value of c: (0, 1, 0, 0, 0, 0, 0, 1) \n",
      " coeff 27\n",
      "value of c: (0, 0, 2, 1) \n",
      " coeff 40\n",
      "value of c: (0, 0, 1, 0, 0, 0, 1) \n",
      " coeff 16\n",
      "value of c: (0, 0, 0, 1, 0, 1) \n",
      " coeff 35\n",
      "value of c: (0, 0, 0, 0, 2) \n",
      " coeff 18\n",
      "value of c: (0, 0, 0, 0, 0, 0, 0, 0, 0, 1) \n",
      " coeff 11\n"
     ]
    }
   ],
   "source": [
    "\n",
    "a,b = (5,),(5,)\n",
    "\n",
    "print(\"Multiplication of: \", a, \"and \", b)\n",
    "\n",
    "\n",
    "for i in accel_asc(10):\n",
    "    print(\"value of c:\", to_ctype(i), \"\\n\", \"coeff\", Lambda2(to_ctype(i),a,b))"
   ]
  },
  {
   "cell_type": "code",
   "execution_count": null,
   "metadata": {},
   "outputs": [],
   "source": []
  }
 ],
 "metadata": {
  "kernelspec": {
   "display_name": "Python 3",
   "language": "python",
   "name": "python3"
  },
  "language_info": {
   "codemirror_mode": {
    "name": "ipython",
    "version": 3
   },
   "file_extension": ".py",
   "mimetype": "text/x-python",
   "name": "python",
   "nbconvert_exporter": "python",
   "pygments_lexer": "ipython3",
   "version": "3.8.5"
  }
 },
 "nbformat": 4,
 "nbformat_minor": 4
}
