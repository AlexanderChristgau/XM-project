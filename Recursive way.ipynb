{
 "cells": [
  {
   "cell_type": "code",
   "execution_count": 1,
   "metadata": {},
   "outputs": [],
   "source": [
    "import numpy as np\n",
    "from math import factorial as fact\n",
    "from functools import lru_cache\n",
    "from itertools import product\n",
    "\n",
    "from utils import * #Contains relevant functions for A(d) such as norm and cardinality\n",
    "from tqdm.notebook import tqdm"
   ]
  },
  {
   "cell_type": "markdown",
   "metadata": {},
   "source": [
    "#### First define a function which can compute the coefficient of a cycle $[\\gamma_\\ell]$ in any product $a\\cdot b$ in $A(d)$"
   ]
  },
  {
   "cell_type": "code",
   "execution_count": 2,
   "metadata": {},
   "outputs": [],
   "source": [
    "@lru_cache(maxsize=1000000) # use memoization since small values will be called repeatedly.\n",
    "def Lambda(l: int,a: tuple,b: tuple):\n",
    "    '''\n",
    "    Computes normalized coefficient of l-cycle in the product a*b.\n",
    "    '''\n",
    "    a_arr, b_arr = np.array(a),np.array(b) # convert to arrays in order to apply standard functions\n",
    "    \n",
    "    # base case\n",
    "    if card(a_arr)==0 or card(b_arr)==0 or l<2:\n",
    "        return fact(l-1)\n",
    "    \n",
    "    # recursion formula\n",
    "    if norm(a_arr)+norm(b_arr)==l-1:\n",
    "        if magn(a_arr)<l and magn(b_arr)<=l:\n",
    "            answer = 0\n",
    "            for i in range(2,min(l+1,len(b)+2)):\n",
    "                if b[i-2] > 0:\n",
    "                    answer += (i-1)*partialterm(l,i,b_arr)*Lambda(l-1,a,tuple(partial(i,b)))\n",
    "            return l*answer // (l-magn(a_arr))\n",
    "\n",
    "        elif magn(a_arr)<=l and magn(b_arr)<l:\n",
    "            answer = 0\n",
    "            for i in range(2,min(l+1,len(a)+2)):\n",
    "                if a[i-2] > 0:\n",
    "                    answer += (i-1)*partialterm(l,i,a_arr)*Lambda(l-1,b,tuple(partial(i,a)))\n",
    "            return l*answer//(l-magn(b_arr))\n",
    "    return 0\n",
    "\n",
    "# non-normalized coefficient of l-cycle in the product a*b\n",
    "cycle_coeff = lambda l,a,b: Lambda(l,a,b)//fact(l-1)"
   ]
  },
  {
   "cell_type": "code",
   "execution_count": 3,
   "metadata": {},
   "outputs": [
    {
     "data": {
      "text/plain": [
       "54"
      ]
     },
     "execution_count": 3,
     "metadata": {},
     "output_type": "execute_result"
    }
   ],
   "source": [
    "## lambda(9,[2,..],[1,0,0,0,1,...]) = 54\n",
    "cycle_coeff(9,\n",
    "            (2,0,0,0,0,0),\n",
    "            (1,0,0,0,1,0))"
   ]
  },
  {
   "cell_type": "markdown",
   "metadata": {},
   "source": [
    "#### Now extend coefficients from $\\ell$-cycles to general cycle types. "
   ]
  },
  {
   "cell_type": "code",
   "execution_count": 4,
   "metadata": {},
   "outputs": [],
   "source": [
    "def gen_cdecomp(a: tuple,c: tuple):\n",
    "    '''\n",
    "    Generates all c-decompositions of a as a list of pairs (A,A').\n",
    "    '''\n",
    "    answer = []\n",
    "    a_arr = np.array(a)\n",
    "    nu = np.nonzero(c)[0][0] +2 #smallest non-zero index\n",
    "    \n",
    "    # Create a generator for possible values of A:\n",
    "    intervals = [range(0,min(a[i],nu)*(i<nu)+1) for i in range(0,len(a))]\n",
    "    cart_prod = product(*intervals)\n",
    "    \n",
    "    \n",
    "    for A in cart_prod:\n",
    "        A_arr = np.array(A)\n",
    "        if magn(A_arr)<=nu:\n",
    "            answer.append((A,tuple(a_arr-A_arr)))\n",
    "        \n",
    "    return answer"
   ]
  },
  {
   "cell_type": "code",
   "execution_count": 5,
   "metadata": {
    "scrolled": true
   },
   "outputs": [
    {
     "data": {
      "text/plain": [
       "[((0, 0, 0, 0), (0, 1, 2, 3)),\n",
       " ((0, 0, 1, 0), (0, 1, 1, 3)),\n",
       " ((0, 1, 0, 0), (0, 0, 2, 3))]"
      ]
     },
     "execution_count": 5,
     "metadata": {},
     "output_type": "execute_result"
    }
   ],
   "source": [
    "gen_cdecomp((0,1,2,3),(0,0,2,1))"
   ]
  },
  {
   "cell_type": "markdown",
   "metadata": {},
   "source": [
    "Now define a general procedure for computing coefficients"
   ]
  },
  {
   "cell_type": "code",
   "execution_count": 6,
   "metadata": {},
   "outputs": [],
   "source": [
    "@lru_cache(maxsize=1000000)\n",
    "def Lambda2(c,a,b):\n",
    "    '''\n",
    "    Computes coefficient of $[c]$ in product $[a]\\cdot [b]$\n",
    "    '''\n",
    "    if norm(a) + norm(b) != norm(c):\n",
    "        return 0\n",
    "    \n",
    "    if sum(a)==0 and sum(b)==0 and sum(c) == 0:\n",
    "        return 1\n",
    "\n",
    "    nu = np.nonzero(c)[0][0] +2\n",
    "    a_decomps = gen_cdecomp(a,c)\n",
    "    b_decomps = gen_cdecomp(b,c)\n",
    "    \n",
    "    answer = 0\n",
    "    for A1,A2 in a_decomps:\n",
    "        for B1,B2 in b_decomps:\n",
    "            if norm(np.array(A1))+norm(np.array(B1)) == nu-1:\n",
    "                answer += cycle_coeff(nu,A1,B1) * Lambda2(tuple(c - np.eye(1,len(c),nu-2,dtype=int)[0]), A2,B2)\n",
    "    return answer"
   ]
  },
  {
   "cell_type": "code",
   "execution_count": 7,
   "metadata": {},
   "outputs": [
    {
     "data": {
      "text/plain": [
       "12"
      ]
     },
     "execution_count": 7,
     "metadata": {},
     "output_type": "execute_result"
    }
   ],
   "source": [
    "### lambda([1,1,1], [3,0,...], [3,0,...]) = 12\n",
    "Lambda2((1,1,1),(3,),(3,))"
   ]
  },
  {
   "cell_type": "markdown",
   "metadata": {},
   "source": [
    "## Generate tables of monomials"
   ]
  },
  {
   "cell_type": "markdown",
   "metadata": {},
   "source": [
    "To compute the product $a\\cdot b$ of basis elements we cycle through all cycletypes of relevant norm and compute the coefficient."
   ]
  },
  {
   "cell_type": "code",
   "execution_count": 8,
   "metadata": {},
   "outputs": [],
   "source": [
    "def multiply_basis(a: tuple,b: tuple):\n",
    "    '''\n",
    "    Given two basis elements a and b, compute the product a*b as a dictionary.\n",
    "    '''\n",
    "    product = {}\n",
    "    \n",
    "    for cycle_type in generate_cycletypes(norm(a)+norm(b)):\n",
    "        if coeff := Lambda2(cycle_type,a,b):\n",
    "            product[cycle_type] = coeff\n",
    "    \n",
    "    return product"
   ]
  },
  {
   "cell_type": "code",
   "execution_count": 9,
   "metadata": {
    "scrolled": true
   },
   "outputs": [
    {
     "name": "stdout",
     "output_type": "stream",
     "text": [
      "Multiply x*y: \n",
      " {(3,): 3, (1, 1): 3, (0, 0, 1): 2}\n",
      "Multiply y*z: \n",
      " {(5,): 10, (3, 1): 9, (2, 0, 1): 6, (1, 2): 9, (1, 0, 0, 1): 5, (0, 1, 1): 6, (0, 0, 0, 0, 1): 3}\n",
      "multiply gamma_3 and gamma_4: \n",
      " {(0, 1, 1): 1, (0, 0, 0, 0, 1): 6}\n"
     ]
    }
   ],
   "source": [
    "print(\"Multiply x*y:\", \"\\n\",\n",
    "      multiply_basis((1,),(2,)))\n",
    "\n",
    "print(\"Multiply y*z:\", \"\\n\",\n",
    "      multiply_basis((2,),(3,)))\n",
    "\n",
    "print(\"multiply gamma_3 and gamma_4:\", \"\\n\",\n",
    "     multiply_basis((0,1),(0,0,1)))"
   ]
  },
  {
   "cell_type": "markdown",
   "metadata": {},
   "source": [
    "#### Once we can multiply basis elements we can extend linearly to general elements"
   ]
  },
  {
   "cell_type": "code",
   "execution_count": 10,
   "metadata": {},
   "outputs": [],
   "source": [
    "def multiply_generator(generator: tuple, g: dict, d: int=100):\n",
    "    product = {}\n",
    "    \n",
    "    for basis1, coeff1 in g.items():\n",
    "        for basis2, coeff2 in multiply_basis(generator,basis1).items():\n",
    "            if magn(basis2) > d:\n",
    "                pass\n",
    "            elif basis2 in product.keys():\n",
    "                product[basis2] += coeff1*coeff2\n",
    "            else:\n",
    "                product[basis2] = coeff1*coeff2\n",
    "    return product"
   ]
  },
  {
   "cell_type": "code",
   "execution_count": 11,
   "metadata": {
    "scrolled": true
   },
   "outputs": [
    {
     "name": "stdout",
     "output_type": "stream",
     "text": [
      "Compute xy^2 as y * xy:\n",
      "{(5,): 30, (3, 1): 36, (2, 0, 1): 44, (1, 2): 45, (1, 0, 0, 1): 55, (0, 1, 1): 60, (0, 0, 0, 0, 1): 81}\n",
      "\n",
      "\n",
      "Multiply gamma_3 with gamma_3 and gamma_4:\n",
      "{(0, 2, 1): 2, (0, 1, 0, 0, 1): 12, (0, 0, 1, 1): 5, (0, 0, 0, 0, 0, 0, 1): 64}\n"
     ]
    }
   ],
   "source": [
    "print(\"Compute xy^2 as y * xy:\")\n",
    "print(multiply_generator((2,), {(3,): 3, (1, 1): 3, (0, 0, 1): 2}))\n",
    "\n",
    "print(\"\\n\")\n",
    "print(\"Multiply gamma_3 with gamma_3 and gamma_4:\")\n",
    "print(multiply_generator((0,1), {(0, 1, 1): 1, (0, 0, 0, 0, 1): 6}))"
   ]
  },
  {
   "cell_type": "markdown",
   "metadata": {},
   "source": [
    "#### Define a procedure for generating all monomials"
   ]
  },
  {
   "cell_type": "code",
   "execution_count": 12,
   "metadata": {
    "scrolled": true
   },
   "outputs": [],
   "source": [
    "def generate_monomials(d=12, alphabet=\"abcdefghijkl\", use_cycles=False):\n",
    "    if use_cycles:\n",
    "        generators = [(c,(0,)*i + (1,)) for i,c in enumerate(alphabet[0:d])] #cycle generators\n",
    "    else:\n",
    "        generators = [(c,(i+1,)) for i,c in enumerate(alphabet[0:d//2])] #(a_2,0,0,...)\n",
    "    \n",
    "    monomials = [(i,{j:1}) for i,j in generators]\n",
    "    uniquenames = set([c for c in alphabet[0:d//2]])\n",
    "    \n",
    "    iters = 0\n",
    "    for name1, generator in tqdm(generators):\n",
    "        for name2,g in monomials:\n",
    "            if norm(list(g.keys())[0]) + generator[0] <= d:\n",
    "                newname = \"\".join(sorted(name1+name2))\n",
    "                if newname not in uniquenames:\n",
    "                    uniquenames.add(newname)\n",
    "                    prod = multiply_generator(generator, g,d)\n",
    "                    if prod != {}:\n",
    "                        monomials.append((newname, prod))\n",
    "            iters += 1\n",
    "            if iters>1000:\n",
    "                break\n",
    "    return monomials"
   ]
  },
  {
   "cell_type": "code",
   "execution_count": 13,
   "metadata": {
    "scrolled": true
   },
   "outputs": [
    {
     "data": {
      "application/vnd.jupyter.widget-view+json": {
       "model_id": "1888eb56470346378d2fcf41cc6c42d9",
       "version_major": 2,
       "version_minor": 0
      },
      "text/plain": [
       "HBox(children=(HTML(value=''), FloatProgress(value=0.0, max=9.0), HTML(value='')))"
      ]
     },
     "metadata": {},
     "output_type": "display_data"
    },
    {
     "name": "stdout",
     "output_type": "stream",
     "text": [
      "\n",
      "67\n"
     ]
    },
    {
     "data": {
      "text/plain": [
       "[('a', {(1,): 1}),\n",
       " ('b', {(0, 1): 1}),\n",
       " ('c', {(0, 0, 1): 1}),\n",
       " ('d', {(0, 0, 0, 1): 1}),\n",
       " ('e', {(0, 0, 0, 0, 1): 1}),\n",
       " ('f', {(0, 0, 0, 0, 0, 1): 1}),\n",
       " ('g', {(0, 0, 0, 0, 0, 0, 1): 1}),\n",
       " ('h', {(0, 0, 0, 0, 0, 0, 0, 1): 1}),\n",
       " ('i', {(0, 0, 0, 0, 0, 0, 0, 0, 1): 1}),\n",
       " ('aa', {(2,): 2, (0, 1): 3}),\n",
       " ('ab', {(1, 1): 1, (0, 0, 1): 4}),\n",
       " ('ac', {(1, 0, 1): 1, (0, 0, 0, 1): 5})]"
      ]
     },
     "execution_count": 13,
     "metadata": {},
     "output_type": "execute_result"
    }
   ],
   "source": [
    "monomials = generate_monomials(d = 9, use_cycles = True)\n",
    "print(len(monomials))\n",
    "monomials[0:12]"
   ]
  },
  {
   "cell_type": "markdown",
   "metadata": {},
   "source": [
    "#### Format the monomials and sort them by norm"
   ]
  },
  {
   "cell_type": "code",
   "execution_count": 14,
   "metadata": {},
   "outputs": [],
   "source": [
    "# Turns monomial \"aa\" into \"a^2\" etc.\n",
    "def format_monomname(string):\n",
    "    counts = {c:0 for c in \"abcdefghij\"}\n",
    "    for char in string:\n",
    "        counts[char] +=1\n",
    "    s = \"\"\n",
    "    for char in \"abcdefg\":\n",
    "        if counts[char] == 1:\n",
    "            s += char\n",
    "        elif counts[char]>1:\n",
    "            s += char + \"^\" + str(counts[char])\n",
    "    return s\n",
    "\n",
    "\n",
    "# Computes norm from label in order to sort monomials\n",
    "def get_norm(monomname):\n",
    "    answer = 0\n",
    "    D = {c:(i+1) for i,c in enumerate(\"abcdefghij\")}\n",
    "    for char in monomname:\n",
    "        answer += D[char]\n",
    "    return answer"
   ]
  },
  {
   "cell_type": "code",
   "execution_count": 15,
   "metadata": {},
   "outputs": [],
   "source": [
    "## Create sorted dictionary of monomials\n",
    "sorted_monoms = {i:[] for i in range(2,16)}\n",
    "for name, dic in monomials:\n",
    "    if len(name)>1:\n",
    "        n = get_norm(name)\n",
    "        sorted_monoms[n] += [(format_monomname(name), dic)]"
   ]
  },
  {
   "cell_type": "code",
   "execution_count": 16,
   "metadata": {
    "scrolled": true
   },
   "outputs": [
    {
     "data": {
      "text/plain": [
       "[('ad', {(1, 0, 0, 1): 1, (0, 0, 0, 0, 1): 6}),\n",
       " ('a^2c', {(2, 0, 1): 2, (1, 0, 0, 1): 10, (0, 1, 1): 3, (0, 0, 0, 0, 1): 36}),\n",
       " ('a^3b',\n",
       "  {(3, 1): 6,\n",
       "   (2, 0, 1): 24,\n",
       "   (1, 2): 18,\n",
       "   (1, 0, 0, 1): 75,\n",
       "   (0, 1, 1): 52,\n",
       "   (0, 0, 0, 0, 1): 216}),\n",
       " ('a^5',\n",
       "  {(3, 1): 180,\n",
       "   (2, 0, 1): 320,\n",
       "   (1, 2): 270,\n",
       "   (1, 0, 0, 1): 625,\n",
       "   (0, 1, 1): 480,\n",
       "   (0, 0, 0, 0, 1): 1296}),\n",
       " ('bc', {(0, 1, 1): 1, (0, 0, 0, 0, 1): 6}),\n",
       " ('ab^2', {(1, 2): 2, (1, 0, 0, 1): 5, (0, 1, 1): 8, (0, 0, 0, 0, 1): 36})]"
      ]
     },
     "execution_count": 16,
     "metadata": {},
     "output_type": "execute_result"
    }
   ],
   "source": [
    "## Get all monomials of norm 5\n",
    "sorted_monoms[5]"
   ]
  },
  {
   "cell_type": "markdown",
   "metadata": {},
   "source": [
    "## Compute relations"
   ]
  },
  {
   "cell_type": "code",
   "execution_count": 17,
   "metadata": {},
   "outputs": [],
   "source": [
    "from sympy import *"
   ]
  },
  {
   "cell_type": "code",
   "execution_count": 18,
   "metadata": {},
   "outputs": [],
   "source": [
    "# Define a function which eliminates elements with too large support and finds relations\n",
    "def relations(d=9, only_number = True,alphabet=\"abcdefghijkl\"):\n",
    "    generators = alphabet[0:d//2] + \"^1234567890\"#Generators that vanish in lower dimension d.\n",
    "    print(\"Sufficient set of relations in A(\" + str(d)+\"):\", \"\\n\")\n",
    "    for n in range(2,d):\n",
    "        key_names = set([])\n",
    "        monoms = []\n",
    "\n",
    "        # Get the relevant monomials and basis elements in A(d) of norm n.\n",
    "        for name, dic in sorted_monoms[n]:\n",
    "            ## Consider only monomials of _non-zero_ generators:\n",
    "            monom_non_triv = True\n",
    "            for char in name:\n",
    "                if char not in generators:\n",
    "                    monom_non_triv = False\n",
    "            if monom_non_triv:\n",
    "                monoms.append((name,dic))\n",
    "                # Take all summands with valid support\n",
    "                for element in dic.keys():\n",
    "                    if magn(element) <= d: #Sort out elements with support equal to d.\n",
    "                        key_names.add(element)\n",
    "        key_names = sorted(list(key_names))\n",
    "        \n",
    "        # Create a matrix with coefficients from the monomial equations\n",
    "        A = np.zeros((len(key_names),len(monoms)), dtype = int)\n",
    "\n",
    "        for i, key in enumerate(key_names):\n",
    "            for j, equation in enumerate(monoms):\n",
    "                if key in (equation[1]).keys():\n",
    "                    A[i,j] = (equation[1])[key]\n",
    "\n",
    "        print(r\"norm\", n, \"monomials:\" , \"$\",\"\".join(m[0]+\", \" for m in monoms)[0:-2], \"$\")\n",
    "\n",
    "        null_space = Matrix(A).nullspace()\n",
    "        #print(np.array(null_space))\n",
    "        if len(null_space)==0:\n",
    "            print(\"\\\\\\\\\")\n",
    "        else:\n",
    "            #print(r\"\\begin{align*}\")\n",
    "            for row in null_space:\n",
    "                common_denom = ilcm(*tuple(x.q for x in row))\n",
    "                relation = \"\"\n",
    "                for i,coeff in enumerate(common_denom*row):\n",
    "                    relation += str(coeff) + \",\"\n",
    "                    #if coeff != 0:\n",
    "                    #    if coeff == 1:\n",
    "                    #        relation += monoms[i][0] + \" + \"\n",
    "                    #    elif coeff <0 and len(relation)>0:\n",
    "                    #        relation = relation[0:-2] + \"-\" + \" \" + str(coeff)[1:] + monoms[i][0] + \" + \"\n",
    "                    #    else:\n",
    "                    #        relation += str(coeff) + monoms[i][0] + \" + \"\n",
    "                #print(relation[0:-2] + \"&= 0\" + \"\\\\\\\\\")\n",
    "                print(\"[\" + relation[0:-1] + \"]\" + \",\")\n",
    "            #print(\"\\end{align*}\")\n",
    "    print(\"\\\\newpage\")"
   ]
  },
  {
   "cell_type": "code",
   "execution_count": 19,
   "metadata": {},
   "outputs": [
    {
     "name": "stdout",
     "output_type": "stream",
     "text": [
      "Sufficient set of relations in A(8): \n",
      "\n",
      "norm 2 monomials: $ a^2 $\n",
      "\\\\\n",
      "norm 3 monomials: $ ab, a^3 $\n",
      "\\\\\n",
      "norm 4 monomials: $ ac, a^2b, a^4, b^2 $\n",
      "\\\\\n",
      "norm 5 monomials: $ ad, a^2c, a^3b, a^5, bc, ab^2 $\n",
      "[-240,92,-21,1,-96,54],\n",
      "norm 6 monomials: $ a^2d, a^3c, a^4b, a^6, bd, abc, a^2b^2, b^3, c^2 $\n",
      "[-5472,1232,-87,1,5376,0,0,0,0],\n",
      "[960,-80,-51,5,0,384,0,0,0],\n",
      "[0,32,-15,1,0,0,24,0,0],\n",
      "[-1440,304,-9,-1,0,0,0,96,0],\n",
      "[5760,-784,-135,17,0,0,0,0,3584],\n",
      "norm 7 monomials: $ a^3d, a^4c, a^5b, a^7, abd, a^2bc, a^3b^2, b^2c, ab^3, cd, ac^2 $\n",
      "[-8,1,0,0,0,0,0,0,0,0,0],\n",
      "[-64,0,1,0,0,0,0,0,0,0,0],\n",
      "[-512,0,0,1,0,0,0,0,0,0,0],\n",
      "[-1,0,0,0,8,0,0,0,0,0,0],\n",
      "[-1,0,0,0,0,1,0,0,0,0,0],\n",
      "[-8,0,0,0,0,0,1,0,0,0,0],\n",
      "[-1,0,0,0,0,0,0,8,0,0,0],\n",
      "[-1,0,0,0,0,0,0,0,1,0,0],\n",
      "[-1,0,0,0,0,0,0,0,0,64,0],\n",
      "[-1,0,0,0,0,0,0,0,0,0,8],\n",
      "\\newpage\n"
     ]
    }
   ],
   "source": [
    "A = relations(d=8)"
   ]
  },
  {
   "cell_type": "code",
   "execution_count": 20,
   "metadata": {},
   "outputs": [],
   "source": [
    "A = [[-5472,1232,-87,1,5376,0,0,0,0],\n",
    "     [960,-80,-51,5,0,384,0,0,0],\n",
    "     [0,32,-15,1,0,0,24,0,0],\n",
    "     [-1440,304,-9,-1,0,0,0,96,0],\n",
    "     [5760,-784,-135,17,0,0,0,0,3584],\n",
    "     [-240,92,-21,1,0,-96,54]\n",
    "    ]"
   ]
  }
 ],
 "metadata": {
  "kernelspec": {
   "display_name": "Python 3",
   "language": "python",
   "name": "python3"
  },
  "language_info": {
   "codemirror_mode": {
    "name": "ipython",
    "version": 3
   },
   "file_extension": ".py",
   "mimetype": "text/x-python",
   "name": "python",
   "nbconvert_exporter": "python",
   "pygments_lexer": "ipython3",
   "version": "3.8.5"
  }
 },
 "nbformat": 4,
 "nbformat_minor": 4
}
