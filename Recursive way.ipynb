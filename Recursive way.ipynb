{
 "cells": [
  {
   "cell_type": "code",
   "execution_count": 1,
   "metadata": {},
   "outputs": [],
   "source": [
    "import numpy as np\n",
    "from math import factorial as fact\n",
    "from functools import lru_cache\n",
    "from itertools import product\n",
    "\n",
    "from utils import * #Contains relevant functions for A(d) such as norm and cardinality\n",
    "from tqdm.notebook import tqdm"
   ]
  },
  {
   "cell_type": "markdown",
   "metadata": {},
   "source": [
    "#### First define a function which can compute the coefficient of a cycle $[\\gamma_\\ell]$ in any product $a\\cdot b$ in $A(d)$"
   ]
  },
  {
   "cell_type": "code",
   "execution_count": 2,
   "metadata": {},
   "outputs": [],
   "source": [
    "@lru_cache(maxsize=1000000) # use memoization since small values will be called repeatedly.\n",
    "def Lambda(l: int,a: tuple,b: tuple):\n",
    "    '''\n",
    "    Computes normalized coefficient of l-cycle in the product a*b.\n",
    "    '''\n",
    "    a_arr, b_arr = np.array(a),np.array(b) # convert to arrays in order to apply standard functions\n",
    "    \n",
    "    # base case\n",
    "    if card(a_arr)==0 or card(b_arr)==0 or l<2:\n",
    "        return fact(l-1)\n",
    "    \n",
    "    # recursion formula\n",
    "    if norm(a_arr)+norm(b_arr)==l-1:\n",
    "        if magn(a_arr)<l and magn(b_arr)<=l:\n",
    "            answer = 0\n",
    "            for i in range(2,min(l+1,len(b)+2)):\n",
    "                if b[i-2] > 0:\n",
    "                    answer += (i-1)*partialterm(l,i,b_arr)*Lambda(l-1,a,tuple(partial(i,b)))\n",
    "            return l*answer // (l-magn(a_arr))\n",
    "\n",
    "        elif magn(a_arr)<=l and magn(b_arr)<l:\n",
    "            answer = 0\n",
    "            for i in range(2,min(l+1,len(a)+2)):\n",
    "                if a[i-2] > 0:\n",
    "                    answer += (i-1)*partialterm(l,i,a_arr)*Lambda(l-1,b,tuple(partial(i,a)))\n",
    "            return l*answer//(l-magn(b_arr))\n",
    "    return 0\n",
    "\n",
    "# non-normalized coefficient of l-cycle in the product a*b\n",
    "cycle_coeff = lambda l,a,b: Lambda(l,a,b)//fact(l-1)"
   ]
  },
  {
   "cell_type": "code",
   "execution_count": 3,
   "metadata": {},
   "outputs": [
    {
     "data": {
      "text/plain": [
       "54"
      ]
     },
     "execution_count": 3,
     "metadata": {},
     "output_type": "execute_result"
    }
   ],
   "source": [
    "## lambda(9,[2,..],[1,0,0,0,1,...]) = 54\n",
    "cycle_coeff(9,\n",
    "            (2,0,0,0,0,0),\n",
    "            (1,0,0,0,1,0))"
   ]
  },
  {
   "cell_type": "markdown",
   "metadata": {},
   "source": [
    "#### Now extend coefficients from $\\ell$-cycles to general cycle types. "
   ]
  },
  {
   "cell_type": "code",
   "execution_count": 4,
   "metadata": {},
   "outputs": [],
   "source": [
    "def gen_cdecomp(a: tuple,c: tuple):\n",
    "    '''\n",
    "    Generates all c-decompositions of a as a list of pairs (A,A').\n",
    "    '''\n",
    "    answer = []\n",
    "    a_arr = np.array(a)\n",
    "    nu = np.nonzero(c)[0][0] +2 #smallest non-zero index\n",
    "    \n",
    "    # Create a generator for possible values of A:\n",
    "    intervals = [range(0,min(a[i],nu)*(i<nu)+1) for i in range(0,len(a))]\n",
    "    cart_prod = product(*intervals)\n",
    "    \n",
    "    \n",
    "    for A in cart_prod:\n",
    "        A_arr = np.array(A)\n",
    "        if magn(A_arr)<=nu:\n",
    "            answer.append((A,tuple(a_arr-A_arr)))\n",
    "        \n",
    "    return answer"
   ]
  },
  {
   "cell_type": "code",
   "execution_count": 5,
   "metadata": {
    "scrolled": true
   },
   "outputs": [
    {
     "data": {
      "text/plain": [
       "[((0, 0, 0, 0), (0, 1, 2, 3)),\n",
       " ((0, 0, 1, 0), (0, 1, 1, 3)),\n",
       " ((0, 1, 0, 0), (0, 0, 2, 3))]"
      ]
     },
     "execution_count": 5,
     "metadata": {},
     "output_type": "execute_result"
    }
   ],
   "source": [
    "gen_cdecomp((0,1,2,3),(0,0,2,1))"
   ]
  },
  {
   "cell_type": "markdown",
   "metadata": {},
   "source": [
    "Now define a general procedure for computing coefficients"
   ]
  },
  {
   "cell_type": "code",
   "execution_count": 6,
   "metadata": {},
   "outputs": [],
   "source": [
    "@lru_cache(maxsize=1000000)\n",
    "def Lambda2(c,a,b):\n",
    "    '''\n",
    "    Computes coefficient of $[c]$ in product $[a]\\cdot [b]$\n",
    "    '''\n",
    "    if norm(a) + norm(b) != norm(c):\n",
    "        return 0\n",
    "    \n",
    "    if sum(a)==0 and sum(b)==0 and sum(c) == 0:\n",
    "        return 1\n",
    "\n",
    "    nu = np.nonzero(c)[0][0] +2\n",
    "    a_decomps = gen_cdecomp(a,c)\n",
    "    b_decomps = gen_cdecomp(b,c)\n",
    "    \n",
    "    answer = 0\n",
    "    for A1,A2 in a_decomps:\n",
    "        for B1,B2 in b_decomps:\n",
    "            if norm(np.array(A1))+norm(np.array(B1)) == nu-1:\n",
    "                answer += cycle_coeff(nu,A1,B1) * Lambda2(tuple(c - np.eye(1,len(c),nu-2,dtype=int)[0]), A2,B2)\n",
    "    return answer"
   ]
  },
  {
   "cell_type": "code",
   "execution_count": 7,
   "metadata": {},
   "outputs": [
    {
     "data": {
      "text/plain": [
       "12"
      ]
     },
     "execution_count": 7,
     "metadata": {},
     "output_type": "execute_result"
    }
   ],
   "source": [
    "### lambda([1,1,1], [3,0,...], [3,0,...]) = 12\n",
    "Lambda2((1,1,1),(3,),(3,))"
   ]
  },
  {
   "cell_type": "markdown",
   "metadata": {},
   "source": [
    "## Generate tables of monomials"
   ]
  },
  {
   "cell_type": "markdown",
   "metadata": {},
   "source": [
    "To compute the product $a\\cdot b$ of basis elements we cycle through all cycletypes of relevant norm and compute the coefficient."
   ]
  },
  {
   "cell_type": "code",
   "execution_count": 8,
   "metadata": {},
   "outputs": [],
   "source": [
    "def multiply_basis(a: tuple,b: tuple):\n",
    "    '''\n",
    "    Given two basis elements a and b, compute the product a*b as a dictionary.\n",
    "    '''\n",
    "    product = {}\n",
    "    \n",
    "    for cycle_type in generate_cycletypes(norm(a)+norm(b)):\n",
    "        if coeff := Lambda2(cycle_type,a,b):\n",
    "            product[cycle_type] = coeff\n",
    "    \n",
    "    return product"
   ]
  },
  {
   "cell_type": "code",
   "execution_count": 9,
   "metadata": {
    "scrolled": true
   },
   "outputs": [
    {
     "name": "stdout",
     "output_type": "stream",
     "text": [
      "Multiply x*y: \n",
      " {(3,): 3, (1, 1): 3, (0, 0, 1): 2}\n",
      "Multiply y*z: \n",
      " {(5,): 10, (3, 1): 9, (2, 0, 1): 6, (1, 2): 9, (1, 0, 0, 1): 5, (0, 1, 1): 6, (0, 0, 0, 0, 1): 3}\n",
      "multiply gamma_3 and gamma_4: \n",
      " {(0, 1, 1): 1, (0, 0, 0, 0, 1): 6}\n"
     ]
    }
   ],
   "source": [
    "print(\"Multiply x*y:\", \"\\n\",\n",
    "      multiply_basis((1,),(2,)))\n",
    "\n",
    "print(\"Multiply y*z:\", \"\\n\",\n",
    "      multiply_basis((2,),(3,)))\n",
    "\n",
    "print(\"multiply gamma_3 and gamma_4:\", \"\\n\",\n",
    "     multiply_basis((0,1),(0,0,1)))"
   ]
  },
  {
   "cell_type": "markdown",
   "metadata": {},
   "source": [
    "#### Once we can multiply basis elements we can extend linearly to general elements"
   ]
  },
  {
   "cell_type": "code",
   "execution_count": 10,
   "metadata": {},
   "outputs": [],
   "source": [
    "def multiply_generator(generator: tuple, g: dict, d: int=100):\n",
    "    product = {}\n",
    "    \n",
    "    for basis1, coeff1 in g.items():\n",
    "        for basis2, coeff2 in multiply_basis(generator,basis1).items():\n",
    "            if magn(basis2) > d:\n",
    "                pass\n",
    "            elif basis2 in product.keys():\n",
    "                product[basis2] += coeff1*coeff2\n",
    "            else:\n",
    "                product[basis2] = coeff1*coeff2\n",
    "    return product"
   ]
  },
  {
   "cell_type": "code",
   "execution_count": 11,
   "metadata": {
    "scrolled": true
   },
   "outputs": [
    {
     "name": "stdout",
     "output_type": "stream",
     "text": [
      "Compute xy^2 as y * xy:\n",
      "{(5,): 30, (3, 1): 36, (2, 0, 1): 44, (1, 2): 45, (1, 0, 0, 1): 55, (0, 1, 1): 60, (0, 0, 0, 0, 1): 81}\n",
      "\n",
      "\n",
      "Multiply gamma_3 with gamma_3 and gamma_4:\n",
      "{(0, 2, 1): 2, (0, 1, 0, 0, 1): 12, (0, 0, 1, 1): 5, (0, 0, 0, 0, 0, 0, 1): 64}\n"
     ]
    }
   ],
   "source": [
    "print(\"Compute xy^2 as y * xy:\")\n",
    "print(multiply_generator((2,), {(3,): 3, (1, 1): 3, (0, 0, 1): 2}))\n",
    "\n",
    "print(\"\\n\")\n",
    "print(\"Multiply gamma_3 with gamma_3 and gamma_4:\")\n",
    "print(multiply_generator((0,1), {(0, 1, 1): 1, (0, 0, 0, 0, 1): 6}))"
   ]
  },
  {
   "cell_type": "markdown",
   "metadata": {},
   "source": [
    "#### Define a procedure for generating all monomials"
   ]
  },
  {
   "cell_type": "code",
   "execution_count": 12,
   "metadata": {
    "scrolled": true
   },
   "outputs": [],
   "source": [
    "def generate_monomials(d=12,use_cycles=False):\n",
    "    # Whether to use cycle generators or transpositions as generators.\n",
    "    if use_cycles:\n",
    "        generators = [(c,(0,)*i + (1,)) for i,c in enumerate(alphabet[0:d//2])] #cycle generators\n",
    "    else:\n",
    "        generators = [(c,(i+1,)) for i,c in enumerate(alphabet[0:d//2])] #(a_2,0,0,...)\n",
    "    \n",
    "    # The list of monomials is initialized as a list of the generators\n",
    "    monomials = [(i,{j:1}) for i,j in generators]\n",
    "    uniquenames = set([c for c in alphabet[0:d//2]])\n",
    "    \n",
    "    # Repeatedly multiply each generator on list of monomials and add to list of monomials\n",
    "    for name1, generator in tqdm(generators):\n",
    "        for name2,g in monomials:\n",
    "            if norm(list(g.keys())[0]) + norm(generator) <= d:\n",
    "                newname = \"\".join(sorted(name1+name2))\n",
    "                if newname not in uniquenames:\n",
    "                    uniquenames.add(newname)\n",
    "                    prod = multiply_generator(generator, g,d)\n",
    "                    if prod != {}:\n",
    "                        monomials.append((newname, prod))\n",
    "\n",
    "    return monomials"
   ]
  },
  {
   "cell_type": "code",
   "execution_count": 13,
   "metadata": {
    "scrolled": true
   },
   "outputs": [
    {
     "data": {
      "application/vnd.jupyter.widget-view+json": {
       "model_id": "526d2575925d4446b46cbc871ab307b0",
       "version_major": 2,
       "version_minor": 0
      },
      "text/plain": [
       "HBox(children=(HTML(value=''), FloatProgress(value=0.0, max=7.0), HTML(value='')))"
      ]
     },
     "metadata": {},
     "output_type": "display_data"
    },
    {
     "name": "stdout",
     "output_type": "stream",
     "text": [
      "\n",
      "432\n"
     ]
    },
    {
     "data": {
      "text/plain": [
       "[('a', {(1,): 1}),\n",
       " ('b', {(0, 1): 1}),\n",
       " ('c', {(0, 0, 1): 1}),\n",
       " ('d', {(0, 0, 0, 1): 1}),\n",
       " ('e', {(0, 0, 0, 0, 1): 1}),\n",
       " ('f', {(0, 0, 0, 0, 0, 1): 1}),\n",
       " ('g', {(0, 0, 0, 0, 0, 0, 1): 1}),\n",
       " ('aa', {(2,): 2, (0, 1): 3}),\n",
       " ('ab', {(1, 1): 1, (0, 0, 1): 4}),\n",
       " ('ac', {(1, 0, 1): 1, (0, 0, 0, 1): 5}),\n",
       " ('ad', {(1, 0, 0, 1): 1, (0, 0, 0, 0, 1): 6}),\n",
       " ('ae', {(1, 0, 0, 0, 1): 1, (0, 0, 0, 0, 0, 1): 7}),\n",
       " ('af', {(1, 0, 0, 0, 0, 1): 1, (0, 0, 0, 0, 0, 0, 1): 8}),\n",
       " ('ag', {(1, 0, 0, 0, 0, 0, 1): 1, (0, 0, 0, 0, 0, 0, 0, 1): 9}),\n",
       " ('aaa', {(3,): 6, (1, 1): 9, (0, 0, 1): 16}),\n",
       " ('aab', {(2, 1): 2, (1, 0, 1): 8, (0, 2): 6, (0, 0, 0, 1): 25}),\n",
       " ('aac', {(2, 0, 1): 2, (1, 0, 0, 1): 10, (0, 1, 1): 3, (0, 0, 0, 0, 1): 36}),\n",
       " ('aad',\n",
       "  {(2, 0, 0, 1): 2,\n",
       "   (1, 0, 0, 0, 1): 12,\n",
       "   (0, 1, 0, 1): 3,\n",
       "   (0, 0, 0, 0, 0, 1): 49}),\n",
       " ('aae',\n",
       "  {(2, 0, 0, 0, 1): 2,\n",
       "   (1, 0, 0, 0, 0, 1): 14,\n",
       "   (0, 1, 0, 0, 1): 3,\n",
       "   (0, 0, 0, 0, 0, 0, 1): 64}),\n",
       " ('aaf',\n",
       "  {(2, 0, 0, 0, 0, 1): 2,\n",
       "   (1, 0, 0, 0, 0, 0, 1): 16,\n",
       "   (0, 1, 0, 0, 0, 1): 3,\n",
       "   (0, 0, 0, 0, 0, 0, 0, 1): 81}),\n",
       " ('aag',\n",
       "  {(2, 0, 0, 0, 0, 0, 1): 2,\n",
       "   (1, 0, 0, 0, 0, 0, 0, 1): 18,\n",
       "   (0, 1, 0, 0, 0, 0, 1): 3,\n",
       "   (0, 0, 0, 0, 0, 0, 0, 0, 1): 100}),\n",
       " ('aaaa',\n",
       "  {(4,): 24, (2, 1): 36, (1, 0, 1): 64, (0, 2): 54, (0, 0, 0, 1): 125}),\n",
       " ('aaab',\n",
       "  {(3, 1): 6,\n",
       "   (2, 0, 1): 24,\n",
       "   (1, 2): 18,\n",
       "   (1, 0, 0, 1): 75,\n",
       "   (0, 1, 1): 52,\n",
       "   (0, 0, 0, 0, 1): 216}),\n",
       " ('aaac',\n",
       "  {(3, 0, 1): 6,\n",
       "   (2, 0, 0, 1): 30,\n",
       "   (1, 1, 1): 9,\n",
       "   (1, 0, 0, 0, 1): 108,\n",
       "   (0, 0, 2): 32,\n",
       "   (0, 1, 0, 1): 45,\n",
       "   (0, 0, 0, 0, 0, 1): 343})]"
      ]
     },
     "execution_count": 13,
     "metadata": {},
     "output_type": "execute_result"
    }
   ],
   "source": [
    "use_cycles = True\n",
    "monomials = generate_monomials(d = 15, use_cycles=use_cycles)\n",
    "print(len(monomials))\n",
    "monomials[0:24]"
   ]
  },
  {
   "cell_type": "markdown",
   "metadata": {},
   "source": [
    "#### Format the monomials and sort them by norm"
   ]
  },
  {
   "cell_type": "code",
   "execution_count": 14,
   "metadata": {},
   "outputs": [],
   "source": [
    "## Create sorted dictionary of monomials\n",
    "sorted_monoms = {i:[] for i in range(1,16)}\n",
    "for name, dic in monomials:\n",
    "    n = get_norm(name)\n",
    "    sorted_monoms[n] += [(name, dic)]"
   ]
  },
  {
   "cell_type": "code",
   "execution_count": 15,
   "metadata": {
    "scrolled": true
   },
   "outputs": [
    {
     "data": {
      "text/plain": [
       "[('e', {(0, 0, 0, 0, 1): 1}),\n",
       " ('ad', {(1, 0, 0, 1): 1, (0, 0, 0, 0, 1): 6}),\n",
       " ('aac', {(2, 0, 1): 2, (1, 0, 0, 1): 10, (0, 1, 1): 3, (0, 0, 0, 0, 1): 36}),\n",
       " ('aaab',\n",
       "  {(3, 1): 6,\n",
       "   (2, 0, 1): 24,\n",
       "   (1, 2): 18,\n",
       "   (1, 0, 0, 1): 75,\n",
       "   (0, 1, 1): 52,\n",
       "   (0, 0, 0, 0, 1): 216}),\n",
       " ('aaaaa',\n",
       "  {(5,): 120,\n",
       "   (3, 1): 180,\n",
       "   (2, 0, 1): 320,\n",
       "   (1, 2): 270,\n",
       "   (1, 0, 0, 1): 625,\n",
       "   (0, 1, 1): 480,\n",
       "   (0, 0, 0, 0, 1): 1296}),\n",
       " ('bc', {(0, 1, 1): 1, (0, 0, 0, 0, 1): 6}),\n",
       " ('abb', {(1, 2): 2, (1, 0, 0, 1): 5, (0, 1, 1): 8, (0, 0, 0, 0, 1): 36})]"
      ]
     },
     "execution_count": 15,
     "metadata": {},
     "output_type": "execute_result"
    }
   ],
   "source": [
    "## Get all monomials of norm 5\n",
    "sorted_monoms[5]"
   ]
  },
  {
   "cell_type": "markdown",
   "metadata": {},
   "source": [
    "## Compute relations"
   ]
  },
  {
   "cell_type": "code",
   "execution_count": 16,
   "metadata": {},
   "outputs": [],
   "source": [
    "from sympy import *"
   ]
  },
  {
   "cell_type": "code",
   "execution_count": 17,
   "metadata": {},
   "outputs": [],
   "source": [
    "# Define a function which eliminates elements with too large support and finds relations\n",
    "def relations(d=9, use_cycles = False):\n",
    "    '''\n",
    "    Returns the relations between monomials of generators for each norm\n",
    "    '''\n",
    "    \n",
    "    # Create a string of allowed symbols in monomial names\n",
    "    if use_cycles:\n",
    "        allowed_generators = alphabet[0:d//2] + \"^1234567890\" #Generators that vanish in lower dimension d.\n",
    "    else:\n",
    "        allowed_generators = alphabet[0:d//2] + \"^1234567890\" #Generators that vanish in lower dimension d.\n",
    "    \n",
    "    output = []\n",
    "    \n",
    "    for n in range(2,d+1):\n",
    "        key_names = set([])\n",
    "        monoms = []\n",
    "\n",
    "        # Get the relevant monomials and basis elements in A(d) of norm n.\n",
    "        for name, dic in sorted_monoms[n]:\n",
    "            ## Consider only monomials of _non-zero_ generators:\n",
    "            monom_non_triv = True\n",
    "            for char in name:\n",
    "                if char not in allowed_generators:\n",
    "                    monom_non_triv = False\n",
    "            if monom_non_triv:\n",
    "                monoms.append((name,dic))\n",
    "                # Take all summands with valid support\n",
    "                for element in dic.keys():\n",
    "                    if magn(element) <= d: #Sort out elements with support equal to d.\n",
    "                        key_names.add(element)\n",
    "        key_names = sorted(list(key_names))\n",
    "        monoms = sorted(monoms)\n",
    "        \n",
    "        # Create a matrix with coefficients from the monomial equations\n",
    "        A = np.zeros((len(key_names),len(monoms)), dtype = int)\n",
    "\n",
    "        for i, key in enumerate(key_names):\n",
    "            for j, equation in enumerate(monoms):\n",
    "                if key in (equation[1]).keys():\n",
    "                    A[i,j] = (equation[1])[key]\n",
    "        \n",
    "        output.append(([m[0] for m in monoms], Matrix(A).nullspace()))\n",
    "    return output"
   ]
  },
  {
   "cell_type": "code",
   "execution_count": 18,
   "metadata": {
    "scrolled": true
   },
   "outputs": [],
   "source": [
    "def relations_latex_output(d=8, use_cycles = False):\n",
    "    L = relations(d, use_cycles)\n",
    "    for n, (names, null_space) in enumerate(L):\n",
    "        if len(null_space) and n+2!=d:\n",
    "            print(\"Norm\", n+2)\n",
    "            print(r\"\\[ \\begin{bmatrix}\")\n",
    "            s = \"\"\n",
    "            for x in names:\n",
    "                s += format_monomname(x) + \" & \"\n",
    "            print(s[:-2] + r\"\\\\\")\n",
    "            for i,row in enumerate(null_space):\n",
    "                rel = \"\"\n",
    "                common_denom = ilcm(*tuple(x.q for x in row))\n",
    "                for x in common_denom * row:\n",
    "                    rel += str(x) + \" & \"\n",
    "                print(rel[:-2] + r\"\\\\\")\n",
    "            print(r\"\\end{bmatrix} \\]\")\n",
    "        elif n+2==d:\n",
    "            print(\"monomials in norm\", n+2)\n",
    "            print(r\"\\[\", \"\\n\",\n",
    "                  \"\".join(format_monomname(x)+\", \" for x in names)[:-2], \"\\n\",\n",
    "                  r\"\\]\")"
   ]
  },
  {
   "cell_type": "code",
   "execution_count": 19,
   "metadata": {
    "scrolled": true
   },
   "outputs": [
    {
     "name": "stdout",
     "output_type": "stream",
     "text": [
      "\\section*{relations in A(4)}\n",
      "Norm 3\n",
      "\\[ \\begin{bmatrix}\n",
      "a^{3} & ab \\\\\n",
      "-1 & 4 \\\\\n",
      "\\end{bmatrix} \\]\n",
      "monomials in norm 4\n",
      "\\[ \n",
      " a^{4}, a^{2}b, b^{2} \n",
      " \\]\n",
      "\n",
      "\\section*{relations in A(5)}\n",
      "Norm 4\n",
      "\\[ \\begin{bmatrix}\n",
      "a^{4} & a^{2}b & b^{2} \\\\\n",
      "-1 & 5 & 0 \\\\\n",
      "-1 & 0 & 25 \\\\\n",
      "\\end{bmatrix} \\]\n",
      "monomials in norm 5\n",
      "\\[ \n",
      " a^{5}, a^{3}b, ab^{2} \n",
      " \\]\n",
      "\n",
      "\\section*{relations in A(6)}\n",
      "Norm 4\n",
      "\\[ \\begin{bmatrix}\n",
      "a^{4} & a^{2}b & ac & b^{2} \\\\\n",
      "1 & -11 & 24 & 6 \\\\\n",
      "\\end{bmatrix} \\]\n",
      "Norm 5\n",
      "\\[ \\begin{bmatrix}\n",
      "a^{5} & a^{3}b & a^{2}c & ab^{2} & bc \\\\\n",
      "-1 & 6 & 0 & 0 & 0 \\\\\n",
      "-1 & 0 & 36 & 0 & 0 \\\\\n",
      "-1 & 0 & 0 & 36 & 0 \\\\\n",
      "-1 & 0 & 0 & 0 & 216 \\\\\n",
      "\\end{bmatrix} \\]\n",
      "monomials in norm 6\n",
      "\\[ \n",
      " a^{6}, a^{4}b, a^{3}c, a^{2}b^{2}, abc, b^{3}, c^{2} \n",
      " \\]\n",
      "\n",
      "\\section*{relations in A(7)}\n",
      "Norm 5\n",
      "\\[ \\begin{bmatrix}\n",
      "a^{5} & a^{3}b & a^{2}c & ab^{2} & bc \\\\\n",
      "1 & -13 & 28 & 14 & 0 \\\\\n",
      "11 & -129 & 280 & 0 & 588 \\\\\n",
      "\\end{bmatrix} \\]\n",
      "Norm 6\n",
      "\\[ \\begin{bmatrix}\n",
      "a^{6} & a^{4}b & a^{3}c & a^{2}b^{2} & abc & b^{3} & c^{2} \\\\\n",
      "-1 & 7 & 0 & 0 & 0 & 0 & 0 \\\\\n",
      "-1 & 0 & 49 & 0 & 0 & 0 & 0 \\\\\n",
      "-1 & 0 & 0 & 49 & 0 & 0 & 0 \\\\\n",
      "-1 & 0 & 0 & 0 & 343 & 0 & 0 \\\\\n",
      "-1 & 0 & 0 & 0 & 0 & 343 & 0 \\\\\n",
      "-1 & 0 & 0 & 0 & 0 & 0 & 2401 \\\\\n",
      "\\end{bmatrix} \\]\n",
      "monomials in norm 7\n",
      "\\[ \n",
      " a^{7}, a^{5}b, a^{4}c, a^{3}b^{2}, a^{2}bc, ab^{3}, ac^{2}, b^{2}c \n",
      " \\]\n",
      "\n",
      "\\section*{relations in A(8)}\n",
      "Norm 5\n",
      "\\[ \\begin{bmatrix}\n",
      "a^{5} & a^{3}b & a^{2}c & ab^{2} & ad & bc \\\\\n",
      "-1 & 21 & -92 & -54 & 240 & 96 \\\\\n",
      "\\end{bmatrix} \\]\n",
      "Norm 6\n",
      "\\[ \\begin{bmatrix}\n",
      "a^{6} & a^{4}b & a^{3}c & a^{2}b^{2} & a^{2}d & abc & b^{3} & bd & c^{2} \\\\\n",
      "1 & -15 & 32 & 24 & 0 & 0 & 0 & 0 & 0 \\\\\n",
      "5 & -51 & -80 & 0 & 960 & 384 & 0 & 0 & 0 \\\\\n",
      "-1 & -9 & 304 & 0 & -1440 & 0 & 96 & 0 & 0 \\\\\n",
      "1 & -87 & 1232 & 0 & -5472 & 0 & 0 & 5376 & 0 \\\\\n",
      "17 & -135 & -784 & 0 & 5760 & 0 & 0 & 0 & 3584 \\\\\n",
      "\\end{bmatrix} \\]\n",
      "Norm 7\n",
      "\\[ \\begin{bmatrix}\n",
      "a^{7} & a^{5}b & a^{4}c & a^{3}b^{2} & a^{3}d & a^{2}bc & ab^{3} & abd & ac^{2} & b^{2}c & cd \\\\\n",
      "-1 & 8 & 0 & 0 & 0 & 0 & 0 & 0 & 0 & 0 & 0 \\\\\n",
      "-1 & 0 & 64 & 0 & 0 & 0 & 0 & 0 & 0 & 0 & 0 \\\\\n",
      "-1 & 0 & 0 & 64 & 0 & 0 & 0 & 0 & 0 & 0 & 0 \\\\\n",
      "-1 & 0 & 0 & 0 & 512 & 0 & 0 & 0 & 0 & 0 & 0 \\\\\n",
      "-1 & 0 & 0 & 0 & 0 & 512 & 0 & 0 & 0 & 0 & 0 \\\\\n",
      "-1 & 0 & 0 & 0 & 0 & 0 & 512 & 0 & 0 & 0 & 0 \\\\\n",
      "-1 & 0 & 0 & 0 & 0 & 0 & 0 & 4096 & 0 & 0 & 0 \\\\\n",
      "-1 & 0 & 0 & 0 & 0 & 0 & 0 & 0 & 4096 & 0 & 0 \\\\\n",
      "-1 & 0 & 0 & 0 & 0 & 0 & 0 & 0 & 0 & 4096 & 0 \\\\\n",
      "-1 & 0 & 0 & 0 & 0 & 0 & 0 & 0 & 0 & 0 & 32768 \\\\\n",
      "\\end{bmatrix} \\]\n",
      "monomials in norm 8\n",
      "\\[ \n",
      " a^{8}, a^{6}b, a^{5}c, a^{4}b^{2}, a^{4}d, a^{3}bc, a^{2}b^{3}, a^{2}bd, a^{2}c^{2}, ab^{2}c, acd, b^{4}, b^{2}d, bc^{2}, d^{2} \n",
      " \\]\n",
      "\n",
      "\\section*{relations in A(9)}\n",
      "Norm 6\n",
      "\\[ \\begin{bmatrix}\n",
      "a^{6} & a^{4}b & a^{3}c & a^{2}b^{2} & a^{2}d & abc & b^{3} & bd & c^{2} \\\\\n",
      "-1 & 24 & -104 & -87 & 270 & 216 & 18 & 0 & 0 \\\\\n",
      "-11 & 258 & -1120 & -837 & 2910 & 1488 & 0 & 2160 & 864 \\\\\n",
      "\\end{bmatrix} \\]\n",
      "Norm 7\n",
      "\\[ \\begin{bmatrix}\n",
      "a^{7} & a^{5}b & a^{4}c & a^{3}b^{2} & a^{3}d & a^{2}bc & ab^{3} & abd & ac^{2} & b^{2}c & cd \\\\\n",
      "1 & -17 & 36 & 36 & 0 & 0 & 0 & 0 & 0 & 0 & 0 \\\\\n",
      "1 & -11 & -30 & 0 & 270 & 162 & 0 & 0 & 0 & 0 & 0 \\\\\n",
      "1 & -29 & 276 & 0 & -1080 & 0 & 216 & 0 & 0 & 0 & 0 \\\\\n",
      "251 & -3895 & 16284 & 0 & -50328 & 0 & 0 & 326592 & 0 & 0 & 0 \\\\\n",
      "59 & -439 & -4836 & 0 & 32040 & 0 & 0 & 0 & 36288 & 0 & 0 \\\\\n",
      "37 & -1001 & 9636 & 0 & -37800 & 0 & 0 & 0 & 0 & 46656 & 0 \\\\\n",
      "85 & -857 & -2652 & 0 & 26712 & 0 & 0 & 0 & 0 & 0 & 373248 \\\\\n",
      "\\end{bmatrix} \\]\n",
      "Norm 8\n",
      "\\[ \\begin{bmatrix}\n",
      "a^{8} & a^{6}b & a^{5}c & a^{4}b^{2} & a^{4}d & a^{3}bc & a^{2}b^{3} & a^{2}bd & a^{2}c^{2} & ab^{2}c & acd & b^{4} & b^{2}d & bc^{2} & d^{2} \\\\\n",
      "-1 & 9 & 0 & 0 & 0 & 0 & 0 & 0 & 0 & 0 & 0 & 0 & 0 & 0 & 0 \\\\\n",
      "-1 & 0 & 81 & 0 & 0 & 0 & 0 & 0 & 0 & 0 & 0 & 0 & 0 & 0 & 0 \\\\\n",
      "-1 & 0 & 0 & 81 & 0 & 0 & 0 & 0 & 0 & 0 & 0 & 0 & 0 & 0 & 0 \\\\\n",
      "-1 & 0 & 0 & 0 & 729 & 0 & 0 & 0 & 0 & 0 & 0 & 0 & 0 & 0 & 0 \\\\\n",
      "-1 & 0 & 0 & 0 & 0 & 729 & 0 & 0 & 0 & 0 & 0 & 0 & 0 & 0 & 0 \\\\\n",
      "-1 & 0 & 0 & 0 & 0 & 0 & 729 & 0 & 0 & 0 & 0 & 0 & 0 & 0 & 0 \\\\\n",
      "-1 & 0 & 0 & 0 & 0 & 0 & 0 & 6561 & 0 & 0 & 0 & 0 & 0 & 0 & 0 \\\\\n",
      "-1 & 0 & 0 & 0 & 0 & 0 & 0 & 0 & 6561 & 0 & 0 & 0 & 0 & 0 & 0 \\\\\n",
      "-1 & 0 & 0 & 0 & 0 & 0 & 0 & 0 & 0 & 6561 & 0 & 0 & 0 & 0 & 0 \\\\\n",
      "-1 & 0 & 0 & 0 & 0 & 0 & 0 & 0 & 0 & 0 & 59049 & 0 & 0 & 0 & 0 \\\\\n",
      "-1 & 0 & 0 & 0 & 0 & 0 & 0 & 0 & 0 & 0 & 0 & 6561 & 0 & 0 & 0 \\\\\n",
      "-1 & 0 & 0 & 0 & 0 & 0 & 0 & 0 & 0 & 0 & 0 & 0 & 59049 & 0 & 0 \\\\\n",
      "-1 & 0 & 0 & 0 & 0 & 0 & 0 & 0 & 0 & 0 & 0 & 0 & 0 & 59049 & 0 \\\\\n",
      "-1 & 0 & 0 & 0 & 0 & 0 & 0 & 0 & 0 & 0 & 0 & 0 & 0 & 0 & 531441 \\\\\n",
      "\\end{bmatrix} \\]\n",
      "monomials in norm 9\n",
      "\\[ \n",
      " a^{9}, a^{7}b, a^{6}c, a^{5}b^{2}, a^{5}d, a^{4}bc, a^{3}b^{3}, a^{3}bd, a^{3}c^{2}, a^{2}b^{2}c, a^{2}cd, ab^{4}, ab^{2}d, abc^{2}, ad^{2}, b^{3}c, bcd, c^{3} \n",
      " \\]\n",
      "\n",
      "\\section*{relations in A(10)}\n",
      "Norm 6\n",
      "\\[ \\begin{bmatrix}\n",
      "a^{6} & a^{4}b & a^{3}c & a^{2}b^{2} & a^{2}d & abc & ae & b^{3} & bd & c^{2} \\\\\n",
      "1 & -34 & 224 & 207 & -1170 & -1136 & 3360 & -108 & 1200 & 480 \\\\\n",
      "\\end{bmatrix} \\]\n",
      "Norm 7\n",
      "\\[ \\begin{bmatrix}\n",
      "a^{7} & a^{5}b & a^{4}c & a^{3}b^{2} & a^{3}d & a^{2}bc & a^{2}e & ab^{3} & abd & ac^{2} & b^{2}c & be & cd \\\\\n",
      "-1 & 27 & -116 & -126 & 300 & 360 & 0 & 60 & 0 & 0 & 0 & 0 & 0 \\\\\n",
      "-4 & 73 & 76 & -99 & -3150 & -2440 & 16800 & 0 & 6000 & 2400 & 0 & 0 & 0 \\\\\n",
      "-3 & 86 & -468 & -393 & 1950 & 1420 & -4200 & 0 & 0 & 0 & 600 & 0 & 0 \\\\\n",
      "-7 & 229 & -1652 & -1152 & 9450 & 6080 & -29460 & 0 & -6600 & 0 & 0 & 21600 & 0 \\\\\n",
      "-59 & 1283 & -2404 & -3654 & -18450 & -10040 & 140700 & 0 & 46200 & 0 & 0 & 0 & 108000 \\\\\n",
      "\\end{bmatrix} \\]\n",
      "Norm 8\n",
      "\\[ \\begin{bmatrix}\n",
      "a^{8} & a^{6}b & a^{5}c & a^{4}b^{2} & a^{4}d & a^{3}bc & a^{3}e & a^{2}b^{3} & a^{2}bd & a^{2}c^{2} & ab^{2}c & abe & acd & b^{4} & b^{2}d & bc^{2} & ce & d^{2} \\\\\n",
      "1 & -19 & 40 & 50 & 0 & 0 & 0 & 0 & 0 & 0 & 0 & 0 & 0 & 0 & 0 & 0 & 0 & 0 \\\\\n",
      "7 & -83 & -320 & 0 & 2500 & 2000 & 0 & 0 & 0 & 0 & 0 & 0 & 0 & 0 & 0 & 0 & 0 & 0 \\\\\n",
      "13 & -297 & 2120 & 0 & -7500 & 0 & 0 & 3000 & 0 & 0 & 0 & 0 & 0 & 0 & 0 & 0 & 0 & 0 \\\\\n",
      "21 & -249 & 40 & 0 & -5500 & 0 & 60000 & 0 & 30000 & 0 & 0 & 0 & 0 & 0 & 0 & 0 & 0 & 0 \\\\\n",
      "29 & -201 & -3040 & 0 & 12500 & 0 & 60000 & 0 & 0 & 30000 & 0 & 0 & 0 & 0 & 0 & 0 & 0 & 0 \\\\\n",
      "-11 & -441 & 7360 & 0 & 17500 & 0 & -420000 & 0 & 0 & 0 & 60000 & 0 & 0 & 0 & 0 & 0 & 0 & 0 \\\\\n",
      "-31 & -561 & 12560 & 0 & 32000 & 0 & -813000 & 0 & 0 & 0 & 0 & 1080000 & 0 & 0 & 0 & 0 & 0 & 0 \\\\\n",
      "211 & -1734 & -14360 & 0 & 32125 & 0 & 603750 & 0 & 0 & 0 & 0 & 0 & 1350000 & 0 & 0 & 0 & 0 & 0 \\\\\n",
      "221 & -2049 & -1960 & 0 & -167500 & 0 & 1680000 & 0 & 0 & 0 & 0 & 0 & 0 & 30000 & 0 & 0 & 0 & 0 \\\\\n",
      "1457 & -14133 & -5320 & 0 & -1049500 & 0 & 10320000 & 0 & 0 & 0 & 0 & 0 & 0 & 0 & 2700000 & 0 & 0 & 0 \\\\\n",
      "-41 & 129 & 3910 & 0 & 33250 & 0 & -456000 & 0 & 0 & 0 & 0 & 0 & 0 & 0 & 0 & 135000 & 0 & 0 \\\\\n",
      "-2659 & 10671 & 191840 & 0 & 2835500 & 0 & -32592000 & 0 & 0 & 0 & 0 & 0 & 0 & 0 & 0 & 0 & 97200000 & 0 \\\\\n",
      "18341 & -142329 & -813160 & 0 & -8483500 & 0 & 122640000 & 0 & 0 & 0 & 0 & 0 & 0 & 0 & 0 & 0 & 0 & 243000000 \\\\\n",
      "\\end{bmatrix} \\]\n",
      "Norm 9\n",
      "\\[ \\begin{bmatrix}\n",
      "a^{9} & a^{7}b & a^{6}c & a^{5}b^{2} & a^{5}d & a^{4}bc & a^{4}e & a^{3}b^{3} & a^{3}bd & a^{3}c^{2} & a^{2}b^{2}c & a^{2}be & a^{2}cd & ab^{4} & ab^{2}d & abc^{2} & ace & ad^{2} & b^{3}c & b^{2}e & bcd & c^{3} & de \\\\\n",
      "-1 & 10 & 0 & 0 & 0 & 0 & 0 & 0 & 0 & 0 & 0 & 0 & 0 & 0 & 0 & 0 & 0 & 0 & 0 & 0 & 0 & 0 & 0 \\\\\n",
      "-1 & 0 & 100 & 0 & 0 & 0 & 0 & 0 & 0 & 0 & 0 & 0 & 0 & 0 & 0 & 0 & 0 & 0 & 0 & 0 & 0 & 0 & 0 \\\\\n",
      "-1 & 0 & 0 & 100 & 0 & 0 & 0 & 0 & 0 & 0 & 0 & 0 & 0 & 0 & 0 & 0 & 0 & 0 & 0 & 0 & 0 & 0 & 0 \\\\\n",
      "-1 & 0 & 0 & 0 & 1000 & 0 & 0 & 0 & 0 & 0 & 0 & 0 & 0 & 0 & 0 & 0 & 0 & 0 & 0 & 0 & 0 & 0 & 0 \\\\\n",
      "-1 & 0 & 0 & 0 & 0 & 1000 & 0 & 0 & 0 & 0 & 0 & 0 & 0 & 0 & 0 & 0 & 0 & 0 & 0 & 0 & 0 & 0 & 0 \\\\\n",
      "-1 & 0 & 0 & 0 & 0 & 0 & 10000 & 0 & 0 & 0 & 0 & 0 & 0 & 0 & 0 & 0 & 0 & 0 & 0 & 0 & 0 & 0 & 0 \\\\\n",
      "-1 & 0 & 0 & 0 & 0 & 0 & 0 & 1000 & 0 & 0 & 0 & 0 & 0 & 0 & 0 & 0 & 0 & 0 & 0 & 0 & 0 & 0 & 0 \\\\\n",
      "-1 & 0 & 0 & 0 & 0 & 0 & 0 & 0 & 10000 & 0 & 0 & 0 & 0 & 0 & 0 & 0 & 0 & 0 & 0 & 0 & 0 & 0 & 0 \\\\\n",
      "-1 & 0 & 0 & 0 & 0 & 0 & 0 & 0 & 0 & 10000 & 0 & 0 & 0 & 0 & 0 & 0 & 0 & 0 & 0 & 0 & 0 & 0 & 0 \\\\\n",
      "-1 & 0 & 0 & 0 & 0 & 0 & 0 & 0 & 0 & 0 & 10000 & 0 & 0 & 0 & 0 & 0 & 0 & 0 & 0 & 0 & 0 & 0 & 0 \\\\\n",
      "-1 & 0 & 0 & 0 & 0 & 0 & 0 & 0 & 0 & 0 & 0 & 100000 & 0 & 0 & 0 & 0 & 0 & 0 & 0 & 0 & 0 & 0 & 0 \\\\\n",
      "-1 & 0 & 0 & 0 & 0 & 0 & 0 & 0 & 0 & 0 & 0 & 0 & 100000 & 0 & 0 & 0 & 0 & 0 & 0 & 0 & 0 & 0 & 0 \\\\\n",
      "-1 & 0 & 0 & 0 & 0 & 0 & 0 & 0 & 0 & 0 & 0 & 0 & 0 & 10000 & 0 & 0 & 0 & 0 & 0 & 0 & 0 & 0 & 0 \\\\\n",
      "-1 & 0 & 0 & 0 & 0 & 0 & 0 & 0 & 0 & 0 & 0 & 0 & 0 & 0 & 100000 & 0 & 0 & 0 & 0 & 0 & 0 & 0 & 0 \\\\\n",
      "-1 & 0 & 0 & 0 & 0 & 0 & 0 & 0 & 0 & 0 & 0 & 0 & 0 & 0 & 0 & 100000 & 0 & 0 & 0 & 0 & 0 & 0 & 0 \\\\\n",
      "-1 & 0 & 0 & 0 & 0 & 0 & 0 & 0 & 0 & 0 & 0 & 0 & 0 & 0 & 0 & 0 & 1000000 & 0 & 0 & 0 & 0 & 0 & 0 \\\\\n",
      "-1 & 0 & 0 & 0 & 0 & 0 & 0 & 0 & 0 & 0 & 0 & 0 & 0 & 0 & 0 & 0 & 0 & 1000000 & 0 & 0 & 0 & 0 & 0 \\\\\n",
      "-1 & 0 & 0 & 0 & 0 & 0 & 0 & 0 & 0 & 0 & 0 & 0 & 0 & 0 & 0 & 0 & 0 & 0 & 100000 & 0 & 0 & 0 & 0 \\\\\n",
      "-1 & 0 & 0 & 0 & 0 & 0 & 0 & 0 & 0 & 0 & 0 & 0 & 0 & 0 & 0 & 0 & 0 & 0 & 0 & 1000000 & 0 & 0 & 0 \\\\\n",
      "-1 & 0 & 0 & 0 & 0 & 0 & 0 & 0 & 0 & 0 & 0 & 0 & 0 & 0 & 0 & 0 & 0 & 0 & 0 & 0 & 1000000 & 0 & 0 \\\\\n",
      "-1 & 0 & 0 & 0 & 0 & 0 & 0 & 0 & 0 & 0 & 0 & 0 & 0 & 0 & 0 & 0 & 0 & 0 & 0 & 0 & 0 & 1000000 & 0 \\\\\n",
      "-1 & 0 & 0 & 0 & 0 & 0 & 0 & 0 & 0 & 0 & 0 & 0 & 0 & 0 & 0 & 0 & 0 & 0 & 0 & 0 & 0 & 0 & 10000000 \\\\\n",
      "\\end{bmatrix} \\]\n",
      "monomials in norm 10\n",
      "\\[ \n",
      " a^{10}, a^{8}b, a^{7}c, a^{6}b^{2}, a^{6}d, a^{5}bc, a^{5}e, a^{4}b^{3}, a^{4}bd, a^{4}c^{2}, a^{3}b^{2}c, a^{3}be, a^{3}cd, a^{2}b^{4}, a^{2}b^{2}d, a^{2}bc^{2}, a^{2}ce, a^{2}d^{2}, ab^{3}c, ab^{2}e, abcd, ac^{3}, ade, b^{5}, b^{3}d, b^{2}c^{2}, bce, bd^{2}, c^{2}d, e^{2} \n",
      " \\]\n",
      "\n"
     ]
    }
   ],
   "source": [
    "for i in range(4,11):\n",
    "    print(r\"\\section*{relations in A(\"+str(i)+\")}\")\n",
    "    relations_latex_output(i, use_cycles)\n",
    "    print(\"\")"
   ]
  },
  {
   "cell_type": "code",
   "execution_count": 20,
   "metadata": {},
   "outputs": [],
   "source": [
    "def compute_minimal_relations(d):\n",
    "    sufficient_relations = relations(d)[(d-1)//2:]\n",
    "    \n",
    "    name_tables = []\n",
    "    lifted_relations = []\n",
    "    for names,A in sufficient_relations:\n",
    "        name_tables.append({name:i for i,name in enumerate(names)})\n",
    "        lifted_relations.append(Matrix(len(names),0,[]))\n",
    "    \n",
    "    for i,char in enumerate(alphabet):\n",
    "        for j, (names_lower, rels) in enumerate(sufficient_relations):\n",
    "            if i+j+1 < len(sufficient_relations):\n",
    "                names_higher = name_tables[i+j+1]\n",
    "                conversion_matrix = zeros(len(names_higher),len(names_lower))\n",
    "\n",
    "                for x,name in enumerate(names_lower):\n",
    "                    new_name = \"\".join(sorted(name+char))\n",
    "                    if new_name in names_higher:\n",
    "                        conversion_matrix[names_higher[new_name],x] = 1\n",
    "                \n",
    "                rels_lifted = []\n",
    "                for rel in rels:\n",
    "                    rels_lifted.append(conversion_matrix*rel)\n",
    "                lifted_relations[i+j+1] = lifted_relations[i+j+1].row_join(Matrix([rels_lifted]))\n",
    "    \n",
    "    L = []\n",
    "    for (m,A),B in zip(sufficient_relations,lifted_relations):\n",
    "        L.append(len(A)-B.rank())\n",
    "    print(\"relations from norm\", (d+3)//2, \"\\n\", L, \", sum:\", sum(L))"
   ]
  },
  {
   "cell_type": "code",
   "execution_count": 21,
   "metadata": {},
   "outputs": [
    {
     "name": "stdout",
     "output_type": "stream",
     "text": [
      "A(3):\n",
      "relations from norm 3 \n",
      " [1] , sum: 1\n",
      "A(4):\n",
      "relations from norm 3 \n",
      " [1, 2] , sum: 3\n",
      "A(5):\n",
      "relations from norm 4 \n",
      " [2, 1] , sum: 3\n",
      "A(6):\n",
      "relations from norm 4 \n",
      " [1, 3, 2] , sum: 6\n",
      "A(7):\n",
      "relations from norm 5 \n",
      " [2, 4, 1] , sum: 7\n",
      "A(8):\n",
      "relations from norm 5 \n",
      " [1, 4, 4, 2] , sum: 11\n",
      "A(9):\n",
      "relations from norm 6 \n",
      " [2, 5, 5, 1] , sum: 13\n",
      "A(10):\n",
      "relations from norm 6 \n",
      " [1, 4, 7, 4, 2] , sum: 18\n"
     ]
    }
   ],
   "source": [
    "for d in range(3,11):\n",
    "    print(\"A({}):\".format(d))\n",
    "    compute_minimal_relations(d)"
   ]
  }
 ],
 "metadata": {
  "kernelspec": {
   "display_name": "Python 3",
   "language": "python",
   "name": "python3"
  },
  "language_info": {
   "codemirror_mode": {
    "name": "ipython",
    "version": 3
   },
   "file_extension": ".py",
   "mimetype": "text/x-python",
   "name": "python",
   "nbconvert_exporter": "python",
   "pygments_lexer": "ipython3",
   "version": "3.8.5"
  }
 },
 "nbformat": 4,
 "nbformat_minor": 4
}
