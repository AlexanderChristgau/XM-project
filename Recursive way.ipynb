{
 "cells": [
  {
   "cell_type": "code",
   "execution_count": 1,
   "metadata": {},
   "outputs": [],
   "source": [
    "import numpy as np\n",
    "from math import factorial as fact\n",
    "from functools import lru_cache\n",
    "\n",
    "from utils import *"
   ]
  },
  {
   "cell_type": "code",
   "execution_count": 24,
   "metadata": {},
   "outputs": [],
   "source": [
    "@lru_cache(maxsize=100000)\n",
    "def Lambda(l,a,b):\n",
    "    a_arr, b_arr = np.array(a),np.array(b)\n",
    "    \n",
    "    if card(a_arr)==0 or card(b_arr)==0 or l<2:\n",
    "        return fact(l-1)\n",
    "    \n",
    "    \n",
    "    if norm(a_arr)+norm(b_arr)==l-1:\n",
    "        if magn(a_arr)<l and magn(b_arr)<=l:\n",
    "            answer = 0\n",
    "            for i in range(2,l+1):\n",
    "                if b[i-2] > 0:\n",
    "                    answer += l*(i-1)*partialterm(l,i,b_arr)*Lambda(l-1,a,tuple(partial(i,b)))\n",
    "            return answer//(l-magn(a_arr))\n",
    "\n",
    "        elif magn(a_arr)<=l and magn(b_arr)<l:\n",
    "            answer = 0\n",
    "            for i in range(2,l+1):\n",
    "                if a[i-2] > 0:\n",
    "                    answer += l*(i-1)*partialterm(l,i,a_arr)*Lambda(l-1,b,tuple(partial(i,a)))\n",
    "            return answer//(l-magn(b_arr))\n",
    "    return 0"
   ]
  },
  {
   "cell_type": "code",
   "execution_count": 21,
   "metadata": {},
   "outputs": [],
   "source": [
    "cycle_coeff = lambda l,a,b: Lambda(l,a,b)//fact(l-1)"
   ]
  },
  {
   "cell_type": "code",
   "execution_count": 26,
   "metadata": {},
   "outputs": [
    {
     "data": {
      "text/plain": [
       "54"
      ]
     },
     "execution_count": 26,
     "metadata": {},
     "output_type": "execute_result"
    }
   ],
   "source": [
    "## lambda(9,[2,..],[1,0,0,0,1,...]) = 54\n",
    "cycle_coeff(9,\n",
    "            (2,0,0,0,0,0,0,0,0),\n",
    "            (1,0,0,0,1,0,0,0,0))"
   ]
  },
  {
   "cell_type": "code",
   "execution_count": 27,
   "metadata": {},
   "outputs": [
    {
     "data": {
      "text/plain": [
       "CacheInfo(hits=4, misses=12, maxsize=100000, currsize=12)"
      ]
     },
     "execution_count": 27,
     "metadata": {},
     "output_type": "execute_result"
    }
   ],
   "source": [
    "Lambda.cache_info()"
   ]
  },
  {
   "cell_type": "code",
   "execution_count": null,
   "metadata": {},
   "outputs": [],
   "source": []
  }
 ],
 "metadata": {
  "kernelspec": {
   "display_name": "Python 3",
   "language": "python",
   "name": "python3"
  },
  "language_info": {
   "codemirror_mode": {
    "name": "ipython",
    "version": 3
   },
   "file_extension": ".py",
   "mimetype": "text/x-python",
   "name": "python",
   "nbconvert_exporter": "python",
   "pygments_lexer": "ipython3",
   "version": "3.8.5"
  }
 },
 "nbformat": 4,
 "nbformat_minor": 4
}
